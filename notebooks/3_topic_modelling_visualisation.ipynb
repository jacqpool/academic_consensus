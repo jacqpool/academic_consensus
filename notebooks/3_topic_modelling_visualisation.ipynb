{
 "cells": [
  {
   "cell_type": "markdown",
   "metadata": {},
   "source": [
    "# Topic Modelling and Visualisation\n",
    "***"
   ]
  },
  {
   "cell_type": "markdown",
   "metadata": {},
   "source": [
    "## Background\n",
    "\n",
    "Determine the degree of consensus in contentious academic fields. \n",
    "\n",
    "Collect title, publication date and summaries from scholarly articles containing a certain keyword or keywords. Apply NLP models to this data to identify and categorise concepts in this field and determine statistical significance between opposing 'truths', if any. Ranking these groups according to weighted influence will prove the degree of consensus of various approaches in a given academic field.\n",
    "\n",
    "To this end the academic_consensus model has already searched the abstracts of academic papers that contain the keyword \"nutrition\" and saved it into corpus_raw.csv.  \n",
    "  \n",
    "Overview of this notebook:\n",
    "- Setup notebok environment and load data (corpus_raw.csv)\n",
    "- Review articles published per year (sklearn's Countvectorizer)\n",
    "- Create Bag Of Words (BOW) of all articles for Titles and Conclusions (nltk)\n",
    "- Create interactive BOW per year with Bokeh"
   ]
  },
  {
   "cell_type": "markdown",
   "metadata": {},
   "source": [
    "### Credit"
   ]
  },
  {
   "cell_type": "markdown",
   "metadata": {},
   "source": [
    "Credit due in large to Patrick Harrison: Modern NLP in Python | PyData DC 2016  \n",
    "  \n",
    "Thank you!"
   ]
  },
  {
   "cell_type": "markdown",
   "metadata": {},
   "source": [
    "## Setup"
   ]
  },
  {
   "cell_type": "markdown",
   "metadata": {},
   "source": [
    "### Packages and setup"
   ]
  },
  {
   "cell_type": "code",
   "execution_count": 1,
   "metadata": {
    "ExecuteTime": {
     "end_time": "2020-04-01T12:17:48.700282Z",
     "start_time": "2020-04-01T12:17:41.150222Z"
    },
    "scrolled": true
   },
   "outputs": [],
   "source": [
    "# Common\n",
    "import pandas as pd\n",
    "import matplotlib.pyplot as plt\n",
    "import numpy as np\n",
    "import seaborn as sns\n",
    "\n",
    "# Workspace\n",
    "from IPython.core.interactiveshell import InteractiveShell\n",
    "from IPython.core.display import display, HTML"
   ]
  },
  {
   "cell_type": "code",
   "execution_count": 2,
   "metadata": {
    "ExecuteTime": {
     "end_time": "2020-04-01T12:17:48.716984Z",
     "start_time": "2020-04-01T12:17:48.708008Z"
    },
    "scrolled": true
   },
   "outputs": [
    {
     "data": {
      "text/html": [
       "<style>.container { width:50% !important; }</style>"
      ],
      "text/plain": [
       "<IPython.core.display.HTML object>"
      ]
     },
     "metadata": {},
     "output_type": "display_data"
    }
   ],
   "source": [
    "# Set workspace\n",
    "sns.set()\n",
    "# Set output charackters to 110 (not 79)\n",
    "pd.options.display.width = 110\n",
    "# To give multiple cell output. Not just the last command.\n",
    "InteractiveShell.ast_node_interactivity = 'last'\n",
    "# Make notebook wider to fit pyLDAvis plot\n",
    "display(HTML(\"<style>.container { width:50% !important; }</style>\"))"
   ]
  },
  {
   "cell_type": "markdown",
   "metadata": {},
   "source": [
    "### Load and inspect corpus.csv"
   ]
  },
  {
   "cell_type": "code",
   "execution_count": 3,
   "metadata": {
    "ExecuteTime": {
     "end_time": "2020-04-01T12:17:48.772832Z",
     "start_time": "2020-04-01T12:17:48.724963Z"
    }
   },
   "outputs": [],
   "source": [
    "# Load corpus.csv as DataFrame with parsed date format\n",
    "corpus = pd.read_csv('../data/interim/corpus_raw.csv', parse_dates=[0])"
   ]
  },
  {
   "cell_type": "code",
   "execution_count": 4,
   "metadata": {
    "ExecuteTime": {
     "end_time": "2020-04-01T12:17:48.791783Z",
     "start_time": "2020-04-01T12:17:48.787826Z"
    }
   },
   "outputs": [],
   "source": [
    "# Keyword \n",
    "keywords = ['nutrition', 'diet']"
   ]
  },
  {
   "cell_type": "code",
   "execution_count": 5,
   "metadata": {
    "ExecuteTime": {
     "end_time": "2020-04-01T12:17:48.823697Z",
     "start_time": "2020-04-01T12:17:48.804749Z"
    },
    "scrolled": false
   },
   "outputs": [
    {
     "name": "stdout",
     "output_type": "stream",
     "text": [
      "<class 'pandas.core.frame.DataFrame'>\n",
      "RangeIndex: 1530 entries, 0 to 1529\n",
      "Data columns (total 3 columns):\n",
      "publication_date    1530 non-null datetime64[ns, UTC]\n",
      "title               1530 non-null object\n",
      "conclusions         1530 non-null object\n",
      "dtypes: datetime64[ns, UTC](1), object(2)\n",
      "memory usage: 36.0+ KB\n"
     ]
    },
    {
     "data": {
      "text/html": [
       "<div>\n",
       "<style scoped>\n",
       "    .dataframe tbody tr th:only-of-type {\n",
       "        vertical-align: middle;\n",
       "    }\n",
       "\n",
       "    .dataframe tbody tr th {\n",
       "        vertical-align: top;\n",
       "    }\n",
       "\n",
       "    .dataframe thead th {\n",
       "        text-align: right;\n",
       "    }\n",
       "</style>\n",
       "<table border=\"1\" class=\"dataframe\">\n",
       "  <thead>\n",
       "    <tr style=\"text-align: right;\">\n",
       "      <th></th>\n",
       "      <th>publication_date</th>\n",
       "      <th>title</th>\n",
       "      <th>conclusions</th>\n",
       "    </tr>\n",
       "  </thead>\n",
       "  <tbody>\n",
       "    <tr>\n",
       "      <th>0</th>\n",
       "      <td>2016-03-09 00:00:00+00:00</td>\n",
       "      <td>Pregnancy Requires Major Changes in the Qualit...</td>\n",
       "      <td>['Pregnancy tends to markedly widen the nutrit...</td>\n",
       "    </tr>\n",
       "    <tr>\n",
       "      <th>1</th>\n",
       "      <td>2016-08-23 00:00:00+00:00</td>\n",
       "      <td>Continental-Scale Patterns Reveal Potential fo...</td>\n",
       "      <td>['In all, given the geographic patterns in die...</td>\n",
       "    </tr>\n",
       "    <tr>\n",
       "      <th>2</th>\n",
       "      <td>2015-06-17 00:00:00+00:00</td>\n",
       "      <td>Assessing Nutritional Parameters of Brown Bear...</td>\n",
       "      <td>['Previous studies have illustrated the differ...</td>\n",
       "    </tr>\n",
       "    <tr>\n",
       "      <th>3</th>\n",
       "      <td>2015-04-17 00:00:00+00:00</td>\n",
       "      <td>The Self-Reported Clinical Practice Behaviors ...</td>\n",
       "      <td>['The present study provides a valuable insigh...</td>\n",
       "    </tr>\n",
       "    <tr>\n",
       "      <th>4</th>\n",
       "      <td>2017-10-09 00:00:00+00:00</td>\n",
       "      <td>The impact of nutritional supplement intake on...</td>\n",
       "      <td>['Our study shows that the propensity to consu...</td>\n",
       "    </tr>\n",
       "  </tbody>\n",
       "</table>\n",
       "</div>"
      ],
      "text/plain": [
       "           publication_date                                              title  \\\n",
       "0 2016-03-09 00:00:00+00:00  Pregnancy Requires Major Changes in the Qualit...   \n",
       "1 2016-08-23 00:00:00+00:00  Continental-Scale Patterns Reveal Potential fo...   \n",
       "2 2015-06-17 00:00:00+00:00  Assessing Nutritional Parameters of Brown Bear...   \n",
       "3 2015-04-17 00:00:00+00:00  The Self-Reported Clinical Practice Behaviors ...   \n",
       "4 2017-10-09 00:00:00+00:00  The impact of nutritional supplement intake on...   \n",
       "\n",
       "                                         conclusions  \n",
       "0  ['Pregnancy tends to markedly widen the nutrit...  \n",
       "1  ['In all, given the geographic patterns in die...  \n",
       "2  ['Previous studies have illustrated the differ...  \n",
       "3  ['The present study provides a valuable insigh...  \n",
       "4  ['Our study shows that the propensity to consu...  "
      ]
     },
     "execution_count": 5,
     "metadata": {},
     "output_type": "execute_result"
    }
   ],
   "source": [
    "# Inspect\n",
    "corpus.info()\n",
    "corpus.head()"
   ]
  },
  {
   "cell_type": "markdown",
   "metadata": {},
   "source": [
    "## Phrase Modeling "
   ]
  },
  {
   "cell_type": "markdown",
   "metadata": {
    "ExecuteTime": {
     "end_time": "2020-01-27T09:57:15.035149Z",
     "start_time": "2020-01-27T09:57:14.147513Z"
    }
   },
   "source": [
    "Using Spacy to tokenise and clean each sentence in every document by removing stop words, punctuation, unnecessary white space, numbers and lemmatising each word.  \n",
    "  \n",
    "Do this for every sentence in each document. \n",
    "Generate a list of:\n",
    "- Phrased documents\n",
    "- Phrased sentences combined"
   ]
  },
  {
   "cell_type": "code",
   "execution_count": 6,
   "metadata": {
    "ExecuteTime": {
     "end_time": "2020-04-01T12:17:51.972364Z",
     "start_time": "2020-04-01T12:17:48.835666Z"
    }
   },
   "outputs": [],
   "source": [
    "# Necessary imports for Phrase Modeling\n",
    "import spacy\n",
    "from gensim.models.phrases import Phrases, Phraser\n",
    "#from gensim.models.word2vec import LineSentence     - to be used when scaling\n",
    "\n",
    "# Set Spacy\n",
    "nlp = spacy.load('en_core_web_sm')"
   ]
  },
  {
   "cell_type": "code",
   "execution_count": 7,
   "metadata": {
    "ExecuteTime": {
     "end_time": "2020-04-01T12:17:53.928600Z",
     "start_time": "2020-04-01T12:17:53.922584Z"
    }
   },
   "outputs": [],
   "source": [
    "def docs_preclean_from_df(df, col):\n",
    "    '''\n",
    "    Convert documents from DataFrame and clean new line escapes and brackets.\n",
    "    '''\n",
    "    # Gather all articles' 'Conclusions' into docs\n",
    "    docs_corp = df[col]\n",
    "\n",
    "    # Clean unneseccary escapes and characters\n",
    "    docs = []\n",
    "    for doc in docs_corp:\n",
    "        text = doc.replace('\\'', '')\n",
    "        text = text.replace('[', '')\n",
    "        text = text.replace(']', '')\n",
    "        text = text.replace('\\\\n' ,'')\n",
    "        docs.append(text)\n",
    "                \n",
    "    return docs\n"
   ]
  },
  {
   "cell_type": "code",
   "execution_count": 8,
   "metadata": {
    "ExecuteTime": {
     "end_time": "2020-04-01T12:17:54.363793Z",
     "start_time": "2020-04-01T12:17:54.357811Z"
    },
    "code_folding": []
   },
   "outputs": [],
   "source": [
    "def sents_split_from_docs(docs):\n",
    "    '''\n",
    "    Convert documents to list of all sentences.\n",
    "    '''\n",
    "#    sents = []\n",
    "#    for doc in docs:\n",
    "#        for sent in doc.split('.'):\n",
    "#            if not sent == '':\n",
    "#                sents.append(sent)\n",
    "                \n",
    "    #docs_clean = []\n",
    "    sents_clean = []\n",
    "    for parsed_doc in nlp.pipe(docs, n_process=4):   \n",
    "        # For each document \n",
    "        # sents_clean_per_doc = []\n",
    "        for sent in parsed_doc.sents:\n",
    "            sent_token          = [token for token in sent]\n",
    "            #sents_clean_per_doc += sent_token\n",
    "            # Adds to corpus of sentences\n",
    "            sents_clean.append(sent_token)\n",
    "        \n",
    "\n",
    "            \n",
    "    return sents"
   ]
  },
  {
   "cell_type": "code",
   "execution_count": 9,
   "metadata": {
    "ExecuteTime": {
     "end_time": "2020-04-01T12:18:00.148758Z",
     "start_time": "2020-04-01T12:18:00.139745Z"
    }
   },
   "outputs": [],
   "source": [
    "def docs_sents_clean(docs):\n",
    "    '''\n",
    "    Clean corpus and produce:\n",
    "    - Cleaned documents\n",
    "    - Cleaned sentences combined from all documents\n",
    "    '''\n",
    "     # Use Spacy - pipe to parse each document, break it into sentences, \n",
    "    # clean it (lemmatise, punctuation and white space) and combine\n",
    "    # all cleaned sentences into sents_clean, and \n",
    "    # all cleaned sentences per document into docs_clean\n",
    "\n",
    "    docs_clean = []\n",
    "    sents_clean = []\n",
    "    sents = []\n",
    "    for parsed_doc in nlp.pipe(docs, n_process=4):   \n",
    "        # For each document \n",
    "        sents_clean_per_doc = []\n",
    "        for sent in parsed_doc.sents:\n",
    "            sent_token = []\n",
    "            sent_token = [token.lemma_ for token in sent if not (token.is_stop or token.is_punct)]\n",
    "            \n",
    "            # Only add original sentence if sent_token is not null\n",
    "            if len(sent_token) > 1:\n",
    "                # Adds to corpus of sentences\n",
    "                sents.append(sent)\n",
    "                sents_clean.append(sent_token)\n",
    "            \n",
    "            sents_clean_per_doc += sent_token\n",
    "           \n",
    "        # Adds to corpus of ducuments\n",
    "        docs_clean.append(sents_clean_per_doc)\n",
    "    # Confirming output\n",
    "    print('Number of documents (articles): {}'.format(len(docs_clean)))\n",
    "    print('Total number of sentences: {}'.format(len(sents_clean)))\n",
    "    print('Total words: {}\\n'.format(sum([len(sent) for sent in sents_clean])))\n",
    "    print('\\nsents and sents_clean have the same length: ', len(sents) == len(sents_clean), '\\n')\n",
    "    \n",
    "    return docs_clean, sents_clean, sents\n"
   ]
  },
  {
   "cell_type": "code",
   "execution_count": 10,
   "metadata": {
    "ExecuteTime": {
     "end_time": "2020-04-01T12:18:01.039082Z",
     "start_time": "2020-04-01T12:18:01.034103Z"
    }
   },
   "outputs": [],
   "source": [
    "def n_plus_one_gram(sents):\n",
    "    ''' Generate n+1_gram model and outputs new sentences \n",
    "    Returns n+1_gram model and n+1_gram sentences'''\n",
    "    # Create n+1 gram model with Gensim for all sentences\n",
    "    g = Phrases(sents)\n",
    "    g = Phraser(g)    \n",
    "    # Generate n+1 gram sentences\n",
    "    g_sents = [sent for sent in g[sents]]\n",
    "\n",
    "    # Confirming output\n",
    "    print('Total words after (n+1) gram: {}'.format(sum([len(sent) for sent in g_sents])) + '\\n')\n",
    "    \n",
    "    return g, g_sents\n"
   ]
  },
  {
   "cell_type": "code",
   "execution_count": 11,
   "metadata": {
    "ExecuteTime": {
     "end_time": "2020-04-01T12:18:01.266472Z",
     "start_time": "2020-04-01T12:18:01.258494Z"
    }
   },
   "outputs": [],
   "source": [
    "def docs_sents_phrasing(docs_clean, sents_clean):\n",
    "    '''\n",
    "    Prepare documents and sentences for phrasing.\n",
    "    '''\n",
    "    # Phrasing SENTENCES\n",
    "    # Bigram\n",
    "    bg, bg_sents = n_plus_one_gram(sents_clean)\n",
    "    # Trigram\n",
    "    tg, tg_sents = n_plus_one_gram(bg_sents)\n",
    "    \n",
    "    # Phrasing DOCUMENTS\n",
    "    # Fit bigrams model to the cleaned documents\n",
    "    bg_docs = bg[docs_clean]\n",
    "    # Fit trigrams model to converted bigrams\n",
    "    tg_docs = tg[bg_docs]\n",
    "    \n",
    "    # Extract docs from generator\n",
    "    ph_docs = [doc for doc in tg_docs]\n",
    "    \n",
    "    # add stopwords\n",
    "    add_stopwords = ['study', 'effect', 'population', 'change', 'increase', 'different', 'high', 'level', 'low', 'result'] #food, diet\n",
    "    [nlp.Defaults.stop_words.add(word) for word in add_stopwords]\n",
    "                \n",
    "    # Take out final stop words for each document\n",
    "    phrased_docs = []\n",
    "    for doc in ph_docs:\n",
    "        phrased_docs.append([word for word in doc if word not in nlp.Defaults.stop_words])\n",
    "    \n",
    "    # Take out final stop words for each sentence (to be used later)\n",
    "    phrased_sents = []\n",
    "    for sent in tg_sents:\n",
    "        phrased_sents.append([word for word in sent if word not in nlp.Defaults.stop_words])\n",
    "    \n",
    "    \n",
    "    return phrased_docs, phrased_sents\n",
    "    "
   ]
  },
  {
   "cell_type": "code",
   "execution_count": 12,
   "metadata": {
    "ExecuteTime": {
     "end_time": "2020-04-01T12:18:02.742379Z",
     "start_time": "2020-04-01T12:18:02.738378Z"
    }
   },
   "outputs": [],
   "source": [
    "# Messing around by excluding some words\n",
    "\n",
    "nlp.Defaults.stop_words.add('study')\n",
    "nlp.Defaults.stop_words.add('diet')\n",
    "nlp.Defaults.stop_words.add('effect')"
   ]
  },
  {
   "cell_type": "code",
   "execution_count": 14,
   "metadata": {
    "ExecuteTime": {
     "end_time": "2020-03-08T03:28:54.749018Z",
     "start_time": "2020-03-08T03:28:15.690445Z"
    },
    "scrolled": false
   },
   "outputs": [
    {
     "name": "stdout",
     "output_type": "stream",
     "text": [
      "Number of documents (articles): 1530\n",
      "Total number of sentences: 12464\n",
      "Total words: 189133\n",
      "\n",
      "\n",
      "sents and sents_clean have the same length:  True \n",
      "\n",
      "Total words after (n+1) gram: 177335\n",
      "\n",
      "Total words after (n+1) gram: 175828\n",
      "\n"
     ]
    }
   ],
   "source": [
    "docs = docs_preclean_from_df(corpus, 'conclusions')\n",
    "docs_clean, sents_clean, sents = docs_sents_clean(docs)\n",
    "phrased_docs, phrased_sents = docs_sents_phrasing(docs_clean, sents_clean)"
   ]
  },
  {
   "cell_type": "code",
   "execution_count": 15,
   "metadata": {
    "ExecuteTime": {
     "end_time": "2020-03-08T03:28:54.754996Z",
     "start_time": "2020-03-08T03:28:54.750035Z"
    },
    "scrolled": true
   },
   "outputs": [
    {
     "name": "stdout",
     "output_type": "stream",
     "text": [
      "First 10 words from first document: \n",
      " ['pregnancy', 'tend', 'markedly', 'widen', 'nutritional', 'gap', 'decrease', 'nutritional', 'adequacy', 'observed'] \n",
      "\n",
      "First sentence: \n",
      " ['pregnancy', 'tend', 'markedly', 'widen', 'nutritional', 'gap']\n"
     ]
    }
   ],
   "source": [
    "print('First 10 words from first document: \\n', phrased_docs[0][:10], '\\n')\n",
    "print('First sentence: \\n', phrased_sents[0])"
   ]
  },
  {
   "cell_type": "markdown",
   "metadata": {},
   "source": [
    "## Topic Modeling with LDA"
   ]
  },
  {
   "cell_type": "markdown",
   "metadata": {},
   "source": [
    "### Topic Modeling"
   ]
  },
  {
   "cell_type": "code",
   "execution_count": 20,
   "metadata": {
    "ExecuteTime": {
     "end_time": "2020-03-08T03:28:55.347387Z",
     "start_time": "2020-03-08T03:28:55.343398Z"
    }
   },
   "outputs": [],
   "source": [
    "from gensim.corpora import Dictionary, MmCorpus\n",
    "from gensim.models.ldamulticore import LdaMulticore"
   ]
  },
  {
   "cell_type": "code",
   "execution_count": 21,
   "metadata": {
    "ExecuteTime": {
     "end_time": "2020-03-08T03:28:55.356363Z",
     "start_time": "2020-03-08T03:28:55.349382Z"
    }
   },
   "outputs": [],
   "source": [
    "def do_lda(corp, num_topics=15):\n",
    "    '''\n",
    "    Apply LDA modeling to a list of documents.\n",
    "    '''\n",
    "    # Create dictionary and tidy\n",
    "    corp_dict = Dictionary(corp)\n",
    "    corp_dict.filter_extremes(no_below=10, no_above=0.6)\n",
    "    corp_dict.compactify()\n",
    "    # Create BOW. \n",
    "    # Note: docs and sents are the same now for all practical purposes\n",
    "    corp_bow = [corp_dict.doc2bow(doc) for doc in corp]\n",
    "    # LDA model\n",
    "    lda = LdaMulticore(corp_bow, num_topics=num_topics, id2word=corp_dict, workers=3)\n",
    "    \n",
    "    return lda, corp_bow, corp_dict"
   ]
  },
  {
   "cell_type": "code",
   "execution_count": 22,
   "metadata": {
    "ExecuteTime": {
     "end_time": "2020-03-08T03:28:55.365339Z",
     "start_time": "2020-03-08T03:28:55.358362Z"
    }
   },
   "outputs": [],
   "source": [
    "# Function to show a topic\n",
    "def show_topic(lda, num=0, topn=10):\n",
    "    '''\n",
    "    Display topic for given LDA Model, topic number and number of words.\n",
    "    '''\n",
    "    for word, freq in lda.show_topic(num, topn=topn):\n",
    "        print(f'{word:20} {round(freq, 3):.3f}')"
   ]
  },
  {
   "cell_type": "code",
   "execution_count": 23,
   "metadata": {
    "ExecuteTime": {
     "end_time": "2020-03-08T03:29:02.906737Z",
     "start_time": "2020-03-08T03:28:55.369328Z"
    }
   },
   "outputs": [],
   "source": [
    "lda_docs, bow_docs, dict_docs  = do_lda(phrased_docs,  num_topics=15)\n",
    "lda_sents, bow_sents, dict_sents = do_lda(phrased_sents, num_topics=15)"
   ]
  },
  {
   "cell_type": "code",
   "execution_count": 24,
   "metadata": {
    "ExecuteTime": {
     "end_time": "2020-03-08T03:29:02.921699Z",
     "start_time": "2020-03-08T03:29:02.908732Z"
    }
   },
   "outputs": [
    {
     "name": "stdout",
     "output_type": "stream",
     "text": [
      "First topic for lda_docs:\n",
      "food                 0.005\n",
      "model                0.005\n",
      "include              0.005\n",
      "suggest              0.005\n",
      "find                 0.005\n",
      "child                0.005\n",
      "important            0.005\n",
      "dietary              0.004\n",
      "base                 0.004\n",
      "individual           0.004\n",
      "None \n",
      "\n",
      "First topic for lda_sents:\n",
      "University           0.016\n",
      "United_States        0.007\n",
      "base                 0.007\n",
      "muscle               0.006\n",
      "New                  0.006\n",
      "provide              0.005\n",
      "patient              0.005\n",
      "likely               0.005\n",
      "component            0.005\n",
      "activity             0.005\n",
      "None\n"
     ]
    }
   ],
   "source": [
    "print('First topic for lda_docs:')\n",
    "print(show_topic(lda_docs, num=0), '\\n')\n",
    "print('First topic for lda_sents:')\n",
    "print(show_topic(lda_sents, num=0))"
   ]
  },
  {
   "cell_type": "markdown",
   "metadata": {},
   "source": [
    "### Visualisation with pyLDAvis"
   ]
  },
  {
   "cell_type": "code",
   "execution_count": 33,
   "metadata": {
    "ExecuteTime": {
     "end_time": "2020-03-08T03:29:03.663763Z",
     "start_time": "2020-03-08T03:29:03.019446Z"
    }
   },
   "outputs": [],
   "source": [
    "import pyLDAvis\n",
    "import pyLDAvis.gensim\n",
    "import warnings"
   ]
  },
  {
   "cell_type": "code",
   "execution_count": 34,
   "metadata": {
    "ExecuteTime": {
     "end_time": "2020-03-08T03:29:36.554749Z",
     "start_time": "2020-03-08T03:29:03.665708Z"
    }
   },
   "outputs": [
    {
     "name": "stderr",
     "output_type": "stream",
     "text": [
      "c:\\users\\jacqu\\miniconda3\\envs\\academic_consensus\\lib\\site-packages\\pyLDAvis\\_prepare.py:257: FutureWarning: Sorting because non-concatenation axis is not aligned. A future version\n",
      "of pandas will change to not sort by default.\n",
      "\n",
      "To accept the future behavior, pass 'sort=False'.\n",
      "\n",
      "To retain the current behavior and silence the warning, pass 'sort=True'.\n",
      "\n",
      "  return pd.concat([default_term_info] + list(topic_dfs))\n"
     ]
    }
   ],
   "source": [
    "LDAvis_prep = pyLDAvis.gensim.prepare(lda_docs, bow_docs, dict_docs)"
   ]
  },
  {
   "cell_type": "code",
   "execution_count": 35,
   "metadata": {
    "ExecuteTime": {
     "end_time": "2020-03-08T03:29:36.560753Z",
     "start_time": "2020-03-08T03:29:36.556749Z"
    },
    "scrolled": false
   },
   "outputs": [],
   "source": [
    "pyLDAvis.display(LDAvis_prep)"
   ]
  },
  {
   "cell_type": "markdown",
   "metadata": {},
   "source": [
    "## Word Vector Model"
   ]
  },
  {
   "cell_type": "markdown",
   "metadata": {},
   "source": [
    "### Word2Vec"
   ]
  },
  {
   "cell_type": "markdown",
   "metadata": {},
   "source": [
    "Using Gensim's Word2Vec."
   ]
  },
  {
   "cell_type": "code",
   "execution_count": 36,
   "metadata": {
    "ExecuteTime": {
     "end_time": "2020-03-08T03:29:36.569740Z",
     "start_time": "2020-03-08T03:29:36.562729Z"
    }
   },
   "outputs": [],
   "source": [
    "from gensim.models import Word2Vec"
   ]
  },
  {
   "cell_type": "code",
   "execution_count": 37,
   "metadata": {
    "ExecuteTime": {
     "end_time": "2020-03-08T03:29:59.917308Z",
     "start_time": "2020-03-08T03:29:36.571724Z"
    }
   },
   "outputs": [],
   "source": [
    "w2v_docs = Word2Vec(phrased_docs, size=100, window=5, min_count=20, sg=1, workers=3, iter=100, compute_loss=True)"
   ]
  },
  {
   "cell_type": "code",
   "execution_count": 38,
   "metadata": {
    "ExecuteTime": {
     "end_time": "2020-03-08T03:29:59.924251Z",
     "start_time": "2020-03-08T03:29:59.918279Z"
    }
   },
   "outputs": [
    {
     "data": {
      "text/plain": [
       "35279060.0"
      ]
     },
     "execution_count": 38,
     "metadata": {},
     "output_type": "execute_result"
    }
   ],
   "source": [
    "w2v_docs.get_latest_training_loss()"
   ]
  },
  {
   "cell_type": "code",
   "execution_count": 39,
   "metadata": {
    "ExecuteTime": {
     "end_time": "2020-03-08T03:30:18.880736Z",
     "start_time": "2020-03-08T03:29:59.926246Z"
    }
   },
   "outputs": [],
   "source": [
    "w2v_sents = Word2Vec(phrased_sents, size=100, window=5, min_count=20, sg=1, workers=3, iter=100, compute_loss=True)"
   ]
  },
  {
   "cell_type": "code",
   "execution_count": 40,
   "metadata": {
    "ExecuteTime": {
     "end_time": "2020-03-08T03:30:18.888532Z",
     "start_time": "2020-03-08T03:30:18.882593Z"
    }
   },
   "outputs": [
    {
     "data": {
      "text/plain": [
       "28394614.0"
      ]
     },
     "execution_count": 40,
     "metadata": {},
     "output_type": "execute_result"
    }
   ],
   "source": [
    "w2v_sents.get_latest_training_loss()"
   ]
  },
  {
   "cell_type": "code",
   "execution_count": 42,
   "metadata": {
    "ExecuteTime": {
     "end_time": "2020-03-08T03:30:18.913468Z",
     "start_time": "2020-03-08T03:30:18.906487Z"
    }
   },
   "outputs": [
    {
     "name": "stdout",
     "output_type": "stream",
     "text": [
      "Words in Word2Vec dictionary for docs: 1660\n",
      "Words in Word2Vec dictionary for sents: 1660\n"
     ]
    }
   ],
   "source": [
    "print('Words in Word2Vec dictionary for docs: {}'.format(len(w2v_docs.wv.vocab)))\n",
    "print('Words in Word2Vec dictionary for sents: {}'.format(len(w2v_sents.wv.vocab)))"
   ]
  },
  {
   "cell_type": "markdown",
   "metadata": {},
   "source": [
    "Create functions to find similar and opposite words in the vocabulary."
   ]
  },
  {
   "cell_type": "code",
   "execution_count": 43,
   "metadata": {
    "ExecuteTime": {
     "end_time": "2020-03-08T03:30:18.921447Z",
     "start_time": "2020-03-08T03:30:18.915468Z"
    }
   },
   "outputs": [],
   "source": [
    "def similar_word(w2v, word, topn=5):\n",
    "    \"\"\"Find similar words in the corpus.\"\"\"\n",
    "    for word, simil in w2v.wv.most_similar(positive=[word], topn=topn):\n",
    "        print(f'{word:25} {round(simil, 4)}')"
   ]
  },
  {
   "cell_type": "code",
   "execution_count": 44,
   "metadata": {
    "ExecuteTime": {
     "end_time": "2020-03-08T03:30:18.929423Z",
     "start_time": "2020-03-08T03:30:18.924439Z"
    }
   },
   "outputs": [],
   "source": [
    "def opposite_word(w2v, word, topn=5):\n",
    "    \"\"\"Find opposite words in the corpus.\"\"\"\n",
    "    for word, oppos in w2v.wv.most_similar(negative=[word], topn=topn):\n",
    "        print(f'{word:25} {round(oppos, 4)}')"
   ]
  },
  {
   "cell_type": "code",
   "execution_count": 45,
   "metadata": {
    "ExecuteTime": {
     "end_time": "2020-03-08T03:30:18.938399Z",
     "start_time": "2020-03-08T03:30:18.930421Z"
    }
   },
   "outputs": [],
   "source": [
    "def meaning(w2v, plus=[], minus=[], topn=3):\n",
    "    \"\"\"Using 'plus' to find positive/similar words and 'minus' to find\n",
    "       negative/opposite words in the word2vec vocabulary, \n",
    "       showing the top 'topn' results.\"\"\"\n",
    "    answers = w2v.wv.most_similar(positive=plus, negative=minus, topn=topn)\n",
    "    \n",
    "    for term, similarity in answers:\n",
    "        print(term)"
   ]
  },
  {
   "cell_type": "code",
   "execution_count": 46,
   "metadata": {
    "ExecuteTime": {
     "end_time": "2020-03-08T03:30:18.946389Z",
     "start_time": "2020-03-08T03:30:18.939397Z"
    },
    "code_folding": []
   },
   "outputs": [],
   "source": [
    "# Only if needed to see the matrix as DataFrame\n",
    "def make_df(w2v):\n",
    "    '''\n",
    "    Create a DataFrame from word2vec matrix.\n",
    "    '''\n",
    "    # Get word, index and word count\n",
    "    vecs = [(word, info.index, info.count) for word, info in w2v.wv.vocab.items()]\n",
    "    # Sort it according to word count (3rd column) - descending order\n",
    "    vecs = sorted(vecs, key=lambda val: -val[2])\n",
    "    # Get individual 'columns' values\n",
    "    words, idx, count = zip(*vecs)\n",
    "    # Now use the indices to get the vectors\n",
    "    df_vecs = pd.DataFrame(w2v.wv.vectors_norm[idx,:], index=words)\n",
    "    \n",
    "    return df_vecs"
   ]
  },
  {
   "cell_type": "code",
   "execution_count": 49,
   "metadata": {
    "ExecuteTime": {
     "end_time": "2020-03-08T02:00:24.637774Z",
     "start_time": "2020-03-08T02:00:24.631768Z"
    }
   },
   "outputs": [
    {
     "name": "stdout",
     "output_type": "stream",
     "text": [
      "stunting                  0.586\n",
      "household                 0.5346\n",
      "health                    0.5215\n",
      "education                 0.5193\n",
      "woman                     0.501\n",
      "child_age                 0.4904\n",
      "poor                      0.4817\n",
      "undernutrition            0.4772\n",
      "stunt                     0.4732\n",
      "care                      0.4725\n"
     ]
    }
   ],
   "source": [
    "similar_word(w2v_docs, 'child', topn=10)"
   ]
  },
  {
   "cell_type": "code",
   "execution_count": 50,
   "metadata": {
    "ExecuteTime": {
     "end_time": "2020-03-08T02:00:36.654205Z",
     "start_time": "2020-03-08T02:00:36.647236Z"
    }
   },
   "outputs": [
    {
     "name": "stdout",
     "output_type": "stream",
     "text": [
      "stunting                  0.5307\n",
      "girl                      0.5185\n",
      "poor                      0.5064\n",
      "young_child               0.4992\n",
      "mother                    0.4986\n",
      "parent                    0.4898\n",
      "health                    0.4753\n",
      "poverty                   0.4695\n",
      "stunt                     0.4668\n",
      "household                 0.4608\n"
     ]
    }
   ],
   "source": [
    "similar_word(w2v_sents, 'child', topn=10)"
   ]
  },
  {
   "cell_type": "code",
   "execution_count": 77,
   "metadata": {
    "ExecuteTime": {
     "end_time": "2020-03-08T02:24:08.111593Z",
     "start_time": "2020-03-08T02:24:08.103615Z"
    }
   },
   "outputs": [
    {
     "name": "stdout",
     "output_type": "stream",
     "text": [
      "intake                    0.4006\n",
      "synthesis                 0.3881\n",
      "insulin                   0.3759\n",
      "fat                       0.3721\n",
      "sugar                     0.369\n",
      "calorie                   0.3631\n",
      "anti                      0.3542\n",
      "reveal                    0.3511\n",
      "metabolism                0.3503\n",
      "adjustment                0.3445\n"
     ]
    }
   ],
   "source": [
    "similar_word(w2v_docs, 'carbohydrate', topn=10)"
   ]
  },
  {
   "cell_type": "code",
   "execution_count": 238,
   "metadata": {
    "ExecuteTime": {
     "end_time": "2020-03-07T09:09:17.805044Z",
     "start_time": "2020-03-07T09:09:17.797061Z"
    }
   },
   "outputs": [
    {
     "name": "stdout",
     "output_type": "stream",
     "text": [
      "amino_acid                0.4185\n",
      "starch                    0.4017\n",
      "impaired                  0.3979\n",
      "insulin                   0.394\n",
      "nitrogen                  0.3893\n",
      "metabolism                0.3806\n",
      "protein                   0.3391\n",
      "fatty_acid                0.339\n",
      "vitamin                   0.3387\n",
      "offer                     0.3367\n"
     ]
    }
   ],
   "source": [
    "similar_word(w2v_sents, 'carbohydrate', topn=10)"
   ]
  },
  {
   "cell_type": "code",
   "execution_count": 78,
   "metadata": {
    "ExecuteTime": {
     "end_time": "2020-03-08T02:24:25.028920Z",
     "start_time": "2020-03-08T02:24:25.021904Z"
    }
   },
   "outputs": [
    {
     "name": "stdout",
     "output_type": "stream",
     "text": [
      "dietary                   0.4605\n",
      "fatty_acid                0.4513\n",
      "total                     0.4237\n",
      "liver                     0.4234\n",
      "supplement                0.4179\n",
      "plasma                    0.4154\n",
      "weight_gain               0.4061\n",
      "protein                   0.4017\n",
      "cholesterol               0.4014\n",
      "vegetable                 0.3862\n"
     ]
    }
   ],
   "source": [
    "similar_word(w2v_docs, 'fat', topn=10)"
   ]
  },
  {
   "cell_type": "code",
   "execution_count": 81,
   "metadata": {
    "ExecuteTime": {
     "end_time": "2020-03-08T02:26:42.124870Z",
     "start_time": "2020-03-08T02:26:42.118874Z"
    }
   },
   "outputs": [
    {
     "name": "stdout",
     "output_type": "stream",
     "text": [
      "clinical                  0.3634\n",
      "mortality                 0.3618\n",
      "life                      0.3578\n",
      "cardiovascular            0.3465\n",
      "neonatal                  0.3399\n",
      "peptide                   0.3289\n",
      "perform                   0.3208\n",
      "screening                 0.3174\n",
      "newborn                   0.3135\n",
      "birth                     0.3126\n"
     ]
    }
   ],
   "source": [
    "similar_word(w2v_docs, 'death', topn=10)"
   ]
  },
  {
   "cell_type": "code",
   "execution_count": 242,
   "metadata": {
    "ExecuteTime": {
     "end_time": "2020-03-07T09:10:45.982683Z",
     "start_time": "2020-03-07T09:10:45.975673Z"
    },
    "scrolled": true
   },
   "outputs": [
    {
     "name": "stdout",
     "output_type": "stream",
     "text": [
      "take_account              0.2092\n",
      "dynamic                   0.1803\n",
      "actual                    0.1674\n",
      "end                       0.148\n",
      "child_nutrition           0.1472\n",
      "herbivore                 0.1403\n",
      "evaluate                  0.1314\n",
      "cost                      0.1282\n",
      "percentage                0.1154\n",
      "extend                    0.0993\n"
     ]
    }
   ],
   "source": [
    "opposite_word(w2v_sents, 'carbohydrate', topn=10)"
   ]
  },
  {
   "cell_type": "code",
   "execution_count": 51,
   "metadata": {
    "ExecuteTime": {
     "end_time": "2020-03-08T02:01:33.425850Z",
     "start_time": "2020-03-08T02:01:33.417870Z"
    }
   },
   "outputs": [
    {
     "name": "stdout",
     "output_type": "stream",
     "text": [
      "hypertension              0.4999\n",
      "obesity                   0.4659\n",
      "risk_factor               0.4017\n",
      "patient                   0.3944\n",
      "awareness                 0.3818\n",
      "adipose_tissue            0.3736\n",
      "obese                     0.3692\n",
      "health                    0.3653\n",
      "metabolic_syndrome        0.3605\n",
      "acute                     0.3499\n"
     ]
    }
   ],
   "source": [
    "similar_word(w2v_sents, 'diabetes', topn=10)"
   ]
  },
  {
   "cell_type": "code",
   "execution_count": 61,
   "metadata": {
    "ExecuteTime": {
     "end_time": "2020-03-08T04:02:53.858960Z",
     "start_time": "2020-03-08T04:02:53.852984Z"
    },
    "scrolled": false
   },
   "outputs": [
    {
     "name": "stdout",
     "output_type": "stream",
     "text": [
      "transfer                  0.19\n",
      "role                      0.1721\n",
      "prediction                0.1672\n",
      "open                      0.1604\n",
      "critical                  0.1494\n",
      "ensure                    0.1489\n",
      "robust                    0.1436\n",
      "22                        0.1361\n",
      "novel                     0.1347\n",
      "species                   0.1346\n"
     ]
    }
   ],
   "source": [
    "opposite_word(w2v_docs, 'sedentary', topn=10)"
   ]
  },
  {
   "cell_type": "code",
   "execution_count": 72,
   "metadata": {
    "ExecuteTime": {
     "end_time": "2020-03-09T02:36:48.202918Z",
     "start_time": "2020-03-09T02:36:48.197932Z"
    },
    "scrolled": false
   },
   "outputs": [
    {
     "name": "stdout",
     "output_type": "stream",
     "text": [
      "difficult                 0.2089\n",
      "successful                0.2086\n",
      "manage                    0.175\n",
      "context                   0.1652\n",
      "cultivation               0.1559\n",
      "breastfeed                0.1372\n",
      "face                      0.1363\n",
      "local                     0.1347\n",
      "Health                    0.133\n",
      "health_risk               0.1226\n"
     ]
    }
   ],
   "source": [
    "opposite_word(w2v_docs, 'muscle', topn=10)"
   ]
  },
  {
   "cell_type": "code",
   "execution_count": 108,
   "metadata": {
    "ExecuteTime": {
     "end_time": "2020-03-09T02:55:27.115137Z",
     "start_time": "2020-03-09T02:55:27.109154Z"
    },
    "scrolled": true
   },
   "outputs": [
    {
     "name": "stdout",
     "output_type": "stream",
     "text": [
      "breastfeed\n",
      "organ\n",
      "clearly\n",
      "nutrition_intervention\n",
      "underlying\n"
     ]
    }
   ],
   "source": [
    "meaning(w2v_sents, plus=['nutrition'], minus=['food'], topn=5)"
   ]
  },
  {
   "cell_type": "code",
   "execution_count": 109,
   "metadata": {
    "ExecuteTime": {
     "end_time": "2020-03-09T02:55:33.378710Z",
     "start_time": "2020-03-09T02:55:33.373724Z"
    },
    "scrolled": false
   },
   "outputs": [
    {
     "name": "stdout",
     "output_type": "stream",
     "text": [
      "undernutrition\n",
      "stunting\n",
      "stunt\n",
      "height\n",
      "nutritional_intervention\n"
     ]
    }
   ],
   "source": [
    "meaning(w2v_docs, plus=['child'], minus=['food'], topn=5)"
   ]
  },
  {
   "cell_type": "code",
   "execution_count": 114,
   "metadata": {
    "ExecuteTime": {
     "end_time": "2020-03-09T03:06:27.766199Z",
     "start_time": "2020-03-09T03:06:27.760215Z"
    },
    "scrolled": false
   },
   "outputs": [
    {
     "name": "stdout",
     "output_type": "stream",
     "text": [
      "death\n",
      "year\n",
      "young\n",
      "10\n",
      "live\n"
     ]
    }
   ],
   "source": [
    "meaning(w2v_docs, plus=['life', 'negative'], topn=5)#, minus=['nutrition'])"
   ]
  },
  {
   "cell_type": "code",
   "execution_count": 111,
   "metadata": {
    "ExecuteTime": {
     "end_time": "2020-03-09T02:55:51.635302Z",
     "start_time": "2020-03-09T02:55:51.629320Z"
    },
    "scrolled": true
   },
   "outputs": [
    {
     "name": "stdout",
     "output_type": "stream",
     "text": [
      "height\n",
      "organ\n",
      "damage\n",
      "deposition\n",
      "inflammation\n"
     ]
    }
   ],
   "source": [
    "meaning(w2v_docs, plus=['growth'], minus=['food'], topn=5)"
   ]
  },
  {
   "cell_type": "code",
   "execution_count": 113,
   "metadata": {
    "ExecuteTime": {
     "end_time": "2020-03-09T02:57:53.620231Z",
     "start_time": "2020-03-09T02:57:53.614251Z"
    },
    "scrolled": true
   },
   "outputs": [
    {
     "name": "stdout",
     "output_type": "stream",
     "text": [
      "colony\n",
      "nutritional_intervention\n",
      "overweight\n",
      "behavioral\n",
      "indicator\n"
     ]
    }
   ],
   "source": [
    "meaning(w2v_docs, plus=['health'], minus=['nutrition'], topn=5)"
   ]
  },
  {
   "cell_type": "code",
   "execution_count": 115,
   "metadata": {
    "ExecuteTime": {
     "end_time": "2020-03-09T04:23:03.262398Z",
     "start_time": "2020-03-09T04:23:03.257415Z"
    },
    "scrolled": true
   },
   "outputs": [
    {
     "name": "stdout",
     "output_type": "stream",
     "text": [
      "skeletal_muscle\n",
      "fatty_acid\n",
      "liver\n",
      "plasma\n",
      "lipid\n",
      "metabolism\n",
      "expression\n",
      "mitochondrial\n",
      "deposition\n",
      "respectively\n"
     ]
    }
   ],
   "source": [
    "meaning(w2v_docs, plus=['muscle', 'protein'], topn=10)#, minus=['nutrition'])"
   ]
  },
  {
   "cell_type": "code",
   "execution_count": 78,
   "metadata": {
    "ExecuteTime": {
     "end_time": "2020-03-09T02:38:52.974806Z",
     "start_time": "2020-03-09T02:38:52.966829Z"
    },
    "scrolled": true
   },
   "outputs": [
    {
     "name": "stdout",
     "output_type": "stream",
     "text": [
      "fatty_acid\n",
      "amino_acid\n",
      "dietary\n",
      "plasma\n",
      "cholesterol\n",
      "n-3\n",
      "acid\n",
      "sugar\n",
      "starch\n",
      "metabolism\n"
     ]
    }
   ],
   "source": [
    "meaning(w2v_sents, plus=['carbohydrate', 'protein', 'fat'], topn=10)#, minus=['nutrition'])"
   ]
  },
  {
   "cell_type": "markdown",
   "metadata": {},
   "source": [
    "### Doc2Vec"
   ]
  },
  {
   "cell_type": "code",
   "execution_count": 153,
   "metadata": {
    "ExecuteTime": {
     "end_time": "2020-03-10T03:01:15.556991Z",
     "start_time": "2020-03-10T03:01:15.552993Z"
    }
   },
   "outputs": [],
   "source": [
    "from gensim.models import Doc2Vec\n",
    "from gensim.models.doc2vec import TaggedDocument"
   ]
  },
  {
   "cell_type": "code",
   "execution_count": 154,
   "metadata": {
    "ExecuteTime": {
     "end_time": "2020-03-10T03:01:19.499440Z",
     "start_time": "2020-03-10T03:01:19.489464Z"
    }
   },
   "outputs": [],
   "source": [
    "def train_d2v(docs, max_epochs=100, vec_size=100, alpha=0.025):\n",
    "    '''\n",
    "    Train Doc2Vec model on all documents, or collection of sentences.\n",
    "    '''\n",
    "    tagged_docs = [TaggedDocument(words=doc, tags=[str(i)]) for i, doc in enumerate(docs)]\n",
    "    \n",
    "    d2v = Doc2Vec(vector_size=vec_size, alpha=alpha, min_alpha=0.00025, min_count=1, dm=1)\n",
    "  \n",
    "    d2v.build_vocab(tagged_docs)\n",
    "\n",
    "    for epoch in range(max_epochs):\n",
    "        if (epoch % 1 == 0):\n",
    "                print('Completed epoch {} of {}'.format(epoch+1, max_epochs), end='\\r')\n",
    "        d2v.train(tagged_docs, total_examples=d2v.corpus_count, epochs=d2v.epochs)\n",
    "        # decrease the learning rate\n",
    "        d2v.alpha -= 0.0002\n",
    "        # fix the learning rate, no decay\n",
    "        d2v.min_alpha = d2v.alpha\n",
    "    \n",
    "    return d2v"
   ]
  },
  {
   "cell_type": "code",
   "execution_count": 155,
   "metadata": {
    "ExecuteTime": {
     "end_time": "2020-03-10T03:01:23.458887Z",
     "start_time": "2020-03-10T03:01:23.259408Z"
    }
   },
   "outputs": [],
   "source": [
    "# Train Doc2Vec model on documents if True, else load the model\n",
    "run = False\n",
    "if run:\n",
    "    d2v_docs = train_d2v(phrased_docs)\n",
    "    d2v_docs.save('../models/d2v_docs.model')\n",
    "else:\n",
    "    d2v_docs = Doc2Vec.load('../models/d2v_docs.model')"
   ]
  },
  {
   "cell_type": "code",
   "execution_count": 156,
   "metadata": {
    "ExecuteTime": {
     "end_time": "2020-03-10T03:01:27.414308Z",
     "start_time": "2020-03-10T03:01:27.161946Z"
    }
   },
   "outputs": [],
   "source": [
    "# Train Doc2Vec model on sentences if True, else load the model\n",
    "run = False\n",
    "if run:\n",
    "    d2v_sents = train_d2v(phrased_sents)\n",
    "    d2v_sents.save('../models/d2v_sents.model')\n",
    "else:\n",
    "    d2v_sents = Doc2Vec.load('../models/d2v_sents.model')"
   ]
  },
  {
   "cell_type": "code",
   "execution_count": 193,
   "metadata": {
    "ExecuteTime": {
     "end_time": "2020-03-10T03:21:16.318646Z",
     "start_time": "2020-03-10T03:21:16.311657Z"
    }
   },
   "outputs": [],
   "source": [
    "def find_similar_doc_or_sent(d2v_model, docs_or_sents, pos, neg='', topn=3):\n",
    "    '''\n",
    "    Find the top_n number of documents or sentences relating to the input string.\n",
    "    d2v -> Doc2Vec model\n",
    "    docs_or_sents -> Find original text in the document or sentence\n",
    "    pos -> Positive document/sentence as string\n",
    "    neg -> Negative document/sentence as string\n",
    "    topn -> Show topn number of docs/sents\n",
    "    '''\n",
    "    # Find similar vectors\n",
    "    pos_tokens = [doc.lower().replace('.', '') for doc in pos.split()]\n",
    "    neg_tokens = [doc.lower().replace('.', '') for doc in neg.split()]\n",
    "    new_vector_pos = d2v_model.infer_vector(pos_tokens)\n",
    "    new_vector_neg = d2v_model.infer_vector(neg_tokens)\n",
    "    similars = d2v_model.docvecs.most_similar(positive=[new_vector_pos], negative=[new_vector_neg], topn=topn)\n",
    "    \n",
    "    # Find similars in docs/sents\n",
    "    for idx, weight in similars:\n",
    "        print('Index {}: Relevance: {:0.2f}%'.format(idx, weight*100))\n",
    "        print(docs_or_sents[int(idx)], '\\n')\n",
    "       \n",
    "    return similars"
   ]
  },
  {
   "cell_type": "code",
   "execution_count": 212,
   "metadata": {
    "ExecuteTime": {
     "end_time": "2020-03-10T03:50:52.872356Z",
     "start_time": "2020-03-10T03:50:52.863381Z"
    }
   },
   "outputs": [
    {
     "name": "stdout",
     "output_type": "stream",
     "text": [
      "Index 453: Relevance: 53.66%\n",
      "We observed an association between early nutrition or growth, and depression at 30 years, this association seems to be cumulative, because the risk of depression was higher only among subjects who were SGA and were also stunted at age two or four years. \n",
      "\n",
      "Index 673: Relevance: 53.21%\n",
      "This study provides evidence for the temporary presence of BAT in the BFP in early postnatal life. A key question that remains is whether BAT transdifferentiates into WAT in the BFP or WAT simply fills an empty space and replaces BAT over time. Studies are also needed to better determine the degree to which BAT in the BFP is linked to muscle function and infant nutrition, and to establish the significance of this adipose tissue in preterm and low birth weight infants known to lack the coordination between suckling, swallowing, and breathing. \n",
      "\n",
      "Index 497: Relevance: 53.19%\n",
      "Solid state fermentation with A.niger could be practical methods for altering physicochemical properties of RSM. Many extracellular degradation enzymes (especially lignocellulosic hydrolyzing enzymes, acid proteases and phytase) secreted by A.niger might play important role in the improvement of nutritional value of RSM. \n",
      "\n",
      "Index 851: Relevance: 53.18%\n",
      "RSM hydrolysates developed through fungal solid state fermentation and autolysis contain rich nutrients especially the organic nitrogen source. The production of biomass and omega-3 DHA by C. cohnii could be improved by using rapeseed meal hydrolysate and waste molasses as alternative feedstock. The eco-green medium made of 7% meal hydrolysate and 1–9% waste molasses could well support the growth of C. cohnii and produce DHA accounting for 22–34% of total fatty acids. Together, the cheap by-products of rapeseed meal and molasses can be bio-converted into nutritional feedstock for value-added DHA production through algal fermentation. \n",
      "\n",
      "Index 347: Relevance: 52.82%\n",
      "This study showed that, in a sample of urban Sri Lankan primary school children, the positive correlation between nutritional status in mothers and their children differed by sex and age. Furthermore, the results highlighted a double burden of malnutrition within households, with co-existence of child thinness and maternal overweight and obesity. Maternal education might be associated with child thinness. These findings suggested that nutritional assessments, such as regular growth monitoring for children in schools and support for creating an appropriate dietary environment in households that is accessible for the socially vulnerable, are necessary for improving the health of mothers and their children. \n",
      "\n"
     ]
    }
   ],
   "source": [
    "text = 'a child requires healthy nutrition to avoid stunting growth'\n",
    "\n",
    "a = find_similar_doc_or_sent(d2v_docs, docs, pos=text, topn=5)"
   ]
  },
  {
   "cell_type": "code",
   "execution_count": 186,
   "metadata": {
    "ExecuteTime": {
     "end_time": "2020-03-10T03:19:28.189383Z",
     "start_time": "2020-03-10T03:19:28.175418Z"
    }
   },
   "outputs": [
    {
     "name": "stdout",
     "output_type": "stream",
     "text": [
      "Index 7065: Relevance: 61.57%\n",
      "First, the results are based on male individuals who are between 40 and 55. \n",
      "\n",
      "Index 7944: Relevance: 60.10%\n",
      "In addition to health education and policies aimed at facilitating the adoption of healthy lifestyles by individuals, targeting stroke prevention efforts on poor urban households can participate in the effective implementation of stroke prevention to tackle the growing related burden in Morocco. \n",
      "\n",
      "Index 1847: Relevance: 56.70%\n",
      "The field of child nutrition is very important, but some related issues are not on the policymakers’ agenda as required. \n",
      "\n",
      "Index 6023: Relevance: 56.60%\n",
      "This study assessed differences in the relationship between food outlet access and diet according to level of educational attainment. \n",
      "\n",
      "Index 3793: Relevance: 55.81%\n",
      "Currently, we cannot distinguish whether AM are responsible for high K acquisition from soil minerals or whether they have high capacities for K retention and efficiently recapture cations released from degrading leaf litter. \n",
      "\n",
      "Number of douments:  3793\n"
     ]
    }
   ],
   "source": [
    "text = 'protein is important for building muscles'\n",
    "\n",
    "find_similar_doc_or_sent(d2v_sents, sents, pos=text, topn=5);"
   ]
  },
  {
   "cell_type": "markdown",
   "metadata": {},
   "source": [
    "### Vector Visualisation (t-SNE)"
   ]
  },
  {
   "cell_type": "markdown",
   "metadata": {},
   "source": [
    "Prepare data."
   ]
  },
  {
   "cell_type": "code",
   "execution_count": 118,
   "metadata": {
    "ExecuteTime": {
     "end_time": "2020-03-09T04:31:44.053527Z",
     "start_time": "2020-03-09T04:31:43.236688Z"
    }
   },
   "outputs": [
    {
     "data": {
      "text/html": [
       "\n",
       "    <div class=\"bk-root\">\n",
       "        <a href=\"https://bokeh.org\" target=\"_blank\" class=\"bk-logo bk-logo-small bk-logo-notebook\"></a>\n",
       "        <span id=\"1001\">Loading BokehJS ...</span>\n",
       "    </div>"
      ]
     },
     "metadata": {},
     "output_type": "display_data"
    },
    {
     "data": {
      "application/javascript": [
       "\n",
       "(function(root) {\n",
       "  function now() {\n",
       "    return new Date();\n",
       "  }\n",
       "\n",
       "  var force = true;\n",
       "\n",
       "  if (typeof root._bokeh_onload_callbacks === \"undefined\" || force === true) {\n",
       "    root._bokeh_onload_callbacks = [];\n",
       "    root._bokeh_is_loading = undefined;\n",
       "  }\n",
       "\n",
       "  var JS_MIME_TYPE = 'application/javascript';\n",
       "  var HTML_MIME_TYPE = 'text/html';\n",
       "  var EXEC_MIME_TYPE = 'application/vnd.bokehjs_exec.v0+json';\n",
       "  var CLASS_NAME = 'output_bokeh rendered_html';\n",
       "\n",
       "  /**\n",
       "   * Render data to the DOM node\n",
       "   */\n",
       "  function render(props, node) {\n",
       "    var script = document.createElement(\"script\");\n",
       "    node.appendChild(script);\n",
       "  }\n",
       "\n",
       "  /**\n",
       "   * Handle when an output is cleared or removed\n",
       "   */\n",
       "  function handleClearOutput(event, handle) {\n",
       "    var cell = handle.cell;\n",
       "\n",
       "    var id = cell.output_area._bokeh_element_id;\n",
       "    var server_id = cell.output_area._bokeh_server_id;\n",
       "    // Clean up Bokeh references\n",
       "    if (id != null && id in Bokeh.index) {\n",
       "      Bokeh.index[id].model.document.clear();\n",
       "      delete Bokeh.index[id];\n",
       "    }\n",
       "\n",
       "    if (server_id !== undefined) {\n",
       "      // Clean up Bokeh references\n",
       "      var cmd = \"from bokeh.io.state import curstate; print(curstate().uuid_to_server['\" + server_id + \"'].get_sessions()[0].document.roots[0]._id)\";\n",
       "      cell.notebook.kernel.execute(cmd, {\n",
       "        iopub: {\n",
       "          output: function(msg) {\n",
       "            var id = msg.content.text.trim();\n",
       "            if (id in Bokeh.index) {\n",
       "              Bokeh.index[id].model.document.clear();\n",
       "              delete Bokeh.index[id];\n",
       "            }\n",
       "          }\n",
       "        }\n",
       "      });\n",
       "      // Destroy server and session\n",
       "      var cmd = \"import bokeh.io.notebook as ion; ion.destroy_server('\" + server_id + \"')\";\n",
       "      cell.notebook.kernel.execute(cmd);\n",
       "    }\n",
       "  }\n",
       "\n",
       "  /**\n",
       "   * Handle when a new output is added\n",
       "   */\n",
       "  function handleAddOutput(event, handle) {\n",
       "    var output_area = handle.output_area;\n",
       "    var output = handle.output;\n",
       "\n",
       "    // limit handleAddOutput to display_data with EXEC_MIME_TYPE content only\n",
       "    if ((output.output_type != \"display_data\") || (!output.data.hasOwnProperty(EXEC_MIME_TYPE))) {\n",
       "      return\n",
       "    }\n",
       "\n",
       "    var toinsert = output_area.element.find(\".\" + CLASS_NAME.split(' ')[0]);\n",
       "\n",
       "    if (output.metadata[EXEC_MIME_TYPE][\"id\"] !== undefined) {\n",
       "      toinsert[toinsert.length - 1].firstChild.textContent = output.data[JS_MIME_TYPE];\n",
       "      // store reference to embed id on output_area\n",
       "      output_area._bokeh_element_id = output.metadata[EXEC_MIME_TYPE][\"id\"];\n",
       "    }\n",
       "    if (output.metadata[EXEC_MIME_TYPE][\"server_id\"] !== undefined) {\n",
       "      var bk_div = document.createElement(\"div\");\n",
       "      bk_div.innerHTML = output.data[HTML_MIME_TYPE];\n",
       "      var script_attrs = bk_div.children[0].attributes;\n",
       "      for (var i = 0; i < script_attrs.length; i++) {\n",
       "        toinsert[toinsert.length - 1].firstChild.setAttribute(script_attrs[i].name, script_attrs[i].value);\n",
       "      }\n",
       "      // store reference to server id on output_area\n",
       "      output_area._bokeh_server_id = output.metadata[EXEC_MIME_TYPE][\"server_id\"];\n",
       "    }\n",
       "  }\n",
       "\n",
       "  function register_renderer(events, OutputArea) {\n",
       "\n",
       "    function append_mime(data, metadata, element) {\n",
       "      // create a DOM node to render to\n",
       "      var toinsert = this.create_output_subarea(\n",
       "        metadata,\n",
       "        CLASS_NAME,\n",
       "        EXEC_MIME_TYPE\n",
       "      );\n",
       "      this.keyboard_manager.register_events(toinsert);\n",
       "      // Render to node\n",
       "      var props = {data: data, metadata: metadata[EXEC_MIME_TYPE]};\n",
       "      render(props, toinsert[toinsert.length - 1]);\n",
       "      element.append(toinsert);\n",
       "      return toinsert\n",
       "    }\n",
       "\n",
       "    /* Handle when an output is cleared or removed */\n",
       "    events.on('clear_output.CodeCell', handleClearOutput);\n",
       "    events.on('delete.Cell', handleClearOutput);\n",
       "\n",
       "    /* Handle when a new output is added */\n",
       "    events.on('output_added.OutputArea', handleAddOutput);\n",
       "\n",
       "    /**\n",
       "     * Register the mime type and append_mime function with output_area\n",
       "     */\n",
       "    OutputArea.prototype.register_mime_type(EXEC_MIME_TYPE, append_mime, {\n",
       "      /* Is output safe? */\n",
       "      safe: true,\n",
       "      /* Index of renderer in `output_area.display_order` */\n",
       "      index: 0\n",
       "    });\n",
       "  }\n",
       "\n",
       "  // register the mime type if in Jupyter Notebook environment and previously unregistered\n",
       "  if (root.Jupyter !== undefined) {\n",
       "    var events = require('base/js/events');\n",
       "    var OutputArea = require('notebook/js/outputarea').OutputArea;\n",
       "\n",
       "    if (OutputArea.prototype.mime_types().indexOf(EXEC_MIME_TYPE) == -1) {\n",
       "      register_renderer(events, OutputArea);\n",
       "    }\n",
       "  }\n",
       "\n",
       "  \n",
       "  if (typeof (root._bokeh_timeout) === \"undefined\" || force === true) {\n",
       "    root._bokeh_timeout = Date.now() + 5000;\n",
       "    root._bokeh_failed_load = false;\n",
       "  }\n",
       "\n",
       "  var NB_LOAD_WARNING = {'data': {'text/html':\n",
       "     \"<div style='background-color: #fdd'>\\n\"+\n",
       "     \"<p>\\n\"+\n",
       "     \"BokehJS does not appear to have successfully loaded. If loading BokehJS from CDN, this \\n\"+\n",
       "     \"may be due to a slow or bad network connection. Possible fixes:\\n\"+\n",
       "     \"</p>\\n\"+\n",
       "     \"<ul>\\n\"+\n",
       "     \"<li>re-rerun `output_notebook()` to attempt to load from CDN again, or</li>\\n\"+\n",
       "     \"<li>use INLINE resources instead, as so:</li>\\n\"+\n",
       "     \"</ul>\\n\"+\n",
       "     \"<code>\\n\"+\n",
       "     \"from bokeh.resources import INLINE\\n\"+\n",
       "     \"output_notebook(resources=INLINE)\\n\"+\n",
       "     \"</code>\\n\"+\n",
       "     \"</div>\"}};\n",
       "\n",
       "  function display_loaded() {\n",
       "    var el = document.getElementById(\"1001\");\n",
       "    if (el != null) {\n",
       "      el.textContent = \"BokehJS is loading...\";\n",
       "    }\n",
       "    if (root.Bokeh !== undefined) {\n",
       "      if (el != null) {\n",
       "        el.textContent = \"BokehJS \" + root.Bokeh.version + \" successfully loaded.\";\n",
       "      }\n",
       "    } else if (Date.now() < root._bokeh_timeout) {\n",
       "      setTimeout(display_loaded, 100)\n",
       "    }\n",
       "  }\n",
       "\n",
       "\n",
       "  function run_callbacks() {\n",
       "    try {\n",
       "      root._bokeh_onload_callbacks.forEach(function(callback) {\n",
       "        if (callback != null)\n",
       "          callback();\n",
       "      });\n",
       "    } finally {\n",
       "      delete root._bokeh_onload_callbacks\n",
       "    }\n",
       "    console.debug(\"Bokeh: all callbacks have finished\");\n",
       "  }\n",
       "\n",
       "  function load_libs(css_urls, js_urls, callback) {\n",
       "    if (css_urls == null) css_urls = [];\n",
       "    if (js_urls == null) js_urls = [];\n",
       "\n",
       "    root._bokeh_onload_callbacks.push(callback);\n",
       "    if (root._bokeh_is_loading > 0) {\n",
       "      console.debug(\"Bokeh: BokehJS is being loaded, scheduling callback at\", now());\n",
       "      return null;\n",
       "    }\n",
       "    if (js_urls == null || js_urls.length === 0) {\n",
       "      run_callbacks();\n",
       "      return null;\n",
       "    }\n",
       "    console.debug(\"Bokeh: BokehJS not loaded, scheduling load and callback at\", now());\n",
       "    root._bokeh_is_loading = css_urls.length + js_urls.length;\n",
       "\n",
       "    function on_load() {\n",
       "      root._bokeh_is_loading--;\n",
       "      if (root._bokeh_is_loading === 0) {\n",
       "        console.debug(\"Bokeh: all BokehJS libraries/stylesheets loaded\");\n",
       "        run_callbacks()\n",
       "      }\n",
       "    }\n",
       "\n",
       "    function on_error() {\n",
       "      console.error(\"failed to load \" + url);\n",
       "    }\n",
       "\n",
       "    for (var i = 0; i < css_urls.length; i++) {\n",
       "      var url = css_urls[i];\n",
       "      const element = document.createElement(\"link\");\n",
       "      element.onload = on_load;\n",
       "      element.onerror = on_error;\n",
       "      element.rel = \"stylesheet\";\n",
       "      element.type = \"text/css\";\n",
       "      element.href = url;\n",
       "      console.debug(\"Bokeh: injecting link tag for BokehJS stylesheet: \", url);\n",
       "      document.body.appendChild(element);\n",
       "    }\n",
       "\n",
       "    for (var i = 0; i < js_urls.length; i++) {\n",
       "      var url = js_urls[i];\n",
       "      var element = document.createElement('script');\n",
       "      element.onload = on_load;\n",
       "      element.onerror = on_error;\n",
       "      element.async = false;\n",
       "      element.src = url;\n",
       "      console.debug(\"Bokeh: injecting script tag for BokehJS library: \", url);\n",
       "      document.head.appendChild(element);\n",
       "    }\n",
       "  };var element = document.getElementById(\"1001\");\n",
       "  if (element == null) {\n",
       "    console.error(\"Bokeh: ERROR: autoload.js configured with elementid '1001' but no matching script tag was found. \")\n",
       "    return false;\n",
       "  }\n",
       "\n",
       "  function inject_raw_css(css) {\n",
       "    const element = document.createElement(\"style\");\n",
       "    element.appendChild(document.createTextNode(css));\n",
       "    document.body.appendChild(element);\n",
       "  }\n",
       "\n",
       "  \n",
       "  var js_urls = [\"https://cdn.pydata.org/bokeh/release/bokeh-1.4.0.min.js\", \"https://cdn.pydata.org/bokeh/release/bokeh-widgets-1.4.0.min.js\", \"https://cdn.pydata.org/bokeh/release/bokeh-tables-1.4.0.min.js\", \"https://cdn.pydata.org/bokeh/release/bokeh-gl-1.4.0.min.js\"];\n",
       "  var css_urls = [];\n",
       "  \n",
       "\n",
       "  var inline_js = [\n",
       "    function(Bokeh) {\n",
       "      Bokeh.set_log_level(\"info\");\n",
       "    },\n",
       "    function(Bokeh) {\n",
       "    \n",
       "    \n",
       "    }\n",
       "  ];\n",
       "\n",
       "  function run_inline_js() {\n",
       "    \n",
       "    if (root.Bokeh !== undefined || force === true) {\n",
       "      \n",
       "    for (var i = 0; i < inline_js.length; i++) {\n",
       "      inline_js[i].call(root, root.Bokeh);\n",
       "    }\n",
       "    if (force === true) {\n",
       "        display_loaded();\n",
       "      }} else if (Date.now() < root._bokeh_timeout) {\n",
       "      setTimeout(run_inline_js, 100);\n",
       "    } else if (!root._bokeh_failed_load) {\n",
       "      console.log(\"Bokeh: BokehJS failed to load within specified timeout.\");\n",
       "      root._bokeh_failed_load = true;\n",
       "    } else if (force !== true) {\n",
       "      var cell = $(document.getElementById(\"1001\")).parents('.cell').data().cell;\n",
       "      cell.output_area.append_execute_result(NB_LOAD_WARNING)\n",
       "    }\n",
       "\n",
       "  }\n",
       "\n",
       "  if (root._bokeh_is_loading === 0) {\n",
       "    console.debug(\"Bokeh: BokehJS loaded, going straight to plotting\");\n",
       "    run_inline_js();\n",
       "  } else {\n",
       "    load_libs(css_urls, js_urls, function() {\n",
       "      console.debug(\"Bokeh: BokehJS plotting callback run at\", now());\n",
       "      run_inline_js();\n",
       "    });\n",
       "  }\n",
       "}(window));"
      ],
      "application/vnd.bokehjs_load.v0+json": "\n(function(root) {\n  function now() {\n    return new Date();\n  }\n\n  var force = true;\n\n  if (typeof root._bokeh_onload_callbacks === \"undefined\" || force === true) {\n    root._bokeh_onload_callbacks = [];\n    root._bokeh_is_loading = undefined;\n  }\n\n  \n\n  \n  if (typeof (root._bokeh_timeout) === \"undefined\" || force === true) {\n    root._bokeh_timeout = Date.now() + 5000;\n    root._bokeh_failed_load = false;\n  }\n\n  var NB_LOAD_WARNING = {'data': {'text/html':\n     \"<div style='background-color: #fdd'>\\n\"+\n     \"<p>\\n\"+\n     \"BokehJS does not appear to have successfully loaded. If loading BokehJS from CDN, this \\n\"+\n     \"may be due to a slow or bad network connection. Possible fixes:\\n\"+\n     \"</p>\\n\"+\n     \"<ul>\\n\"+\n     \"<li>re-rerun `output_notebook()` to attempt to load from CDN again, or</li>\\n\"+\n     \"<li>use INLINE resources instead, as so:</li>\\n\"+\n     \"</ul>\\n\"+\n     \"<code>\\n\"+\n     \"from bokeh.resources import INLINE\\n\"+\n     \"output_notebook(resources=INLINE)\\n\"+\n     \"</code>\\n\"+\n     \"</div>\"}};\n\n  function display_loaded() {\n    var el = document.getElementById(\"1001\");\n    if (el != null) {\n      el.textContent = \"BokehJS is loading...\";\n    }\n    if (root.Bokeh !== undefined) {\n      if (el != null) {\n        el.textContent = \"BokehJS \" + root.Bokeh.version + \" successfully loaded.\";\n      }\n    } else if (Date.now() < root._bokeh_timeout) {\n      setTimeout(display_loaded, 100)\n    }\n  }\n\n\n  function run_callbacks() {\n    try {\n      root._bokeh_onload_callbacks.forEach(function(callback) {\n        if (callback != null)\n          callback();\n      });\n    } finally {\n      delete root._bokeh_onload_callbacks\n    }\n    console.debug(\"Bokeh: all callbacks have finished\");\n  }\n\n  function load_libs(css_urls, js_urls, callback) {\n    if (css_urls == null) css_urls = [];\n    if (js_urls == null) js_urls = [];\n\n    root._bokeh_onload_callbacks.push(callback);\n    if (root._bokeh_is_loading > 0) {\n      console.debug(\"Bokeh: BokehJS is being loaded, scheduling callback at\", now());\n      return null;\n    }\n    if (js_urls == null || js_urls.length === 0) {\n      run_callbacks();\n      return null;\n    }\n    console.debug(\"Bokeh: BokehJS not loaded, scheduling load and callback at\", now());\n    root._bokeh_is_loading = css_urls.length + js_urls.length;\n\n    function on_load() {\n      root._bokeh_is_loading--;\n      if (root._bokeh_is_loading === 0) {\n        console.debug(\"Bokeh: all BokehJS libraries/stylesheets loaded\");\n        run_callbacks()\n      }\n    }\n\n    function on_error() {\n      console.error(\"failed to load \" + url);\n    }\n\n    for (var i = 0; i < css_urls.length; i++) {\n      var url = css_urls[i];\n      const element = document.createElement(\"link\");\n      element.onload = on_load;\n      element.onerror = on_error;\n      element.rel = \"stylesheet\";\n      element.type = \"text/css\";\n      element.href = url;\n      console.debug(\"Bokeh: injecting link tag for BokehJS stylesheet: \", url);\n      document.body.appendChild(element);\n    }\n\n    for (var i = 0; i < js_urls.length; i++) {\n      var url = js_urls[i];\n      var element = document.createElement('script');\n      element.onload = on_load;\n      element.onerror = on_error;\n      element.async = false;\n      element.src = url;\n      console.debug(\"Bokeh: injecting script tag for BokehJS library: \", url);\n      document.head.appendChild(element);\n    }\n  };var element = document.getElementById(\"1001\");\n  if (element == null) {\n    console.error(\"Bokeh: ERROR: autoload.js configured with elementid '1001' but no matching script tag was found. \")\n    return false;\n  }\n\n  function inject_raw_css(css) {\n    const element = document.createElement(\"style\");\n    element.appendChild(document.createTextNode(css));\n    document.body.appendChild(element);\n  }\n\n  \n  var js_urls = [\"https://cdn.pydata.org/bokeh/release/bokeh-1.4.0.min.js\", \"https://cdn.pydata.org/bokeh/release/bokeh-widgets-1.4.0.min.js\", \"https://cdn.pydata.org/bokeh/release/bokeh-tables-1.4.0.min.js\", \"https://cdn.pydata.org/bokeh/release/bokeh-gl-1.4.0.min.js\"];\n  var css_urls = [];\n  \n\n  var inline_js = [\n    function(Bokeh) {\n      Bokeh.set_log_level(\"info\");\n    },\n    function(Bokeh) {\n    \n    \n    }\n  ];\n\n  function run_inline_js() {\n    \n    if (root.Bokeh !== undefined || force === true) {\n      \n    for (var i = 0; i < inline_js.length; i++) {\n      inline_js[i].call(root, root.Bokeh);\n    }\n    if (force === true) {\n        display_loaded();\n      }} else if (Date.now() < root._bokeh_timeout) {\n      setTimeout(run_inline_js, 100);\n    } else if (!root._bokeh_failed_load) {\n      console.log(\"Bokeh: BokehJS failed to load within specified timeout.\");\n      root._bokeh_failed_load = true;\n    } else if (force !== true) {\n      var cell = $(document.getElementById(\"1001\")).parents('.cell').data().cell;\n      cell.output_area.append_execute_result(NB_LOAD_WARNING)\n    }\n\n  }\n\n  if (root._bokeh_is_loading === 0) {\n    console.debug(\"Bokeh: BokehJS loaded, going straight to plotting\");\n    run_inline_js();\n  } else {\n    load_libs(css_urls, js_urls, function() {\n      console.debug(\"Bokeh: BokehJS plotting callback run at\", now());\n      run_inline_js();\n    });\n  }\n}(window));"
     },
     "metadata": {},
     "output_type": "display_data"
    }
   ],
   "source": [
    "from sklearn.manifold import TSNE\n",
    "from bokeh.plotting import figure, show, output_notebook\n",
    "from bokeh.models import HoverTool, ColumnDataSource, value\n",
    "\n",
    "output_notebook()"
   ]
  },
  {
   "cell_type": "code",
   "execution_count": 148,
   "metadata": {
    "ExecuteTime": {
     "end_time": "2020-03-09T17:22:36.463228Z",
     "start_time": "2020-03-09T17:22:36.457233Z"
    }
   },
   "outputs": [],
   "source": [
    "def make_vecs_for_bokeh_tsne(w2v):\n",
    "    '''\n",
    "    Prepare data to DataFrame vecs for input into bokeh_tsne_plot given Word2Vec model.\n",
    "    '''\n",
    "    df_vecs = make_df(w2v)\n",
    "    # Initialse TSNE and fir_transform\n",
    "    tsne = TSNE()\n",
    "    tsne_vecs = tsne.fit_transform(df_vecs.values)\n",
    "    # Transform to 2d coordinates for plotting\n",
    "    tsne_vecs = pd.DataFrame(tsne_vecs, index=pd.Index(df_vecs.index), columns=['x', 'y'])\n",
    "    # Add columns for words\n",
    "    tsne_vecs['word'] = tsne_vecs.index\n",
    "    \n",
    "    return tsne_vecs"
   ]
  },
  {
   "cell_type": "code",
   "execution_count": 149,
   "metadata": {
    "ExecuteTime": {
     "end_time": "2020-03-09T17:22:39.855146Z",
     "start_time": "2020-03-09T17:22:39.848173Z"
    }
   },
   "outputs": [],
   "source": [
    "def bokeh_tsne_plot(tsne_vecs):\n",
    "    '''\n",
    "    Bokeh plot for DataFrame of t-SNE vectors.\n",
    "    '''\n",
    "\n",
    "    # Credit: Patrick Harrison: Modern NLP in Python | PyData DC 2016  \n",
    "    # add our DataFrame as a ColumnDataSource for Bokeh\n",
    "    plot_data = ColumnDataSource(tsne_vecs)\n",
    "\n",
    "    # create the plot and configure the\n",
    "    # title, dimensions, and tools\n",
    "    tsne_plot = figure(\n",
    "        title='t-SNE Word Embeddings',\n",
    "        plot_width=500,\n",
    "        plot_height=500,\n",
    "        tools=(\n",
    "            'pan, wheel_zoom, box_zoom,'\n",
    "            'box_select, reset'\n",
    "            ),\n",
    "        active_scroll='wheel_zoom'\n",
    "        )\n",
    "\n",
    "    # add a hover tool to display words on roll-over\n",
    "    tsne_plot.add_tools(\n",
    "        HoverTool(tooltips = '@word')\n",
    "        )\n",
    "    \n",
    "    # draw the words as circles on the plot\n",
    "    tsne_plot.circle(\n",
    "        'x',\n",
    "        'y',\n",
    "        source=plot_data,\n",
    "        color='blue',\n",
    "        line_alpha=0.2,\n",
    "        fill_alpha=0.1,\n",
    "        size=15,\n",
    "        hover_line_color='black'\n",
    "        )\n",
    "    \n",
    "    # configure visual elements of the plotc\n",
    "    tsne_plot.title.text_font_size = value('16pt')\n",
    "    tsne_plot.xaxis.visible = False\n",
    "    tsne_plot.yaxis.visible = False\n",
    "    tsne_plot.grid.grid_line_color = None\n",
    "    tsne_plot.outline_line_color = None\n",
    "    \n",
    "    # engage!\n",
    "    show(tsne_plot);"
   ]
  },
  {
   "cell_type": "code",
   "execution_count": 150,
   "metadata": {
    "ExecuteTime": {
     "end_time": "2020-03-09T17:22:51.083117Z",
     "start_time": "2020-03-09T17:22:43.039631Z"
    }
   },
   "outputs": [],
   "source": [
    "tsne_vecs_docs = make_vecs_for_bokeh_tsne(w2v_docs)"
   ]
  },
  {
   "cell_type": "code",
   "execution_count": 151,
   "metadata": {
    "ExecuteTime": {
     "end_time": "2020-03-09T17:22:54.624698Z",
     "start_time": "2020-03-09T17:22:54.569826Z"
    }
   },
   "outputs": [
    {
     "data": {
      "text/html": [
       "\n",
       "\n",
       "\n",
       "\n",
       "\n",
       "\n",
       "  <div class=\"bk-root\" id=\"c55a7052-4b59-41ee-baab-e55932201e00\" data-root-id=\"1412\"></div>\n"
      ]
     },
     "metadata": {},
     "output_type": "display_data"
    },
    {
     "data": {
      "application/javascript": [
       "(function(root) {\n",
       "  function embed_document(root) {\n",
       "    \n",
       "  var docs_json = {\"d3a5e3f6-b378-4f1b-9578-a99873bd219d\":{\"roots\":{\"references\":[{\"attributes\":{\"below\":[{\"id\":\"1423\",\"type\":\"LinearAxis\"}],\"center\":[{\"id\":\"1427\",\"type\":\"Grid\"},{\"id\":\"1432\",\"type\":\"Grid\"}],\"left\":[{\"id\":\"1428\",\"type\":\"LinearAxis\"}],\"outline_line_color\":{\"value\":null},\"plot_height\":500,\"plot_width\":500,\"renderers\":[{\"id\":\"1450\",\"type\":\"GlyphRenderer\"}],\"title\":{\"id\":\"1413\",\"type\":\"Title\"},\"toolbar\":{\"id\":\"1438\",\"type\":\"Toolbar\"},\"x_range\":{\"id\":\"1415\",\"type\":\"DataRange1d\"},\"x_scale\":{\"id\":\"1419\",\"type\":\"LinearScale\"},\"y_range\":{\"id\":\"1417\",\"type\":\"DataRange1d\"},\"y_scale\":{\"id\":\"1421\",\"type\":\"LinearScale\"}},\"id\":\"1412\",\"subtype\":\"Figure\",\"type\":\"Plot\"},{\"attributes\":{},\"id\":\"1437\",\"type\":\"ResetTool\"},{\"attributes\":{},\"id\":\"1487\",\"type\":\"UnionRenderers\"},{\"attributes\":{\"data_source\":{\"id\":\"1411\",\"type\":\"ColumnDataSource\"},\"glyph\":{\"id\":\"1447\",\"type\":\"Circle\"},\"hover_glyph\":{\"id\":\"1449\",\"type\":\"Circle\"},\"muted_glyph\":null,\"nonselection_glyph\":{\"id\":\"1448\",\"type\":\"Circle\"},\"selection_glyph\":null,\"view\":{\"id\":\"1451\",\"type\":\"CDSView\"}},\"id\":\"1450\",\"type\":\"GlyphRenderer\"},{\"attributes\":{},\"id\":\"1433\",\"type\":\"PanTool\"},{\"attributes\":{\"fill_alpha\":{\"value\":0.1},\"fill_color\":{\"value\":\"#1f77b4\"},\"line_alpha\":{\"value\":0.1},\"line_color\":{\"value\":\"#1f77b4\"},\"size\":{\"units\":\"screen\",\"value\":15},\"x\":{\"field\":\"x\"},\"y\":{\"field\":\"y\"}},\"id\":\"1448\",\"type\":\"Circle\"},{\"attributes\":{\"formatter\":{\"id\":\"1480\",\"type\":\"BasicTickFormatter\"},\"ticker\":{\"id\":\"1429\",\"type\":\"BasicTicker\"},\"visible\":false},\"id\":\"1428\",\"type\":\"LinearAxis\"},{\"attributes\":{\"grid_line_color\":null,\"ticker\":{\"id\":\"1424\",\"type\":\"BasicTicker\"}},\"id\":\"1427\",\"type\":\"Grid\"},{\"attributes\":{\"source\":{\"id\":\"1411\",\"type\":\"ColumnDataSource\"}},\"id\":\"1451\",\"type\":\"CDSView\"},{\"attributes\":{\"callback\":null},\"id\":\"1415\",\"type\":\"DataRange1d\"},{\"attributes\":{},\"id\":\"1434\",\"type\":\"WheelZoomTool\"},{\"attributes\":{},\"id\":\"1419\",\"type\":\"LinearScale\"},{\"attributes\":{},\"id\":\"1421\",\"type\":\"LinearScale\"},{\"attributes\":{},\"id\":\"1480\",\"type\":\"BasicTickFormatter\"},{\"attributes\":{},\"id\":\"1486\",\"type\":\"Selection\"},{\"attributes\":{\"text\":\"t-SNE Word Embeddings\",\"text_font_size\":{\"value\":\"16pt\"}},\"id\":\"1413\",\"type\":\"Title\"},{\"attributes\":{\"callback\":null,\"overlay\":{\"id\":\"1485\",\"type\":\"BoxAnnotation\"}},\"id\":\"1436\",\"type\":\"BoxSelectTool\"},{\"attributes\":{},\"id\":\"1424\",\"type\":\"BasicTicker\"},{\"attributes\":{},\"id\":\"1429\",\"type\":\"BasicTicker\"},{\"attributes\":{\"active_drag\":\"auto\",\"active_inspect\":\"auto\",\"active_multi\":null,\"active_scroll\":{\"id\":\"1434\",\"type\":\"WheelZoomTool\"},\"active_tap\":\"auto\",\"tools\":[{\"id\":\"1433\",\"type\":\"PanTool\"},{\"id\":\"1434\",\"type\":\"WheelZoomTool\"},{\"id\":\"1435\",\"type\":\"BoxZoomTool\"},{\"id\":\"1436\",\"type\":\"BoxSelectTool\"},{\"id\":\"1437\",\"type\":\"ResetTool\"},{\"id\":\"1444\",\"type\":\"HoverTool\"}]},\"id\":\"1438\",\"type\":\"Toolbar\"},{\"attributes\":{\"fill_alpha\":{\"value\":0.1},\"fill_color\":{\"value\":\"blue\"},\"line_alpha\":{\"value\":0.2},\"line_color\":{\"value\":\"blue\"},\"size\":{\"units\":\"screen\",\"value\":15},\"x\":{\"field\":\"x\"},\"y\":{\"field\":\"y\"}},\"id\":\"1447\",\"type\":\"Circle\"},{\"attributes\":{\"dimension\":1,\"grid_line_color\":null,\"ticker\":{\"id\":\"1429\",\"type\":\"BasicTicker\"}},\"id\":\"1432\",\"type\":\"Grid\"},{\"attributes\":{},\"id\":\"1482\",\"type\":\"BasicTickFormatter\"},{\"attributes\":{\"bottom_units\":\"screen\",\"fill_alpha\":{\"value\":0.5},\"fill_color\":{\"value\":\"lightgrey\"},\"left_units\":\"screen\",\"level\":\"overlay\",\"line_alpha\":{\"value\":1.0},\"line_color\":{\"value\":\"black\"},\"line_dash\":[4,4],\"line_width\":{\"value\":2},\"render_mode\":\"css\",\"right_units\":\"screen\",\"top_units\":\"screen\"},\"id\":\"1485\",\"type\":\"BoxAnnotation\"},{\"attributes\":{\"callback\":null,\"tooltips\":\"@word\"},\"id\":\"1444\",\"type\":\"HoverTool\"},{\"attributes\":{\"callback\":null},\"id\":\"1417\",\"type\":\"DataRange1d\"},{\"attributes\":{\"formatter\":{\"id\":\"1482\",\"type\":\"BasicTickFormatter\"},\"ticker\":{\"id\":\"1424\",\"type\":\"BasicTicker\"},\"visible\":false},\"id\":\"1423\",\"type\":\"LinearAxis\"},{\"attributes\":{\"fill_color\":{\"value\":\"#1f77b4\"},\"size\":{\"units\":\"screen\",\"value\":15},\"x\":{\"field\":\"x\"},\"y\":{\"field\":\"y\"}},\"id\":\"1449\",\"type\":\"Circle\"},{\"attributes\":{\"bottom_units\":\"screen\",\"fill_alpha\":{\"value\":0.5},\"fill_color\":{\"value\":\"lightgrey\"},\"left_units\":\"screen\",\"level\":\"overlay\",\"line_alpha\":{\"value\":1.0},\"line_color\":{\"value\":\"black\"},\"line_dash\":[4,4],\"line_width\":{\"value\":2},\"render_mode\":\"css\",\"right_units\":\"screen\",\"top_units\":\"screen\"},\"id\":\"1484\",\"type\":\"BoxAnnotation\"},{\"attributes\":{\"overlay\":{\"id\":\"1484\",\"type\":\"BoxAnnotation\"}},\"id\":\"1435\",\"type\":\"BoxZoomTool\"},{\"attributes\":{\"callback\":null,\"data\":{\"index\":[\"food\",\"suggest\",\"datum\",\"health\",\"find\",\"include\",\"provide\",\"nutrition\",\"dietary\",\"present\",\"reduce\",\"model\",\"child\",\"analysis\",\"base\",\"nutritional\",\"improve\",\"important\",\"individual\",\"need\",\"specie\",\"associate\",\"use\",\"difference\",\"time\",\"group\",\"development\",\"protein\",\"potential\",\"patient\",\"factor\",\"identify\",\"intervention\",\"finding\",\"plant\",\"feed\",\"specific\",\"compare\",\"research\",\"relate\",\"disease\",\"gene\",\"human\",\"response\",\"impact\",\"decrease\",\"control\",\"animal\",\"large\",\"likely\",\"condition\",\"method\",\"concentration\",\"demonstrate\",\"consumption\",\"indicate\",\"approach\",\"treatment\",\"growth\",\"similar\",\"evidence\",\"consider\",\"require\",\"nutrient\",\"affect\",\"influence\",\"area\",\"observe\",\"community\",\"obesity\",\"cell\",\"activity\",\"lead\",\"support\",\"report\",\"pattern\",\"early\",\"system\",\"process\",\"target\",\"develop\",\"information\",\"great\",\"role\",\"measure\",\"risk\",\"region\",\"woman\",\"addition\",\"significant\",\"possible\",\"work\",\"production\",\"function\",\"age\",\"content\",\"contribute\",\"environment\",\"value\",\"period\",\"strategy\",\"new\",\"intake\",\"cause\",\"program\",\"induce\",\"expression\",\"number\",\"overall\",\"tissue\",\"source\",\"especially\",\"metabolic\",\"mechanism\",\"fish\",\"focus\",\"quality\",\"future\",\"supplementation\",\"sample\",\"practice\",\"pathway\",\"conclusion\",\"relationship\",\"current\",\"non\",\"adult\",\"determine\",\"knowledge\",\"product\",\"composition\",\"outcome\",\"appear\",\"local\",\"resource\",\"assess\",\"female\",\"rate\",\"help\",\"follow\",\"interaction\",\"reveal\",\"liver\",\"variation\",\"mouse\",\"benefit\",\"particularly\",\"policy\",\"order\",\"country\",\"remain\",\"case\",\"association\",\"investigate\",\"exposure\",\"test\",\"energy\",\"fat\",\"poor\",\"understand\",\"promote\",\"size\",\"maternal\",\"host\",\"pregnancy\",\"lack\",\"major\",\"produce\",\"1\",\"estimate\",\"good\",\"component\",\"long_term\",\"site\",\"e.g.\",\"allow\",\"furthermore\",\"year\",\"like\",\"metabolism\",\"status\",\"know\",\"consume\",\"effective\",\"water\",\"particular\",\"access\",\"involve\",\"stress\",\"design\",\"reduction\",\"link\",\"characteristic\",\"feeding\",\"address\",\"behavior\",\"available\",\"parameter\",\"strong\",\"metabolite\",\"multiple\",\"management\",\"regulation\",\"improvement\",\"small\",\"soil\",\"presence\",\"range\",\"exist\",\"occur\",\"additional\",\"type\",\"state\",\"significantly\",\"way\",\"functional\",\"mother\",\"form\",\"genetic\",\"healthy\",\"alter\",\"evaluate\",\"day\",\"effort\",\"scale\",\"lipid\",\"importance\",\"profile\",\"infection\",\"care\",\"represent\",\"establish\",\"limit\",\"tool\",\"detect\",\"consistent\",\"total\",\"performance\",\"weight\",\"and/or\",\"infant\",\"muscle\",\"variable\",\"investigation\",\"describe\",\"2\",\"enhance\",\"future_study\",\"public_health\",\"highly\",\"risk_factor\",\"supplement\",\"household\",\"appropriate\",\"novel\",\"male\",\"environmental\",\"ability\",\"prevent\",\"marker\",\"exercise\",\"ecological\",\"result_suggest\",\"achieve\",\"social\",\"combination\",\"confirm\",\"insect\",\"habitat\",\"trend\",\"diversity\",\"challenge\",\"physical_activity\",\"prevalence\",\"cost\",\"experiment\",\"regulate\",\"key\",\"glucose\",\"complex\",\"potentially\",\"malnutrition\",\"propose\",\"recommend\",\"action\",\"structure\",\"brain\",\"reflect\",\"seed\",\"common\",\"relative\",\"application\",\"context\",\"finally\",\"explain\",\"stage\",\"clinical\",\"term\",\"contain\",\"rat\",\"setting\",\"crop\",\"temperature\",\"consumer\",\"alteration\",\"able\",\"nutritional_status\",\"useful\",\"ratio\",\"understanding\",\"body\",\"combine\",\"people\",\"predict\",\"long\",\"shift\",\"fatty_acid\",\"apply\",\"hypothesis\",\"previously\",\"BMI\",\"positive\",\"indicator\",\"point\",\"global\",\"gut\",\"assessment\",\"rice\",\"example\",\"necessary\",\"physiological\",\"fruit\",\"general\",\"live\",\"examine\",\"question\",\"despite\",\"distribution\",\"feature\",\"grow\",\"contrast\",\"rich\",\"comparison\",\"microbiota\",\"bone\",\"training\",\"perform\",\"direct\",\"i.e.\",\"natural\",\"molecular\",\"obtain\",\"essential\",\"short\",\"education\",\"culture\",\"milk\",\"service\",\"accord\",\"prey\",\"set\",\"consequence\",\"index\",\"add\",\"availability\",\"depend\",\"3\",\"limitation\",\"biological\",\"maintain\",\"recent\",\"problem\",\"previous\",\"plasma\",\"yield\",\"forage\",\"clear\",\"family\",\"comprehensive\",\"bacteria\",\"enzyme\",\"loss\",\"issue\",\"beneficial\",\"evaluation\",\"single\",\"4\",\"cancer\",\"oil\",\"decline\",\"highlight\",\"mortality\",\"summary\",\"dynamic\",\"observation\",\"serve\",\"limited\",\"critical\",\"activation\",\"opportunity\",\"alternative\",\"ensure\",\"survival\",\"eat\",\"life\",\"implement\",\"field\",\"conclude\",\"relatively\",\"recommendation\",\"abundance\",\"account\",\"aspect\",\"explore\",\"normal\",\"conduct\",\"prevention\",\"possibly\",\"main\",\"derive\",\"amino_acid\",\"5\",\"selection\",\"broad\",\"trait\",\"determinant\",\"line\",\"taxa\",\"signal\",\"economic\",\"primary\",\"strain\",\"gene_expression\",\"implication\",\"experimental\",\"bacterial\",\"exhibit\",\"contribution\",\"efficiency\",\"young\",\"future_research\",\"note\",\"select\",\"facilitate\",\"fact\",\"inflammation\",\"currently\",\"insight\",\"old\",\"expect\",\"post\",\"adaptation\",\"marine\",\"adapt\",\"identification\",\"technique\",\"acid\",\"characterize\",\"analyze\",\"tooth\",\"horse\",\"blood\",\"offer\",\"standard\",\"differ\",\"generate\",\"deficiency\",\"phenotype\",\"forest\",\"define\",\"compound\",\"ecosystem\",\"optimal\",\"mainly\",\"mean\",\"capacity\",\"shape\",\"literature\",\"HFD\",\"supply\",\"grain\",\"late\",\"survey\",\"behaviour\",\"aim\",\"concern\",\"experience\",\"result_indicate\",\"continue\",\"enable\",\"mediate\",\"negative\",\"strongly\",\"property\",\"school\",\"subject\",\"lifestyle\",\"specifically\",\"p\",\"correlate\",\"release\",\"adequate\",\"physical\",\"hand\",\"proportion\",\"average\",\"paper\",\"probably\",\"second\",\"national\",\"balance\",\"absence\",\"drive\",\"participant\",\"genotype\",\"dependent\",\"basis\",\"dog\",\"prior\",\"density\",\"integrate\",\"score\",\"measurement\",\"C.\",\"central\",\"HIV\",\"sequence\",\"meat\",\"complete\",\"variety\",\"high_fat\",\"pig\",\"additionally\",\"reach\",\"fast\",\"treat\",\"vary\",\"monitor\",\"leave\",\"serum\",\"respectively\",\"certain\",\"diabetes\",\"carbohydrate\",\"30\",\"intestinal\",\"accumulation\",\"mitochondrial\",\"evolution\",\"play\",\"suitable\",\"micronutrient\",\"sex\",\"month\",\"gut_microbiota\",\"microbial\",\"dataset\",\"active\",\"gain\",\"relevant\",\"interesting\",\"traditional\",\"agricultural\",\"document\",\"nature\",\"better\",\"high_level\",\"little\",\"chronic\",\"element\",\"biomarker\",\"waste\",\"event\",\"generally\",\"requirement\",\"stunting\",\"researcher\",\"P.\",\"cow\",\"degree\",\"place\",\"independent\",\"create\",\"incorporate\",\"ingredient\",\"larvae\",\"wild\",\"urban\",\"10\",\"microbiome\",\"bird\",\"cattle\",\"previous_study\",\"mass\",\"implementation\",\"vegetable\",\"wheat\",\"birth\",\"diverse\",\"vitamin\",\"burden\",\"record\",\"vivo\",\"past\",\"transcriptome\",\"n\",\"season\",\"fitness\",\"regard\",\"substantial\",\"food_insecurity\",\"receptor\",\"reproductive\",\"phase\",\"dna\",\"co\",\"simple\",\"attention\",\"provide_evidence\",\"step\",\"sufficient\",\"uptake\",\"et_al\",\"niche\",\"network\",\"turn\",\"category\",\"free\",\"generation\",\"fed\",\"15\",\"resistance\",\"price\",\"inflammatory\",\"landscape\",\"iron\",\"cohort\",\"ecology\",\"baseline\",\"detailed\",\"clearly\",\"material\",\"oral\",\"framework\",\"Fig\",\"observed\",\"relation\",\"abundant\",\"multi\",\"salt\",\"biochemical\",\"20\",\"review\",\"enrich\",\"cellular\",\"offspring\",\"gender\",\"bee\",\"far\",\"flour\",\"transport\",\"difficult\",\"avoid\",\"robust\",\"c\",\"hypertension\",\"trophic\",\"organism\",\"daily\",\"severe\",\"adverse\",\"50\",\"undernutrition\",\"variability\",\"date\",\"childhood\",\"colony\",\"incidence\",\"origin\",\"drug\",\"18\",\"self\",\"medium\",\"modification\",\"plan\",\"cultural\",\"light\",\"inclusion\",\"collect\",\"transition\",\"damage\",\"prove\",\"possibility\",\"C\",\"insulin\",\"world\",\"unique\",\"open\",\"hepatic\",\"reason\",\"complication\",\"diagnosis\",\"isotopic\",\"finding_suggest\",\"obese\",\"trial\",\"meal\",\"sugar\",\"rapid\",\"rear\",\"biomass\",\"artificial\",\"utilize\",\"extend\",\"S.\",\"inform\",\"genome\",\"correlation\",\"body_size\",\"interpret\",\"demand\",\"perspective\",\"\\u03b2\",\"history\",\"location\",\"differential\",\"14\",\"receive\",\"egg\",\"end\",\"utilization\",\"9\",\"close\",\"barrier\",\"anemia\",\"surface\",\"mammal\",\"elevated\",\"secondary\",\"6\",\"smoking\",\"expand\",\"meet\",\"antioxidant\",\"food_security\",\"sensitivity\",\"stable\",\"monitoring\",\"strengthen\",\"build\",\"directly\",\"socioeconomic\",\"week\",\"habit\",\"high_prevalence\",\"8\",\"length\",\"25\",\"pre\",\"predator\",\"agent\",\"weight_loss\",\"extent\",\"fermentation\",\"hominin\",\"inequality\",\"processing\",\"vegetation\",\"pathogen\",\"attribute\",\"bear\",\"encourage\",\"accurate\",\"interest\",\"restriction\",\"sensitive\",\"express\",\"Mediterranean\",\"validate\",\"weight_gain\",\"related\",\"raise\",\"moderate\",\"distinct\",\"criterion\",\"public\",\"China\",\"modulate\",\"frequency\",\"elucidate\",\"ultimately\",\"medical\",\"ad\",\"pregnant_woman\",\"7\",\"preference\",\"warrant\",\"overweight\",\"face\",\"herbivore\",\"dental\",\"restrict\",\"expose\",\"largely\",\"introduce\",\"reference\",\"initial\",\"modern\",\"acute\",\"nutritional_quality\",\"position\",\"emerge\",\"majority\",\"red\",\"government\",\"16\",\"overweight_obesity\",\"magnitude\",\"100\",\"input\",\"core\",\"duration\",\"dry\",\"overlap\",\"microbe\",\"morphological\",\"40\",\"cycle\",\"adolescent\",\"vulnerable\",\"sampling\",\"start\",\"consideration\",\"view\",\"couple\",\"morphology\",\"fully\",\"fecal\",\"constitute\",\"formation\",\"advantage\",\"lipid_metabolism\",\"situation\",\"rural\",\"larval\",\"recovery\",\"therapy\",\"wide_range\",\"genomic\",\"later\",\"lactate\",\"society\",\"root\",\"terrestrial\",\"dietary_pattern\",\"significant_difference\",\"carry\",\"disorder\",\"mineral\",\"importantly\",\"underlie\",\"species\",\"body_weight\",\"capture\",\"large_scale\",\"regional\",\"adherence\",\"evolutionary\",\"programme\",\"perception\",\"consequently\",\"develop_country\",\"vitro\",\"synthesis\",\"storage\",\"breed\",\"morbidity\",\"manage\",\"entire\",\"12\",\"instead\",\"height\",\"easy\",\"crucial\",\"market\",\"modify\",\"fishery\",\"N\",\"lower\",\"17\",\"juvenile\",\"effectively\",\"instance\",\"occurrence\",\"successful\",\"attempt\",\"coverage\",\"health_care\",\"breeding\",\"extract\",\"high_risk\",\"short_term\",\"death\",\"mixed\",\"unknown\",\"temporal\",\"neuron\",\"11\",\"commonly\",\"therapeutic\",\"home\",\"membrane\",\"act\",\"nutritional_intervention\",\"24\",\"tree\",\"play_important_role\",\"efficacy\",\"accompany\",\"advance\",\"adipose_tissue\",\"power\",\"anaemia\",\"Europe\",\"dose\",\"intensity\",\"primarily\",\"physiology\",\"degradation\",\"conservation\",\"farm\",\"a.\",\"TB\",\"evolve\",\"transcript\",\"quantify\",\"sub\",\"choice\",\"man\",\"pollen\",\"movement\",\"optimize\",\"28\",\"share\",\"guide\",\"developmental\",\"27\",\"aid\",\"FA\",\"healthcare\",\"widely\",\"+\",\"21\",\"tolerance\",\"gap\",\"half\",\"MS\",\"improved\",\"northern\",\"respect\",\"starch\",\"adopt\",\"urine\",\"rely\",\"display\",\"sustainable\",\"promotion\",\"subsequent\",\"predictor\",\"western\",\"winter\",\"organic\",\"wide\",\"background\",\"safe\",\"collection\",\"ruman\",\"deliver\",\"behavioral\",\"maintenance\",\"rise\",\"immune\",\"skin\",\"cognitive\",\"trigger\",\"choline\",\"efficient\",\"percentage\",\"lactation\",\"choose\",\"cholesterol\",\"wean\",\"similarly\",\"growth_performance\",\"decision\",\"dominant\",\"stunt\",\"worker\",\"increase_risk\",\"african\",\"theory\",\"dimension\",\"isolate\",\"delivery\",\"University\",\"nitrogen\",\"technology\",\"course\",\"hormone\",\"parent\",\"interpretation\",\"basic\",\"belong\",\"century\",\"geographic\",\"29\",\"nutritional_supplement\",\"diagnostic\",\"fiber\",\"animal_model\",\"insulin_resistance\",\"prenatal\",\"replacement\",\"g\",\"policy_maker\",\"protease\",\"student\",\"commercial\",\"food_intake\",\"feasible\",\"guideline\",\"regular\",\"rapidly\",\"ruminant\",\"distinguish\",\"stable_isotope\",\"cluster\",\"carbon\",\"protect\",\"database\",\"mg\",\"detection\",\"high_quality\",\"absorption\",\"climatic\",\"store\",\"activate\",\"lung\",\"similarity\",\"structural\",\"IUGR\",\"demographic\",\"recently\",\"apparent\",\"successfully\",\"significance\",\"comparable\",\"well_understanding\",\"imply\",\"goal\",\"dna_methylation\",\"manner\",\"child_nutrition\",\"force\",\"datum_suggest\",\"leptin\",\"responsible\",\"biology\",\"green\",\"separate\",\"environmental_factor\",\"adjust\",\"progress\",\"L.\",\"parasite\",\"differentiation\",\"easily\",\"13\",\"fetal\",\"screening\",\"regime\",\"oxidative_stress\",\"chicken\",\"lose\",\"accuracy\",\"promising\",\"specimen\",\"transmission\",\"partly\",\"stomach\",\"signature\",\"vessel\",\"oleocanthal\",\"illustrate\",\"discuss\",\"bias\",\"protective\",\"biosynthesis\",\"quantity\",\"early_life\",\"pressure\",\"dominate\",\"Bangladesh\",\"conventional\",\"drink\",\"chronic_disease\",\"36\",\"compromise\",\"extensive\",\"strength\",\"characterization\",\"intensive\",\"precise\",\"cytokine\",\"19\",\"dairy\",\"complexity\",\"sea\",\"food_resource\",\"algae\",\"infer\",\"inhibit\",\"class\",\"substrate\",\"employ\",\"55\",\"phylogenetic\",\"diabetic\",\"severity\",\"broiler\",\"malaria\",\"independently\",\"chemical\",\"VTA\",\"respond\",\"mitigate\",\"health_outcome\",\"purpose\",\"objective\",\"communication\",\"harvest\",\"scenario\",\"metabolic_syndrome\",\"effectiveness\",\"digestibility\",\"emphasize\",\"gestation\",\"user\",\"comparative\",\"proper\",\"formulation\",\"research_need\",\"onset\",\"breastfeed\",\"intestine\",\"laboratory\",\"numerous\",\"partially\",\"output\",\"correspond\",\"toxicity\",\"impairment\",\"detail\",\"error\",\"NASH\",\"prediction\",\"fluid\",\"Mn\",\"sense\",\"defense\",\"pssm2_WB\",\"elderly\",\"peptide\",\"dolphin\",\"decade\",\"38\",\"slightly\",\"fruit_vegetable\",\"adjustment\",\"reliable\",\"56\",\"cat\",\"portion\",\"feed_intake\",\"study_need\",\"widespread\",\"26\",\"head\",\"farmer\",\"methodology\",\"indigenous\",\"option\",\"platform\",\"black\",\"spatial\",\"priority\",\"exclude\",\"48\",\"neonatal\",\"resistant\",\"message\",\"minimize\",\"representative\",\"provision\",\"practical\",\"22\",\"zinc\",\"diversification\",\"n-3\",\"income\",\"selective\",\"hard\",\"better_understand\",\"simulation\",\"section\",\"cross\",\"member\",\"historical\",\"pregnant\",\"interestingly\",\"regulatory\",\"42\",\"solution\",\"metabolic_pathway\",\"transfer\",\"calcium\",\"cardiovascular\",\"believe\",\"goat\",\"resolution\",\"label\",\"space\",\"provide_insight\",\"corn\",\"skeletal_muscle\",\"microbial_community\",\"counseling\",\"leaf\",\"extant\",\"grass\",\"CO2\",\"real\",\"probiotic\",\"clarify\",\"reduced\",\"digestive\",\"fundamental\",\"analyse\",\"nutritional_value\",\"look\",\"helpful\",\"molecule\",\"inhibition\",\"recognize\",\"nutrition_education\",\"seasonal\",\"35\",\"emission\",\"ruminal\",\"come\",\"CVD\",\"suffer\",\"actual\",\"consist\",\"continuous\",\"survive\",\"timing\",\"archaeological\",\"seek\",\"modeling\",\"tropical\",\"HF\",\"growth_rate\",\"fall\",\"flow\",\"digestion\",\"distance\",\"hypothesize\",\"pair\",\"domestic\",\"etc\",\"<\",\"european\",\"hour\",\"\\u00b0_C\",\"competition\",\"person\",\"discover\",\"residue\",\"settlement\",\"aphid\",\"dinosaur\",\"tend\",\"food_availability\",\"productivity\",\"54\",\"maize\",\"metric\",\"impair\",\"46\",\"replace\",\"valuable\",\"food_supply\",\"draw\",\"quantitative\",\"male_female\",\"dietary_intake\",\"expansion\",\"task\",\"accurately\",\"typical\",\"drinking\",\"immunity\",\"contexts\",\"farming\",\"fatty\",\"31\",\"accumulate\",\"safety\",\"classification\",\"reproduction\",\"cold\",\"data\",\"sodium\",\"systematic\",\"pasta\",\"deposition\",\"underlying\",\"rare\",\"bovine\",\"volume\",\"32\",\"excess\",\"trade\",\"stimulate\",\"carnivore\",\"cardiac\",\"advice\",\"United_States\",\"perceive\",\"Health\",\"oxidation\",\"solid\",\"postnatal\",\"abnormality\",\"land\",\"agriculture\",\"participate\",\"inadequate\",\"retention\",\"anti\",\"repeat\",\"administration\",\"argue\",\"direction\",\"relevance\",\"constraint\",\"ncd\",\"sustain\",\"symptom\",\"India\",\"channel\",\"60\",\"young_child\",\"acceptable\",\"statistical\",\"routine\",\"excessive\",\"cereal\",\"complementary\",\"unlike\",\"caloric\",\"nutrition_intervention\",\"taste\",\"protocol\",\"sequencing\",\"ATP\",\"unlikely\",\"fertilizer\",\"crab\",\"introduction\",\"graze\",\"accelerate\",\"southern\",\"drought\",\"river\",\"success\",\"zebrafish\",\"participation\",\"ongoing\",\"Africa\",\"b\",\"mode\",\"healthy_food\",\"insufficient\",\"matrix\",\"diagnose\",\"fish_oil\",\"stimulation\",\"fossil\",\"disparity\",\"faecal\",\"sp\",\"breastfeeding\",\"heart\",\"juice\",\"33\",\"Drosophila\",\"toxic\",\"H.\",\"clade\",\"reinforce\",\"lean\",\"proxy\",\"fail\",\"industry\",\"enhanced\",\"systemic\",\"food_item\",\"rodent\",\"coastal\",\"climate_change\",\"poverty\",\"initiative\",\"bring\",\"immune_response\",\"gene_involve\",\"kidney\",\"programming\",\"organization\",\"wealth\",\"play_role\",\"organ\",\"vitamin_d\",\"vs.\",\"agree\",\"candidate\",\"environmental_condition\",\"maximum\",\"kind\",\"color\",\"applicable\",\"return\",\"calf\",\"learn\",\"caution\",\"Se\",\"vulnerability\",\"near\",\"newly\",\"regulator\",\"37\",\"acquire\",\"newborn\",\"primate\",\"food_web\",\"II\",\"present_show\",\"exceed\",\"estimation\",\"climate\",\"44\",\"assist\",\"Fe\",\"Zn\",\"protection\",\"special\",\"socio_economic\",\"purchase\",\"preparation\",\"regardless\",\"result_obtain\",\"child_age\",\"body_mass\",\"ingest\",\"impaired\",\"persist\",\"epidemiological\",\"tilapia\",\"O.\",\"chinese\",\"phenomenon\",\"sign\",\"north\",\"project\",\"AD1\",\"M.\",\"livestock\",\"complement\",\"food_consumption\",\"partial\",\"disturbance\",\"pathogenesis\",\"B\",\"delay\",\"vaccination\",\"publish\",\"simultaneously\",\"apparently\",\"facility\",\"learning\",\"wear\",\"native\",\"determination\",\"exert\",\"genus\",\"fungal\",\"geographical\",\"dysfunction\",\"lineage\",\"unclear\",\"threshold\",\"skull\",\"flavonoid\",\"baboon\",\"fit\",\"warm\",\"nutritional_stress\",\"39\",\"Mg\",\"constant\",\"domain\",\"minimum\",\"dietary_diversity\",\"environmental_change\",\"richness\",\"equivalent\",\"investment\",\"increasingly\",\"food_source\",\"future_work\",\"immediate\",\"epigenetic\",\"sensory\",\"se\",\"NP\",\"NCD\",\"linear\",\"47\",\"positively\",\"adoption\",\"substantially\",\"bacterial_community\",\"considerable\",\"assume\",\"take_account\",\"relatively_low\",\"relate_gene\",\"isotope\",\"assay\",\"honey_bee\",\"center\",\"usually\",\"type_2_diabetes\",\"outside\",\"girl\",\"45\",\"statistically_significant\",\"degrade\",\"34\",\"engage\",\"susceptibility\",\"pathology\",\"predation\",\"contact\",\"depth\",\"fishing\",\"package\",\"preventive\",\"capability\",\"tax\",\"beverage\",\"blood_pressure\",\"polyphenol\",\"diabete\",\"genera\",\"associate_low\",\"GIT\",\"validation\",\"reconstruction\",\"carcass\",\"signaling\",\"sedentary\",\"tomato\",\"predictive\",\"obese_mouse\",\"neuronal\",\"energy_intake\",\"life_history\",\"health_risk\",\"awareness\",\"procedure\",\"approximately\",\"large_number\",\"evidence_base\",\"perturbation\",\"alcohol\",\"e\",\"table\",\"poultry\",\"locate\",\"efficiently\",\"DM\",\"phenotypic\",\"frequent\",\"dietary_habit\",\"secretion\",\"extreme\",\"interact\",\"advocate\",\"specialized\",\"food_environment\",\"ideal\",\"empirical\",\"calorie\",\"pathogenic\",\"Nepal\",\"mental_health\",\"fraction\",\"gluten\",\"contamination\",\"arise\",\"explanation\",\"overcome\",\"varied\",\"closely\",\"homeostasis\",\"nonetheless\",\"biodiversity\",\"potato\",\"symbiont\",\"age_group\",\"cultivation\",\"aquatic\",\"implicate\",\"assemblage\",\"methylation\",\"progression\",\"apoptosis\",\"motivation\",\"author\",\"food_choice\",\"concentrate\",\"reverse\",\"longitudinal\",\"inter\",\"mid\",\"american\",\"uncertainty\",\"arrow\",\"mobility\",\"gastric\",\"existence\",\"migration\",\"defect\",\"microwear\",\"layer\",\"t\",\"reference_gene\",\"reaction\"],\"word\":[\"food\",\"suggest\",\"datum\",\"health\",\"find\",\"include\",\"provide\",\"nutrition\",\"dietary\",\"present\",\"reduce\",\"model\",\"child\",\"analysis\",\"base\",\"nutritional\",\"improve\",\"important\",\"individual\",\"need\",\"specie\",\"associate\",\"use\",\"difference\",\"time\",\"group\",\"development\",\"protein\",\"potential\",\"patient\",\"factor\",\"identify\",\"intervention\",\"finding\",\"plant\",\"feed\",\"specific\",\"compare\",\"research\",\"relate\",\"disease\",\"gene\",\"human\",\"response\",\"impact\",\"decrease\",\"control\",\"animal\",\"large\",\"likely\",\"condition\",\"method\",\"concentration\",\"demonstrate\",\"consumption\",\"indicate\",\"approach\",\"treatment\",\"growth\",\"similar\",\"evidence\",\"consider\",\"require\",\"nutrient\",\"affect\",\"influence\",\"area\",\"observe\",\"community\",\"obesity\",\"cell\",\"activity\",\"lead\",\"support\",\"report\",\"pattern\",\"early\",\"system\",\"process\",\"target\",\"develop\",\"information\",\"great\",\"role\",\"measure\",\"risk\",\"region\",\"woman\",\"addition\",\"significant\",\"possible\",\"work\",\"production\",\"function\",\"age\",\"content\",\"contribute\",\"environment\",\"value\",\"period\",\"strategy\",\"new\",\"intake\",\"cause\",\"program\",\"induce\",\"expression\",\"number\",\"overall\",\"tissue\",\"source\",\"especially\",\"metabolic\",\"mechanism\",\"fish\",\"focus\",\"quality\",\"future\",\"supplementation\",\"sample\",\"practice\",\"pathway\",\"conclusion\",\"relationship\",\"current\",\"non\",\"adult\",\"determine\",\"knowledge\",\"product\",\"composition\",\"outcome\",\"appear\",\"local\",\"resource\",\"assess\",\"female\",\"rate\",\"help\",\"follow\",\"interaction\",\"reveal\",\"liver\",\"variation\",\"mouse\",\"benefit\",\"particularly\",\"policy\",\"order\",\"country\",\"remain\",\"case\",\"association\",\"investigate\",\"exposure\",\"test\",\"energy\",\"fat\",\"poor\",\"understand\",\"promote\",\"size\",\"maternal\",\"host\",\"pregnancy\",\"lack\",\"major\",\"produce\",\"1\",\"estimate\",\"good\",\"component\",\"long_term\",\"site\",\"e.g.\",\"allow\",\"furthermore\",\"year\",\"like\",\"metabolism\",\"status\",\"know\",\"consume\",\"effective\",\"water\",\"particular\",\"access\",\"involve\",\"stress\",\"design\",\"reduction\",\"link\",\"characteristic\",\"feeding\",\"address\",\"behavior\",\"available\",\"parameter\",\"strong\",\"metabolite\",\"multiple\",\"management\",\"regulation\",\"improvement\",\"small\",\"soil\",\"presence\",\"range\",\"exist\",\"occur\",\"additional\",\"type\",\"state\",\"significantly\",\"way\",\"functional\",\"mother\",\"form\",\"genetic\",\"healthy\",\"alter\",\"evaluate\",\"day\",\"effort\",\"scale\",\"lipid\",\"importance\",\"profile\",\"infection\",\"care\",\"represent\",\"establish\",\"limit\",\"tool\",\"detect\",\"consistent\",\"total\",\"performance\",\"weight\",\"and/or\",\"infant\",\"muscle\",\"variable\",\"investigation\",\"describe\",\"2\",\"enhance\",\"future_study\",\"public_health\",\"highly\",\"risk_factor\",\"supplement\",\"household\",\"appropriate\",\"novel\",\"male\",\"environmental\",\"ability\",\"prevent\",\"marker\",\"exercise\",\"ecological\",\"result_suggest\",\"achieve\",\"social\",\"combination\",\"confirm\",\"insect\",\"habitat\",\"trend\",\"diversity\",\"challenge\",\"physical_activity\",\"prevalence\",\"cost\",\"experiment\",\"regulate\",\"key\",\"glucose\",\"complex\",\"potentially\",\"malnutrition\",\"propose\",\"recommend\",\"action\",\"structure\",\"brain\",\"reflect\",\"seed\",\"common\",\"relative\",\"application\",\"context\",\"finally\",\"explain\",\"stage\",\"clinical\",\"term\",\"contain\",\"rat\",\"setting\",\"crop\",\"temperature\",\"consumer\",\"alteration\",\"able\",\"nutritional_status\",\"useful\",\"ratio\",\"understanding\",\"body\",\"combine\",\"people\",\"predict\",\"long\",\"shift\",\"fatty_acid\",\"apply\",\"hypothesis\",\"previously\",\"BMI\",\"positive\",\"indicator\",\"point\",\"global\",\"gut\",\"assessment\",\"rice\",\"example\",\"necessary\",\"physiological\",\"fruit\",\"general\",\"live\",\"examine\",\"question\",\"despite\",\"distribution\",\"feature\",\"grow\",\"contrast\",\"rich\",\"comparison\",\"microbiota\",\"bone\",\"training\",\"perform\",\"direct\",\"i.e.\",\"natural\",\"molecular\",\"obtain\",\"essential\",\"short\",\"education\",\"culture\",\"milk\",\"service\",\"accord\",\"prey\",\"set\",\"consequence\",\"index\",\"add\",\"availability\",\"depend\",\"3\",\"limitation\",\"biological\",\"maintain\",\"recent\",\"problem\",\"previous\",\"plasma\",\"yield\",\"forage\",\"clear\",\"family\",\"comprehensive\",\"bacteria\",\"enzyme\",\"loss\",\"issue\",\"beneficial\",\"evaluation\",\"single\",\"4\",\"cancer\",\"oil\",\"decline\",\"highlight\",\"mortality\",\"summary\",\"dynamic\",\"observation\",\"serve\",\"limited\",\"critical\",\"activation\",\"opportunity\",\"alternative\",\"ensure\",\"survival\",\"eat\",\"life\",\"implement\",\"field\",\"conclude\",\"relatively\",\"recommendation\",\"abundance\",\"account\",\"aspect\",\"explore\",\"normal\",\"conduct\",\"prevention\",\"possibly\",\"main\",\"derive\",\"amino_acid\",\"5\",\"selection\",\"broad\",\"trait\",\"determinant\",\"line\",\"taxa\",\"signal\",\"economic\",\"primary\",\"strain\",\"gene_expression\",\"implication\",\"experimental\",\"bacterial\",\"exhibit\",\"contribution\",\"efficiency\",\"young\",\"future_research\",\"note\",\"select\",\"facilitate\",\"fact\",\"inflammation\",\"currently\",\"insight\",\"old\",\"expect\",\"post\",\"adaptation\",\"marine\",\"adapt\",\"identification\",\"technique\",\"acid\",\"characterize\",\"analyze\",\"tooth\",\"horse\",\"blood\",\"offer\",\"standard\",\"differ\",\"generate\",\"deficiency\",\"phenotype\",\"forest\",\"define\",\"compound\",\"ecosystem\",\"optimal\",\"mainly\",\"mean\",\"capacity\",\"shape\",\"literature\",\"HFD\",\"supply\",\"grain\",\"late\",\"survey\",\"behaviour\",\"aim\",\"concern\",\"experience\",\"result_indicate\",\"continue\",\"enable\",\"mediate\",\"negative\",\"strongly\",\"property\",\"school\",\"subject\",\"lifestyle\",\"specifically\",\"p\",\"correlate\",\"release\",\"adequate\",\"physical\",\"hand\",\"proportion\",\"average\",\"paper\",\"probably\",\"second\",\"national\",\"balance\",\"absence\",\"drive\",\"participant\",\"genotype\",\"dependent\",\"basis\",\"dog\",\"prior\",\"density\",\"integrate\",\"score\",\"measurement\",\"C.\",\"central\",\"HIV\",\"sequence\",\"meat\",\"complete\",\"variety\",\"high_fat\",\"pig\",\"additionally\",\"reach\",\"fast\",\"treat\",\"vary\",\"monitor\",\"leave\",\"serum\",\"respectively\",\"certain\",\"diabetes\",\"carbohydrate\",\"30\",\"intestinal\",\"accumulation\",\"mitochondrial\",\"evolution\",\"play\",\"suitable\",\"micronutrient\",\"sex\",\"month\",\"gut_microbiota\",\"microbial\",\"dataset\",\"active\",\"gain\",\"relevant\",\"interesting\",\"traditional\",\"agricultural\",\"document\",\"nature\",\"better\",\"high_level\",\"little\",\"chronic\",\"element\",\"biomarker\",\"waste\",\"event\",\"generally\",\"requirement\",\"stunting\",\"researcher\",\"P.\",\"cow\",\"degree\",\"place\",\"independent\",\"create\",\"incorporate\",\"ingredient\",\"larvae\",\"wild\",\"urban\",\"10\",\"microbiome\",\"bird\",\"cattle\",\"previous_study\",\"mass\",\"implementation\",\"vegetable\",\"wheat\",\"birth\",\"diverse\",\"vitamin\",\"burden\",\"record\",\"vivo\",\"past\",\"transcriptome\",\"n\",\"season\",\"fitness\",\"regard\",\"substantial\",\"food_insecurity\",\"receptor\",\"reproductive\",\"phase\",\"dna\",\"co\",\"simple\",\"attention\",\"provide_evidence\",\"step\",\"sufficient\",\"uptake\",\"et_al\",\"niche\",\"network\",\"turn\",\"category\",\"free\",\"generation\",\"fed\",\"15\",\"resistance\",\"price\",\"inflammatory\",\"landscape\",\"iron\",\"cohort\",\"ecology\",\"baseline\",\"detailed\",\"clearly\",\"material\",\"oral\",\"framework\",\"Fig\",\"observed\",\"relation\",\"abundant\",\"multi\",\"salt\",\"biochemical\",\"20\",\"review\",\"enrich\",\"cellular\",\"offspring\",\"gender\",\"bee\",\"far\",\"flour\",\"transport\",\"difficult\",\"avoid\",\"robust\",\"c\",\"hypertension\",\"trophic\",\"organism\",\"daily\",\"severe\",\"adverse\",\"50\",\"undernutrition\",\"variability\",\"date\",\"childhood\",\"colony\",\"incidence\",\"origin\",\"drug\",\"18\",\"self\",\"medium\",\"modification\",\"plan\",\"cultural\",\"light\",\"inclusion\",\"collect\",\"transition\",\"damage\",\"prove\",\"possibility\",\"C\",\"insulin\",\"world\",\"unique\",\"open\",\"hepatic\",\"reason\",\"complication\",\"diagnosis\",\"isotopic\",\"finding_suggest\",\"obese\",\"trial\",\"meal\",\"sugar\",\"rapid\",\"rear\",\"biomass\",\"artificial\",\"utilize\",\"extend\",\"S.\",\"inform\",\"genome\",\"correlation\",\"body_size\",\"interpret\",\"demand\",\"perspective\",\"\\u03b2\",\"history\",\"location\",\"differential\",\"14\",\"receive\",\"egg\",\"end\",\"utilization\",\"9\",\"close\",\"barrier\",\"anemia\",\"surface\",\"mammal\",\"elevated\",\"secondary\",\"6\",\"smoking\",\"expand\",\"meet\",\"antioxidant\",\"food_security\",\"sensitivity\",\"stable\",\"monitoring\",\"strengthen\",\"build\",\"directly\",\"socioeconomic\",\"week\",\"habit\",\"high_prevalence\",\"8\",\"length\",\"25\",\"pre\",\"predator\",\"agent\",\"weight_loss\",\"extent\",\"fermentation\",\"hominin\",\"inequality\",\"processing\",\"vegetation\",\"pathogen\",\"attribute\",\"bear\",\"encourage\",\"accurate\",\"interest\",\"restriction\",\"sensitive\",\"express\",\"Mediterranean\",\"validate\",\"weight_gain\",\"related\",\"raise\",\"moderate\",\"distinct\",\"criterion\",\"public\",\"China\",\"modulate\",\"frequency\",\"elucidate\",\"ultimately\",\"medical\",\"ad\",\"pregnant_woman\",\"7\",\"preference\",\"warrant\",\"overweight\",\"face\",\"herbivore\",\"dental\",\"restrict\",\"expose\",\"largely\",\"introduce\",\"reference\",\"initial\",\"modern\",\"acute\",\"nutritional_quality\",\"position\",\"emerge\",\"majority\",\"red\",\"government\",\"16\",\"overweight_obesity\",\"magnitude\",\"100\",\"input\",\"core\",\"duration\",\"dry\",\"overlap\",\"microbe\",\"morphological\",\"40\",\"cycle\",\"adolescent\",\"vulnerable\",\"sampling\",\"start\",\"consideration\",\"view\",\"couple\",\"morphology\",\"fully\",\"fecal\",\"constitute\",\"formation\",\"advantage\",\"lipid_metabolism\",\"situation\",\"rural\",\"larval\",\"recovery\",\"therapy\",\"wide_range\",\"genomic\",\"later\",\"lactate\",\"society\",\"root\",\"terrestrial\",\"dietary_pattern\",\"significant_difference\",\"carry\",\"disorder\",\"mineral\",\"importantly\",\"underlie\",\"species\",\"body_weight\",\"capture\",\"large_scale\",\"regional\",\"adherence\",\"evolutionary\",\"programme\",\"perception\",\"consequently\",\"develop_country\",\"vitro\",\"synthesis\",\"storage\",\"breed\",\"morbidity\",\"manage\",\"entire\",\"12\",\"instead\",\"height\",\"easy\",\"crucial\",\"market\",\"modify\",\"fishery\",\"N\",\"lower\",\"17\",\"juvenile\",\"effectively\",\"instance\",\"occurrence\",\"successful\",\"attempt\",\"coverage\",\"health_care\",\"breeding\",\"extract\",\"high_risk\",\"short_term\",\"death\",\"mixed\",\"unknown\",\"temporal\",\"neuron\",\"11\",\"commonly\",\"therapeutic\",\"home\",\"membrane\",\"act\",\"nutritional_intervention\",\"24\",\"tree\",\"play_important_role\",\"efficacy\",\"accompany\",\"advance\",\"adipose_tissue\",\"power\",\"anaemia\",\"Europe\",\"dose\",\"intensity\",\"primarily\",\"physiology\",\"degradation\",\"conservation\",\"farm\",\"a.\",\"TB\",\"evolve\",\"transcript\",\"quantify\",\"sub\",\"choice\",\"man\",\"pollen\",\"movement\",\"optimize\",\"28\",\"share\",\"guide\",\"developmental\",\"27\",\"aid\",\"FA\",\"healthcare\",\"widely\",\"+\",\"21\",\"tolerance\",\"gap\",\"half\",\"MS\",\"improved\",\"northern\",\"respect\",\"starch\",\"adopt\",\"urine\",\"rely\",\"display\",\"sustainable\",\"promotion\",\"subsequent\",\"predictor\",\"western\",\"winter\",\"organic\",\"wide\",\"background\",\"safe\",\"collection\",\"ruman\",\"deliver\",\"behavioral\",\"maintenance\",\"rise\",\"immune\",\"skin\",\"cognitive\",\"trigger\",\"choline\",\"efficient\",\"percentage\",\"lactation\",\"choose\",\"cholesterol\",\"wean\",\"similarly\",\"growth_performance\",\"decision\",\"dominant\",\"stunt\",\"worker\",\"increase_risk\",\"african\",\"theory\",\"dimension\",\"isolate\",\"delivery\",\"University\",\"nitrogen\",\"technology\",\"course\",\"hormone\",\"parent\",\"interpretation\",\"basic\",\"belong\",\"century\",\"geographic\",\"29\",\"nutritional_supplement\",\"diagnostic\",\"fiber\",\"animal_model\",\"insulin_resistance\",\"prenatal\",\"replacement\",\"g\",\"policy_maker\",\"protease\",\"student\",\"commercial\",\"food_intake\",\"feasible\",\"guideline\",\"regular\",\"rapidly\",\"ruminant\",\"distinguish\",\"stable_isotope\",\"cluster\",\"carbon\",\"protect\",\"database\",\"mg\",\"detection\",\"high_quality\",\"absorption\",\"climatic\",\"store\",\"activate\",\"lung\",\"similarity\",\"structural\",\"IUGR\",\"demographic\",\"recently\",\"apparent\",\"successfully\",\"significance\",\"comparable\",\"well_understanding\",\"imply\",\"goal\",\"dna_methylation\",\"manner\",\"child_nutrition\",\"force\",\"datum_suggest\",\"leptin\",\"responsible\",\"biology\",\"green\",\"separate\",\"environmental_factor\",\"adjust\",\"progress\",\"L.\",\"parasite\",\"differentiation\",\"easily\",\"13\",\"fetal\",\"screening\",\"regime\",\"oxidative_stress\",\"chicken\",\"lose\",\"accuracy\",\"promising\",\"specimen\",\"transmission\",\"partly\",\"stomach\",\"signature\",\"vessel\",\"oleocanthal\",\"illustrate\",\"discuss\",\"bias\",\"protective\",\"biosynthesis\",\"quantity\",\"early_life\",\"pressure\",\"dominate\",\"Bangladesh\",\"conventional\",\"drink\",\"chronic_disease\",\"36\",\"compromise\",\"extensive\",\"strength\",\"characterization\",\"intensive\",\"precise\",\"cytokine\",\"19\",\"dairy\",\"complexity\",\"sea\",\"food_resource\",\"algae\",\"infer\",\"inhibit\",\"class\",\"substrate\",\"employ\",\"55\",\"phylogenetic\",\"diabetic\",\"severity\",\"broiler\",\"malaria\",\"independently\",\"chemical\",\"VTA\",\"respond\",\"mitigate\",\"health_outcome\",\"purpose\",\"objective\",\"communication\",\"harvest\",\"scenario\",\"metabolic_syndrome\",\"effectiveness\",\"digestibility\",\"emphasize\",\"gestation\",\"user\",\"comparative\",\"proper\",\"formulation\",\"research_need\",\"onset\",\"breastfeed\",\"intestine\",\"laboratory\",\"numerous\",\"partially\",\"output\",\"correspond\",\"toxicity\",\"impairment\",\"detail\",\"error\",\"NASH\",\"prediction\",\"fluid\",\"Mn\",\"sense\",\"defense\",\"pssm2_WB\",\"elderly\",\"peptide\",\"dolphin\",\"decade\",\"38\",\"slightly\",\"fruit_vegetable\",\"adjustment\",\"reliable\",\"56\",\"cat\",\"portion\",\"feed_intake\",\"study_need\",\"widespread\",\"26\",\"head\",\"farmer\",\"methodology\",\"indigenous\",\"option\",\"platform\",\"black\",\"spatial\",\"priority\",\"exclude\",\"48\",\"neonatal\",\"resistant\",\"message\",\"minimize\",\"representative\",\"provision\",\"practical\",\"22\",\"zinc\",\"diversification\",\"n-3\",\"income\",\"selective\",\"hard\",\"better_understand\",\"simulation\",\"section\",\"cross\",\"member\",\"historical\",\"pregnant\",\"interestingly\",\"regulatory\",\"42\",\"solution\",\"metabolic_pathway\",\"transfer\",\"calcium\",\"cardiovascular\",\"believe\",\"goat\",\"resolution\",\"label\",\"space\",\"provide_insight\",\"corn\",\"skeletal_muscle\",\"microbial_community\",\"counseling\",\"leaf\",\"extant\",\"grass\",\"CO2\",\"real\",\"probiotic\",\"clarify\",\"reduced\",\"digestive\",\"fundamental\",\"analyse\",\"nutritional_value\",\"look\",\"helpful\",\"molecule\",\"inhibition\",\"recognize\",\"nutrition_education\",\"seasonal\",\"35\",\"emission\",\"ruminal\",\"come\",\"CVD\",\"suffer\",\"actual\",\"consist\",\"continuous\",\"survive\",\"timing\",\"archaeological\",\"seek\",\"modeling\",\"tropical\",\"HF\",\"growth_rate\",\"fall\",\"flow\",\"digestion\",\"distance\",\"hypothesize\",\"pair\",\"domestic\",\"etc\",\"<\",\"european\",\"hour\",\"\\u00b0_C\",\"competition\",\"person\",\"discover\",\"residue\",\"settlement\",\"aphid\",\"dinosaur\",\"tend\",\"food_availability\",\"productivity\",\"54\",\"maize\",\"metric\",\"impair\",\"46\",\"replace\",\"valuable\",\"food_supply\",\"draw\",\"quantitative\",\"male_female\",\"dietary_intake\",\"expansion\",\"task\",\"accurately\",\"typical\",\"drinking\",\"immunity\",\"contexts\",\"farming\",\"fatty\",\"31\",\"accumulate\",\"safety\",\"classification\",\"reproduction\",\"cold\",\"data\",\"sodium\",\"systematic\",\"pasta\",\"deposition\",\"underlying\",\"rare\",\"bovine\",\"volume\",\"32\",\"excess\",\"trade\",\"stimulate\",\"carnivore\",\"cardiac\",\"advice\",\"United_States\",\"perceive\",\"Health\",\"oxidation\",\"solid\",\"postnatal\",\"abnormality\",\"land\",\"agriculture\",\"participate\",\"inadequate\",\"retention\",\"anti\",\"repeat\",\"administration\",\"argue\",\"direction\",\"relevance\",\"constraint\",\"ncd\",\"sustain\",\"symptom\",\"India\",\"channel\",\"60\",\"young_child\",\"acceptable\",\"statistical\",\"routine\",\"excessive\",\"cereal\",\"complementary\",\"unlike\",\"caloric\",\"nutrition_intervention\",\"taste\",\"protocol\",\"sequencing\",\"ATP\",\"unlikely\",\"fertilizer\",\"crab\",\"introduction\",\"graze\",\"accelerate\",\"southern\",\"drought\",\"river\",\"success\",\"zebrafish\",\"participation\",\"ongoing\",\"Africa\",\"b\",\"mode\",\"healthy_food\",\"insufficient\",\"matrix\",\"diagnose\",\"fish_oil\",\"stimulation\",\"fossil\",\"disparity\",\"faecal\",\"sp\",\"breastfeeding\",\"heart\",\"juice\",\"33\",\"Drosophila\",\"toxic\",\"H.\",\"clade\",\"reinforce\",\"lean\",\"proxy\",\"fail\",\"industry\",\"enhanced\",\"systemic\",\"food_item\",\"rodent\",\"coastal\",\"climate_change\",\"poverty\",\"initiative\",\"bring\",\"immune_response\",\"gene_involve\",\"kidney\",\"programming\",\"organization\",\"wealth\",\"play_role\",\"organ\",\"vitamin_d\",\"vs.\",\"agree\",\"candidate\",\"environmental_condition\",\"maximum\",\"kind\",\"color\",\"applicable\",\"return\",\"calf\",\"learn\",\"caution\",\"Se\",\"vulnerability\",\"near\",\"newly\",\"regulator\",\"37\",\"acquire\",\"newborn\",\"primate\",\"food_web\",\"II\",\"present_show\",\"exceed\",\"estimation\",\"climate\",\"44\",\"assist\",\"Fe\",\"Zn\",\"protection\",\"special\",\"socio_economic\",\"purchase\",\"preparation\",\"regardless\",\"result_obtain\",\"child_age\",\"body_mass\",\"ingest\",\"impaired\",\"persist\",\"epidemiological\",\"tilapia\",\"O.\",\"chinese\",\"phenomenon\",\"sign\",\"north\",\"project\",\"AD1\",\"M.\",\"livestock\",\"complement\",\"food_consumption\",\"partial\",\"disturbance\",\"pathogenesis\",\"B\",\"delay\",\"vaccination\",\"publish\",\"simultaneously\",\"apparently\",\"facility\",\"learning\",\"wear\",\"native\",\"determination\",\"exert\",\"genus\",\"fungal\",\"geographical\",\"dysfunction\",\"lineage\",\"unclear\",\"threshold\",\"skull\",\"flavonoid\",\"baboon\",\"fit\",\"warm\",\"nutritional_stress\",\"39\",\"Mg\",\"constant\",\"domain\",\"minimum\",\"dietary_diversity\",\"environmental_change\",\"richness\",\"equivalent\",\"investment\",\"increasingly\",\"food_source\",\"future_work\",\"immediate\",\"epigenetic\",\"sensory\",\"se\",\"NP\",\"NCD\",\"linear\",\"47\",\"positively\",\"adoption\",\"substantially\",\"bacterial_community\",\"considerable\",\"assume\",\"take_account\",\"relatively_low\",\"relate_gene\",\"isotope\",\"assay\",\"honey_bee\",\"center\",\"usually\",\"type_2_diabetes\",\"outside\",\"girl\",\"45\",\"statistically_significant\",\"degrade\",\"34\",\"engage\",\"susceptibility\",\"pathology\",\"predation\",\"contact\",\"depth\",\"fishing\",\"package\",\"preventive\",\"capability\",\"tax\",\"beverage\",\"blood_pressure\",\"polyphenol\",\"diabete\",\"genera\",\"associate_low\",\"GIT\",\"validation\",\"reconstruction\",\"carcass\",\"signaling\",\"sedentary\",\"tomato\",\"predictive\",\"obese_mouse\",\"neuronal\",\"energy_intake\",\"life_history\",\"health_risk\",\"awareness\",\"procedure\",\"approximately\",\"large_number\",\"evidence_base\",\"perturbation\",\"alcohol\",\"e\",\"table\",\"poultry\",\"locate\",\"efficiently\",\"DM\",\"phenotypic\",\"frequent\",\"dietary_habit\",\"secretion\",\"extreme\",\"interact\",\"advocate\",\"specialized\",\"food_environment\",\"ideal\",\"empirical\",\"calorie\",\"pathogenic\",\"Nepal\",\"mental_health\",\"fraction\",\"gluten\",\"contamination\",\"arise\",\"explanation\",\"overcome\",\"varied\",\"closely\",\"homeostasis\",\"nonetheless\",\"biodiversity\",\"potato\",\"symbiont\",\"age_group\",\"cultivation\",\"aquatic\",\"implicate\",\"assemblage\",\"methylation\",\"progression\",\"apoptosis\",\"motivation\",\"author\",\"food_choice\",\"concentrate\",\"reverse\",\"longitudinal\",\"inter\",\"mid\",\"american\",\"uncertainty\",\"arrow\",\"mobility\",\"gastric\",\"existence\",\"migration\",\"defect\",\"microwear\",\"layer\",\"t\",\"reference_gene\",\"reaction\"],\"x\":{\"__ndarray__\":\"n3+owHlWEEGVM5bBiR6hwUaAFEFDsLzBTk8CwpNhr8GuJW1B5a1swQjmJkEudIfBExKDwWPJmcFX3qDBMpOKwUopgMFYE5jBpcaAwWC3wcGU5i/ALLHWv+VT3cFbx1fA8BjnQaHi0UBBCqXBTOqiQVB6+MEfrzhASU+JwQ7F4ME7NrLBCaVnwdkceUH+77RANArewYD3IUHS/QDCx34awH6kHUI1exjAWD/PwAW1oUEYNXHBj08uQXipKMLPgzxA1+mCQFaAe0GK0iG8F3W9wS+Lr0E1CTdB5a5AwHtDH0GXU7zBmh0FwoAS9kHGxv9AOIRWwfsEi8HS8cTBIXWAQTlITkGluTxB8JGkwKU3JEHBRqjB2Y6lP6+1wEEzBMJBMmYdQCRAIsHskrNBs08dQWjqS0Ej1hzCm/30QD51mMFi9yXC2or8wUytJkF1gA5CQ1PMwaf0FL+tYaHApruVwdFxtMAI9etAJz26wTrfxsFhCU5BoEjHQYUTkcCMw4FBr7BiQetpZcCmEHPBHFHzQYuzzsGUq/vBtMrVQFsyNkERwrPB/BrYQTYg2UG5uhlC1L6KQP4e10HFjWpBo9+TwcP+AUKU2rtBpDlXPwFb2cHvKSRApRbKwRbYaMH5oZjBxDmRwezox0Gxiw9A/eAPwB0DBsL0m9RARS76QXE/w8EaeKXBhrORQRI5Bj/1BIbBTIp6Qa5YPcFFvkTBM+/jwXPNA0IduTpBMnnAwVWukb9Hy1rB7pWOwYuB5kHwDm/AaxnbQYbHvcEcnjrBaFSvwQSCVsGf0ZjBlr2vwSYnMMFan4+/3z30wYHka0C968LBAqaoQSULdkEdmk3BCpgHwoX5e8HtroxA494NwVJ/r0CQmQTBgXIHwXai10BWbFVBRyPLQQOtncGLgpLBrhVnwZNOtsGVnonBLUu7wc5yBMLuVgDB6ScCQMeRu8Fer8pBDS+HwTdMr8D8woJAYjjNwReQx0E3JUHA6XJEwYJaxkGC8ZpBerTiwSKgKkHIgJo+Hx8hwoXdsUDgmtHB7bk4wMQ/AcK3ijbBN6CMQF73x0HhiK7BBYL3wWCn1kFC1PfBfqdtQAQTQ0Eqhs8/ugTKQdhJisE5DhrAJAATwh1wgEDIn+5BucglQSo7J8LAtV/BHQ0Vwa7vYkFMEQlC/6gMwamMTEF+MOvBrurgQQza0MGPmLHBiy22QQ9EJUCusIBB75dowHfSWMGkXfPAmfgmwoRci0C8QOXBh4arwQ1vqUAWSn5Bz0OFQOEfi8DbuQpBHlklwcbh0kHf34vBiovzwek3bcH3kMpBJx91wSMnBsJ4pajBF0jgQbDWgcBGvLdAim2LwSBn3cGlafLBCXwDQnpimcHlkqVBwPPswalKCkI3UWXAgrC7wDiPCUFUl/LByDLyvtnifUDJS83BdnfAQMed4L/sjzvAsCCAwV0W98FTvoLAp+ZUwaZHo8FLxtXAa7ndQTQH+D+ixdtBYx1QwcdQc0HyJ4HBCFwgwj/Ig8EDULjBv5JoQFqhqkHPk6++A8X1QEXHr7/jS6tARpAawuw3m8GkBSHCatZvQeZ9DcCn5R1AjLgDQZfRj0F6j9JBWC9PwUdJLUGhC8dBRo8OwRab5EGawKvB9p5Pwa55zMH4/XFBX24EwibSqMEFCL3BpUpCv4Gat0BL3Kk/Bj0KwV7tqUEaGbbBBjJIwbu2LcEpZE3BgbE+QQBVy8FWGobBUR0HwV1YykAjLe3BSXUdQRs1u8FmdcjBWsOgQXGk8EDSXqrAKNo5wb2NBsKISQPC9GhLQa+DLEFizjjBsuLwQfrsiL8Fv1lBgIo5wERSW0CvLqjBkmZmwJiw0sHRi0PBuvyYwLfyR8CCjqLASNDZwdaLrMFUN01BFVSewc5WjMB2lYpBXuF4wXQbOMKeoeE/J/DqwQKcBz9u+MnBgLd5wfNdHULV8ra81wjAQQoiBcJyKOfBQYu7wbJn7EBHwNfBMdGpQLa3r0G1LiNBq+enP5MVOsGCTBzCW/QXwsb2okDbNrFB+tIIQR3v/cGV/cNAbpEHwoRUrsFzTL5Bl9sjQfPtpUGHagFCSVwQwv+0VL5gPEZBlKZUwdq9BEEXLCbCeBp5wfUavsE+iMxB2hO/wUQP18H6qcDBl2mtwLeJgMDomPQ/kWO2weEzzMBigUtB+UdLwX9HOsEuOQJCvx6cwXVA28HYZQ7CXiHvQeFl58FUR5jBdF73QdGnucBTUrzAvIO+QcJWz0FyjNZAiSo0wRy6jsD8EpLBvc6PQRIhdsB0sLBBkENewSiI3MDHp7lAVUjeQY5DycGGKPrBLaApQH+z3kHsQhvC0A8oQcNCiEFyiQTCvkeDQXu70sFc4A7CpECMwXxPEEIy7XzBaLIFwrWEF8HqIRFC7gDpQZSjmEHZZyA+0pkowPa848F17LPBqBSeQR1e/8GNVj5Bp4rkwMYpKkGbe/tAXe4awm2vbsHCis6/t2DfwX+jgMGKxetBYpCLv67dFMLrVmhA0UNhwRU3XsH3YXxBXOOeQfi+NkDvQW9BdtGWwWGJxkHGvd/Bl7lEQfBnSkHiVV/BoltnQFtD28HGf/nBxS5uQQDyKEFotuvB/JUJwmlbv0G41kxBC7lIwf/11UDMqbrBeZoNQVgBNcDwEJdB8rluQXlN7kE3+8RBivi8wcdYJsFydjVCXZOOQCIslUECRIbBHxz8QS9YsUAYwaTBLAAJQeXy2UDqbC3BeisAwTZoDkKgCxhCt3MDwtlAekBLq9y+cF8bQujHsMH7kL+/3aDfwThQsz54WgNCy0dbwaTzT8A16+NABbzMwfQzCkHTT9dBwVE9QW9BwUHuXfLBqO+gQedq+cH4oNa9kLb2wdZDhEGeaO1B9jJEQY9zNUJcqnY/AI+WQfgsgUFYO/JAAyG4QbGPw0HWdCfBO34OQqVSG8JCBAXCWeEFQlTOIcGxTn5AF0kEQcA7p8FkwDpCrNoIwnTR/UHLy7/BQplMwbZfFsFazx5C9zsFwirUJsI6bc1B0A0QQfEz2UCtJrJBX1M5wSWNb8FDavNBpypuweCArEEpB3nBHPEJwnUXg0FM1otBodWiQV0/GMLrGRhCE3ApwqeF3cFSU9/BEcG1vyyKHEA0A0PBQvDJQfjNTz8jD53AIJMdQWtcf0B7HbHBu6nNwcVffMDHWjNBGzHAwOcvbsHSyznCOh+MwU9fo8DI/BtCcKL8QNJW57+YhFtBEcrYQZY5bEAkjKfA0BhuQT0EJcEZy99B+J0LQjpMyEDBEsDAK30owAUPvUFWtwjCb1slwdnp2sGYLOpAojSnQW7roUHr1UU+JpnsQM4uZkE6I9NBpcK3QXRsq8FICcJB0/OmQc3APEElIRnAB/cBQkvKNL9IH5bB45/wwJpqN8Fst4pBHoCywe6KdsF/T39BKB8eQmyTksHBDtbAue/3QNHzh8B9FJ5AifAXws6BCEHElAJC7Xy/QTaPjUBne3FBX1XnQf7pHMHxiQzBRPCDQfCbrcGNcCNBbjJXQQPQnMEzMvDButprwB0i20EyO0Q/dSt6wfUgPMEOSBNBu5YTQXDRz8AxadtBL4V1we77a8Ak5vXBJNpywW9xhEEsDhVBwTVtwYDqKkLWzr9BwOYKwXnMHcK5lAJCMsbUwdfrdsE/jQ7CdAAVQQehj8H0P41B3n8MQs3NQsGA8KRB9yDWQWj050Gy2vHAB1ynweYSkL8gyONB/TB6P2KDz8C2DYxAlxaFwVQI4cDPRz5Aq+6awRXktcA3CYZBM+kZQhl27b+3pTBC5MgswAfLOELOxCRCa/J/QCAu28HiemDAyOMQQhUkO8GdNX/BfxtqwP3OaMG4QrNBe8gswc33icFKtRtCCNGwQceuCcL2PXe/Se2SQLG+h8GNcKRBCYT2wQK+QsGETmnB9jTQwMEdHsHmYfVBCODcwKpsx0Fp0YjAtWQTwgJwq0E684pBlPi9wNSQ4EH5fxO/9gMHwuGKqcEODo7BHJgZwTgfXsGB+NxBaeZMwNcfWMGdlNpBu2BEQba2tEFpbMpBmyH+P3uzGEJftRXARxCkwZ8IMEFxkM/A3qWWwW3FeMEvAy7AouHeQCNgy8EP/t9AfjGXwZSRCsI42tlBEmH2QHPQKUEKhbtBglwQv4Xg4MHMjE/B0GtOQbiEAsK4GtBB+zqIQXVXqUHZrMPBGLNAwabdUUEanfRB23sownsuEMLPe3DB20dDQdL7EMHKceNBQYSMQOGq7sEWvMu+43b5wdsBuD7CLePACO4BQcoIkEGT5OJA3VIpwmrY9cGBBorBQa8DwQs8M8B8095AZr+CwWEs7kG1CJBBQd0QQWmStMHxi6VBAXdswauCSUFW8AbBCq0Vwc0jnUG1/HdAiFUbQZAclz9nbcRAc+phwXKJ2kHVMvdBoLlowf88iUEBW3zBqwOdQD0WGMK0xdDAkbOuwTb5DMGgyazB0aPSP4SKAMJKe5FBDFhjwYzAzkEhsCI+Qh1EwaNk3L8Bpa9B04gCwpp+ScGAc6jA5ANlQS1JlEHLryXB5NyHQZEHBz3pj0W/NhJqQTGfKcLJM6VA63t7QWew2sGxPr9B2YQ9wV6kUUG/zwhCofiWwY04rMHNMEbBxJAUwSrpvsF7VhFAhibIvg+oU8FkcxxCTJewQS9IPUIcE+9BqBCCwYMYjMEc3szAAJ+sQcIQJ8HGT8FBsOUCwrWBrcGh/53AdxdBQT7uCUKQVGBBrG1JQY96z0Fu82bA8Pc6QWmjKcKT+76/5faawb2S/cF5pZbBalB3wbSWCUFhphtAFQ45wDJFC0Fi2To/s8iyQMgxrcEu3K7BIYHTQfw/qEGarYFBCjEQwoIrusGS079BfTrkwSKk1sG9l5lB9CCLvwuRkkCGNxDCTssOQtxvJ0H9m+VB2MTHwX4De8EnERBC08scwdfTRMBN0R9Cvb26QJDQuEGrq83BOVZHweC42T4v8BvBv40swf/CFsCR8dHBF5uKQb0BCkFpdprBGSSDQXOjx8BYGG/BADy/QZwVz0Ftit/Bk3+AwLbmx0HFENTBRU55QeRnjcGtMGG/dLTlQZwPtUGeX8ZAp02pwWrFkEGi+NPADpmuwTRqVMAIirvAT/82QffUJ8Kve/9B2fWmQMj6jsBIVtjB0X3RwXUkmsHzP8DAvrIMQhWvMEJgtl1B+EgOwqt7X8H1o69BjpTiwc2/OEENz8XBDKQkvrub48FPHf3BZYUsQNOtpUGr9pRAMCypQQMC+EFXdLdBGI1tQSQpA8EkfwlBJeD6Qb3+esDdiQRB1esoQWOJUsFkNNi/+QmCwdLlekDlWcm//XQIwkknLcGbpo/BXIAFwcXsEsF90OHBtLtPQVuE+MGK76g/N88LQojHq8H4SSPBvvrQwVu/NMD4SQxCFlGewBFOhUGh/XLBB+jkwRclnEEnibVBKBtSQBjYJsGb2EFBljnFQR21u8Fxb6xB/p+8wSgVncDsFRVAhdWwQesfZMHrcdnBy+fqQZPrwMDxcdbBhBKOwakY0cDrNwDBhpARQWhtEcLChwtCH5HZQEmlBsLUpnJBbx5JP+SRj0GAA9BBbCYSQutEkEHu9j1BeeKvQUEAbMEPgQXBb8hsQdcXscGOObjAlGI3QCPZHcIH9SvB0QLxwbjJ9kEwGynCNGKJwTqRvUB4rvhA37znQWGEBELriNDBGeQlQD/vl8C37C5C82frQE81+MCIo2JAFRIjQq5mzkE1ESvCoxyoQci84cBR1XzBQd80QsX0AEKz64zBY8HHwaxA4MFYw5XBOMyAwNmfKcKpl/pBsJMyQTylhcE6wcK+oIa1QbKJBkIEX8XBKDslQK0jEEIdhMZB+uAVQKeOJkGkaPpBOvMEQrLohsFOazjB9Sk/PVonasBujJBBj8AbQXrHK8GJ/qTBnx9+wXCRPMEy0RrC3mT/QZTmkUFxAjJB0k4qQhM4e751oX/AepVTQaTZl8GtlwlAVbX1wEczt0C9xWnBzP+iQdy0NsHEyktAWGYLQWAMOkGDom/BdxHVvi770kBrtNJBo9wLwAeW28H3cIrBK9uaQUiiiUHs47fB3IQ+QXclE0Ku/Ec/2g7FwcSiIkH4SzvB5iDzwF/fE0DO4ATAJwecwSqa48GBwfDBG1M/QfYrqsGxrSxBS4vbwBOGNb9RAqPB6J8uwYAjA0ImfhxBRbe5QBOiGULrRN3BKr/wQZ+KF8KN5g1Bkpi0QRXpwkAoScFBdHYqQdSMo8ALCr1B474TQKLz60DNxJlBBQKQQaQ7IsGd7J4/tAS5wbd6c8F0JqlBPoOmwaaUJkF0axvCL2Y9wFu5qUH8WKpBev0fwcAuzcEC0AjCy3+RwX6iBMLQn8VADbeqwTvi88FO/B9C3q2FwdErzsDYuPbAZamlwUnOiUEKAiJCZndkwQ7n78EjPa9BabMFwkHPSMHOa2hBnNWfwTUn3b9lDFDBnKgJwo7ex8FWjm5BMiTnQUPqHML8pRZCMgQnwTE1g0GJ3flBiHd4QUjT/MG0WsxBFIsdwc3OkUCz5QNC6FcUwg4gRkFp6LDBeCASwc7eu8FLNMLB+dY8QUMC0kGpMR4//nFawQh5i0HHlRHB6jR/wC1MikHxAsrBBUlowfjC/EDuhjJBfGomQUZL/sGtuZbBe0WtwIZEAsH7nRxB05OfQQUMikHvyCjC/1qXwffdIT5C54tBpnJLQYzgQkGw+PvBD5qLwbhhzr0X7fPBLZR2QdtYTkGgcVrA+f79v+FelcFEWcfB8aHUwSC8j0AYkMFBG1fdQdQIDUIXbk5BShhgQXng5T/+yNBBJDmeQNlnBcGVaBDCCOp2QZO1EUJz+7dBQi3EQYR/nb+ECvXAEjhzwNY288CRf7S+8O/AwNl+D8HvnGpBe/bdQYBe+EGbJZ9Bz6U9QXcHisEJdf9AVLiHwbIeUkHLGdHAGg65wIJPBMLX9BlB0EMCQrwfvcEfZ6RBnYwHQA9DN8KJ58dBOs6mPh6bwUHlp73AdbpLwembCkJ8AH5BzcLAQa83FsKHZ4pBppjnQdNxz0FYYDVC4gjkQMzbDsIi5ilB7VfWQdIVKELRIJjAjAghQTT7NkGNtJdBS5tgQWEUAsHglQxCX+UiwBZCAUJv/lPBhpPiwReZG8HDSqPBTg68QffmmUHuAivBfOeQQd0zCcH+zzvBhow5Qga9S8FJuinCt8kPQkFEI0LKCodADsLWQIaFnsGuEhc/PJXdQNIlq8EdIR7C9kEiQVXvKcGMovvBeA2fQUOqMMHUYZBB+xu9wZYtg8Ez1M9A/7AwQRskxcGYl1hBJxYCQVybncEhqOBBgfMxQpF0hL+xJK5BeZaxQMBoXkEVJbBBIKshQuVJMULBb61BzldEwI62sT+iwQ1Ca0wbwmOBUkCtr53BEZz/wblkqMFCT8hBklMOwST2HcGzgL3BM1qOQZjAiEDxAFhB+trRQX/czMBBzqDBoCIFQb5tokA/CY7BPysGQg2NX8GuOpdBGGV7vycmTT9GhhVAIgM6we9zh8CDPPtBMLAqwEXgH0As/4nAx8SiQTr9FkLqRazAu/6bQUIhxsBRuAbBNJ2LwUGXs8GKGQNBVPWuQbRf0kHSS85B1bEQwTjb2cGAJ5vBIW+3QP9C90GQCffAoVQ9QgR1s0EuvRHCEE/LQZ5Z00ET3zPC0uCHQX5ozsH8IKnBMAkqwV76QkCSn3/BWJmKQaOr28HqdwJCC/SUQSEMrUBgE5xBZuLSwT1pAcFLlqbBVEV2wbm+BUKFxSk/N/K/QSX8pMFYCs9BJfqrQVy818F8G7hAKGxTQZ1plr+YI+3AzqRvwcAUIcC3ADHCqswCQPHiEcIlkCbB6glRQU8kjUEa+KdB4jBcQYhTtMBsi0ZBVxNHQK58g7579C7BoXUwQQWoDEKqq85BmG6/v5KLLz7NFAbBLPD2wSnIIcCECSRCjuA8QLoEC0Jxx8lBQoFBQYyCkMEK44LBf2MxQr0UDEINc7jBM8FKQB7i3MAVHhdC/LbqwYctpkGuUu6/FqkwQB1fkkD2N/9BLec2we9t6EELRT5BL88fwQL7h0GcWOjAwD+BwWaczkHQehHAS1qbQTLqk0E4bPBBJ/psQLDBkkGTqBvBtwn7QWjQhL96zaZBokTSwTd9usD6qIJBNQwmwpuWEMLPQQFCu4xcQWIYQkDl1/dBrtSvwd8IgEH064XB/blXQd8gCsLeBVhB7c7cPoNLF8GjBhFCGtFcwQMl9UGbpeJB0+mVwYiYH0JN7y7BuRQRwmyCIELO5hA/YULMwNCoMcFYnnpBJ1AQQcL6r0Epp4xBuP+OQBSSHUIk4xdCXuaGQLHYAcJw8jg/+OsIQtDd88GxLH/BCWyDQeZ4EsAeRXC/Ga9vPw2ViEH2VTpAL4QdQAnPBkF1gU5B76fowan9lsGXyP7AzjrbQXCBK8BX1S5BefwcwaTO+kFg49hBAK/FQDmBpcG6gg9AYn0XwTCzt8GGDXNBx/0KwcX8wMFuT/JBldYMQZ9du8G6/ttBRwnmwLVgAkJZmThCsBtZQRjvykEn060/x16/wSxsFELSfQJBj8waQk7MIcKpc5S/Gug3wR1guEEGTchBiY5aQRyaYEDnqoTBqTwcwYfei0HLRLxB4p1PQW0DKMLZRUnBJWASwjAigUG4MJPAmCixQcPegUD5TIbBaJQJQoJcpUBbTIbAVvc9wRPUC8GXigZCgnT5wJFQ80HXrxNCA5u2QdriL0C731nBnX4KwizMKsGOB3DAG8kWwd+uK8KdcdrA7d8TQnScncHOTJlBe4uKwajXKkGGUU/ApGkPQvgb0EEvEQ3BAKOlQY9D2kEn3BHCODGpQQ==\",\"dtype\":\"float32\",\"shape\":[1660]},\"y\":{\"__ndarray__\":\"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\",\"dtype\":\"float32\",\"shape\":[1660]}},\"selected\":{\"id\":\"1486\",\"type\":\"Selection\"},\"selection_policy\":{\"id\":\"1487\",\"type\":\"UnionRenderers\"}},\"id\":\"1411\",\"type\":\"ColumnDataSource\"}],\"root_ids\":[\"1412\"]},\"title\":\"Bokeh Application\",\"version\":\"1.4.0\"}};\n",
       "  var render_items = [{\"docid\":\"d3a5e3f6-b378-4f1b-9578-a99873bd219d\",\"roots\":{\"1412\":\"c55a7052-4b59-41ee-baab-e55932201e00\"}}];\n",
       "  root.Bokeh.embed.embed_items_notebook(docs_json, render_items);\n",
       "\n",
       "  }\n",
       "  if (root.Bokeh !== undefined) {\n",
       "    embed_document(root);\n",
       "  } else {\n",
       "    var attempts = 0;\n",
       "    var timer = setInterval(function(root) {\n",
       "      if (root.Bokeh !== undefined) {\n",
       "        clearInterval(timer);\n",
       "        embed_document(root);\n",
       "      } else {\n",
       "        attempts++;\n",
       "        if (attempts > 100) {\n",
       "          clearInterval(timer);\n",
       "          console.log(\"Bokeh: ERROR: Unable to run BokehJS code because BokehJS library is missing\");\n",
       "        }\n",
       "      }\n",
       "    }, 10, root)\n",
       "  }\n",
       "})(window);"
      ],
      "application/vnd.bokehjs_exec.v0+json": ""
     },
     "metadata": {
      "application/vnd.bokehjs_exec.v0+json": {
       "id": "1412"
      }
     },
     "output_type": "display_data"
    }
   ],
   "source": [
    "# docs\n",
    "bokeh_tsne_plot(tsne_vecs_docs)"
   ]
  },
  {
   "cell_type": "code",
   "execution_count": 337,
   "metadata": {
    "ExecuteTime": {
     "end_time": "2020-02-15T08:03:44.497495Z",
     "start_time": "2020-02-15T08:03:35.269205Z"
    }
   },
   "outputs": [],
   "source": [
    "tsne_vecs_sents = make_vecs_for_bokeh_tsne(w2v_sents)"
   ]
  },
  {
   "cell_type": "code",
   "execution_count": 338,
   "metadata": {
    "ExecuteTime": {
     "end_time": "2020-02-15T08:03:45.690306Z",
     "start_time": "2020-02-15T08:03:45.639444Z"
    }
   },
   "outputs": [
    {
     "data": {
      "text/html": [
       "\n",
       "\n",
       "\n",
       "\n",
       "\n",
       "\n",
       "  <div class=\"bk-root\" id=\"7f5b1a70-c973-4038-a4ae-c7d83b1d860f\" data-root-id=\"1473\"></div>\n"
      ]
     },
     "metadata": {},
     "output_type": "display_data"
    },
    {
     "data": {
      "application/javascript": [
       "(function(root) {\n",
       "  function embed_document(root) {\n",
       "    \n",
       "  var docs_json = {\"a4d2a4bf-6671-44dc-b2fc-5bb449278435\":{\"roots\":{\"references\":[{\"attributes\":{\"below\":[{\"id\":\"1484\",\"type\":\"LinearAxis\"}],\"center\":[{\"id\":\"1488\",\"type\":\"Grid\"},{\"id\":\"1493\",\"type\":\"Grid\"}],\"left\":[{\"id\":\"1489\",\"type\":\"LinearAxis\"}],\"outline_line_color\":{\"value\":null},\"plot_height\":500,\"plot_width\":500,\"renderers\":[{\"id\":\"1511\",\"type\":\"GlyphRenderer\"}],\"title\":{\"id\":\"1474\",\"type\":\"Title\"},\"toolbar\":{\"id\":\"1499\",\"type\":\"Toolbar\"},\"x_range\":{\"id\":\"1476\",\"type\":\"DataRange1d\"},\"x_scale\":{\"id\":\"1480\",\"type\":\"LinearScale\"},\"y_range\":{\"id\":\"1478\",\"type\":\"DataRange1d\"},\"y_scale\":{\"id\":\"1482\",\"type\":\"LinearScale\"}},\"id\":\"1473\",\"subtype\":\"Figure\",\"type\":\"Plot\"},{\"attributes\":{},\"id\":\"1485\",\"type\":\"BasicTicker\"},{\"attributes\":{},\"id\":\"1557\",\"type\":\"Selection\"},{\"attributes\":{\"callback\":null,\"overlay\":{\"id\":\"1555\",\"type\":\"BoxAnnotation\"}},\"id\":\"1497\",\"type\":\"BoxSelectTool\"},{\"attributes\":{\"bottom_units\":\"screen\",\"fill_alpha\":{\"value\":0.5},\"fill_color\":{\"value\":\"lightgrey\"},\"left_units\":\"screen\",\"level\":\"overlay\",\"line_alpha\":{\"value\":1.0},\"line_color\":{\"value\":\"black\"},\"line_dash\":[4,4],\"line_width\":{\"value\":2},\"render_mode\":\"css\",\"right_units\":\"screen\",\"top_units\":\"screen\"},\"id\":\"1554\",\"type\":\"BoxAnnotation\"},{\"attributes\":{\"formatter\":{\"id\":\"1550\",\"type\":\"BasicTickFormatter\"},\"ticker\":{\"id\":\"1485\",\"type\":\"BasicTicker\"},\"visible\":false},\"id\":\"1484\",\"type\":\"LinearAxis\"},{\"attributes\":{\"fill_color\":{\"value\":\"#1f77b4\"},\"size\":{\"units\":\"screen\",\"value\":15},\"x\":{\"field\":\"x\"},\"y\":{\"field\":\"y\"}},\"id\":\"1510\",\"type\":\"Circle\"},{\"attributes\":{},\"id\":\"1550\",\"type\":\"BasicTickFormatter\"},{\"attributes\":{\"text\":\"t-SNE Word Embeddings\",\"text_font_size\":{\"value\":\"16pt\"}},\"id\":\"1474\",\"type\":\"Title\"},{\"attributes\":{\"bottom_units\":\"screen\",\"fill_alpha\":{\"value\":0.5},\"fill_color\":{\"value\":\"lightgrey\"},\"left_units\":\"screen\",\"level\":\"overlay\",\"line_alpha\":{\"value\":1.0},\"line_color\":{\"value\":\"black\"},\"line_dash\":[4,4],\"line_width\":{\"value\":2},\"render_mode\":\"css\",\"right_units\":\"screen\",\"top_units\":\"screen\"},\"id\":\"1555\",\"type\":\"BoxAnnotation\"},{\"attributes\":{\"callback\":null,\"data\":{\"index\":[\"study\",\"diet\",\"increase\",\"result\",\"high\",\"effect\",\"food\",\"change\",\"level\",\"low\",\"population\",\"different\",\"suggest\",\"datum\",\"health\",\"find\",\"include\",\"nutrition\",\"dietary\",\"need\",\"model\",\"base\",\"child\",\"reduce\",\"nutritional\",\"improve\",\"important\",\"individual\",\"specie\",\"analysis\",\"associate\",\"provide\",\"finding\",\"use\",\"time\",\"difference\",\"group\",\"development\",\"protein\",\"potential\",\"patient\",\"factor\",\"identify\",\"intervention\",\"plant\",\"feed\",\"specific\",\"compare\",\"research\",\"relate\",\"disease\",\"gene\",\"human\",\"indicate\",\"response\",\"impact\",\"decrease\",\"control\",\"animal\",\"large\",\"likely\",\"condition\",\"method\",\"present\",\"concentration\",\"consider\",\"consumption\",\"approach\",\"treatment\",\"growth\",\"similar\",\"evidence\",\"require\",\"nutrient\",\"affect\",\"influence\",\"area\",\"observe\",\"community\",\"obesity\",\"cell\",\"activity\",\"lead\",\"support\",\"report\",\"pattern\",\"early\",\"system\",\"process\",\"information\",\"target\",\"develop\",\"great\",\"role\",\"measure\",\"risk\",\"demonstrate\",\"region\",\"woman\",\"addition\",\"significant\",\"age\",\"possible\",\"work\",\"production\",\"function\",\"content\",\"contribute\",\"period\",\"environment\",\"value\",\"strategy\",\"new\",\"intake\",\"cause\",\"program\",\"expression\",\"number\",\"overall\",\"tissue\",\"source\",\"especially\",\"metabolic\",\"mechanism\",\"fish\",\"focus\",\"supplementation\",\"sample\",\"rate\",\"practice\",\"pathway\",\"future\",\"conclusion\",\"non\",\"adult\",\"knowledge\",\"product\",\"composition\",\"determine\",\"outcome\",\"relationship\",\"appear\",\"energy\",\"local\",\"female\",\"resource\",\"assess\",\"induce\",\"help\",\"follow\",\"interaction\",\"liver\",\"variation\",\"mouse\",\"benefit\",\"particularly\",\"poor\",\"quality\",\"policy\",\"order\",\"country\",\"remain\",\"case\",\"association\",\"exposure\",\"test\",\"maternal\",\"understand\",\"promote\",\"reveal\",\"size\",\"fat\",\"host\",\"pregnancy\",\"lack\",\"major\",\"produce\",\"1\",\"estimate\",\"year\",\"good\",\"component\",\"long_term\",\"investigate\",\"site\",\"e.g.\",\"allow\",\"metabolism\",\"furthermore\",\"like\",\"status\",\"know\",\"consume\",\"effective\",\"water\",\"particular\",\"access\",\"involve\",\"stress\",\"design\",\"reduction\",\"link\",\"characteristic\",\"feeding\",\"address\",\"behavior\",\"available\",\"parameter\",\"present_study\",\"current\",\"strong\",\"metabolite\",\"multiple\",\"management\",\"regulation\",\"improvement\",\"small\",\"soil\",\"presence\",\"range\",\"exist\",\"occur\",\"additional\",\"type\",\"importance\",\"state\",\"significantly\",\"way\",\"functional\",\"mother\",\"form\",\"genetic\",\"alter\",\"evaluate\",\"day\",\"effort\",\"scale\",\"lipid\",\"profile\",\"infection\",\"care\",\"represent\",\"establish\",\"limit\",\"future_study\",\"tool\",\"detect\",\"consistent\",\"total\",\"performance\",\"weight\",\"and/or\",\"infant\",\"muscle\",\"variable\",\"investigation\",\"describe\",\"2\",\"enhance\",\"public_health\",\"highly\",\"novel\",\"male\",\"environmental\",\"risk_factor\",\"supplement\",\"household\",\"appropriate\",\"ability\",\"prevent\",\"marker\",\"exercise\",\"ecological\",\"achieve\",\"social\",\"combination\",\"confirm\",\"insect\",\"habitat\",\"trend\",\"diversity\",\"challenge\",\"cost\",\"physical_activity\",\"experiment\",\"regulate\",\"key\",\"glucose\",\"complex\",\"potentially\",\"malnutrition\",\"propose\",\"recommend\",\"action\",\"healthy\",\"structure\",\"brain\",\"necessary\",\"reflect\",\"seed\",\"common\",\"relative\",\"application\",\"context\",\"finally\",\"explain\",\"stage\",\"clinical\",\"term\",\"rat\",\"temperature\",\"setting\",\"result_suggest\",\"crop\",\"consumer\",\"prevalence\",\"useful\",\"alteration\",\"able\",\"nutritional_status\",\"ratio\",\"understanding\",\"body\",\"long\",\"combine\",\"fatty_acid\",\"people\",\"predict\",\"recent\",\"shift\",\"apply\",\"hypothesis\",\"previously\",\"BMI\",\"indicator\",\"point\",\"global\",\"gut\",\"assessment\",\"rice\",\"example\",\"physiological\",\"fruit\",\"general\",\"live\",\"question\",\"despite\",\"distribution\",\"feature\",\"grow\",\"contrast\",\"rich\",\"comparison\",\"microbiota\",\"bone\",\"training\",\"contain\",\"perform\",\"direct\",\"i.e.\",\"natural\",\"molecular\",\"obtain\",\"essential\",\"short\",\"education\",\"culture\",\"milk\",\"service\",\"accord\",\"prey\",\"set\",\"consequence\",\"index\",\"add\",\"availability\",\"depend\",\"3\",\"biological\",\"maintain\",\"problem\",\"explore\",\"main\",\"plasma\",\"yield\",\"forage\",\"clear\",\"highlight\",\"family\",\"comprehensive\",\"bacteria\",\"enzyme\",\"loss\",\"issue\",\"evaluation\",\"single\",\"4\",\"cancer\",\"oil\",\"decline\",\"mortality\",\"experimental\",\"dynamic\",\"observation\",\"serve\",\"limited\",\"critical\",\"study_show\",\"activation\",\"life\",\"opportunity\",\"alternative\",\"ensure\",\"survival\",\"eat\",\"implement\",\"field\",\"conclude\",\"relatively\",\"recommendation\",\"abundance\",\"positive\",\"account\",\"aspect\",\"normal\",\"prevention\",\"previous\",\"possibly\",\"derive\",\"examine\",\"amino_acid\",\"5\",\"selection\",\"broad\",\"trait\",\"determinant\",\"line\",\"taxa\",\"signal\",\"economic\",\"primary\",\"summary\",\"strain\",\"gene_expression\",\"implication\",\"bacterial\",\"exhibit\",\"contribution\",\"efficiency\",\"young\",\"beneficial\",\"note\",\"select\",\"facilitate\",\"fact\",\"inflammation\",\"currently\",\"insight\",\"old\",\"expect\",\"post\",\"future_research\",\"adaptation\",\"marine\",\"adapt\",\"limitation\",\"identification\",\"technique\",\"acid\",\"characterize\",\"analyze\",\"tooth\",\"horse\",\"blood\",\"offer\",\"standard\",\"differ\",\"generate\",\"deficiency\",\"phenotype\",\"forest\",\"define\",\"compound\",\"ecosystem\",\"optimal\",\"mainly\",\"mean\",\"capacity\",\"shape\",\"literature\",\"HFD\",\"supply\",\"grain\",\"late\",\"survey\",\"behaviour\",\"aim\",\"concern\",\"experience\",\"continue\",\"enable\",\"mediate\",\"strongly\",\"conduct\",\"property\",\"school\",\"subject\",\"lifestyle\",\"specifically\",\"p\",\"correlate\",\"release\",\"adequate\",\"physical\",\"hand\",\"proportion\",\"average\",\"paper\",\"probably\",\"second\",\"national\",\"balance\",\"absence\",\"drive\",\"participant\",\"genotype\",\"dependent\",\"basis\",\"dog\",\"prior\",\"study_demonstrate\",\"density\",\"integrate\",\"measurement\",\"C.\",\"central\",\"HIV\",\"sequence\",\"meat\",\"complete\",\"variety\",\"pig\",\"additionally\",\"reach\",\"score\",\"fast\",\"treat\",\"vary\",\"monitor\",\"previous_study\",\"play\",\"leave\",\"serum\",\"respectively\",\"certain\",\"negative\",\"result_indicate\",\"carbohydrate\",\"30\",\"intestinal\",\"accumulation\",\"mitochondrial\",\"evolution\",\"suitable\",\"micronutrient\",\"sex\",\"diabetes\",\"month\",\"gut_microbiota\",\"microbial\",\"dataset\",\"active\",\"gain\",\"relevant\",\"interesting\",\"traditional\",\"agricultural\",\"document\",\"nature\",\"high_level\",\"little\",\"chronic\",\"element\",\"biomarker\",\"waste\",\"event\",\"generally\",\"study_provide\",\"requirement\",\"stunting\",\"researcher\",\"P.\",\"cow\",\"degree\",\"place\",\"independent\",\"create\",\"incorporate\",\"ingredient\",\"larvae\",\"wild\",\"urban\",\"better\",\"10\",\"microbiome\",\"bird\",\"cattle\",\"mass\",\"implementation\",\"vegetable\",\"wheat\",\"birth\",\"diverse\",\"gender\",\"vitamin\",\"burden\",\"record\",\"cohort\",\"vivo\",\"past\",\"transcriptome\",\"n\",\"season\",\"fitness\",\"regard\",\"substantial\",\"food_insecurity\",\"receptor\",\"reproductive\",\"phase\",\"dna\",\"co\",\"simple\",\"attention\",\"step\",\"sufficient\",\"uptake\",\"niche\",\"network\",\"turn\",\"category\",\"free\",\"generation\",\"fed\",\"15\",\"resistance\",\"price\",\"inflammatory\",\"landscape\",\"iron\",\"ecology\",\"baseline\",\"detailed\",\"clearly\",\"material\",\"oral\",\"framework\",\"et_al\",\"observed\",\"relation\",\"abundant\",\"multi\",\"salt\",\"biochemical\",\"20\",\"review\",\"enrich\",\"cellular\",\"offspring\",\"bee\",\"far\",\"flour\",\"transport\",\"difficult\",\"avoid\",\"robust\",\"c\",\"hypertension\",\"trophic\",\"organism\",\"daily\",\"severe\",\"50\",\"undernutrition\",\"variability\",\"date\",\"childhood\",\"colony\",\"incidence\",\"origin\",\"drug\",\"18\",\"self\",\"medium\",\"modification\",\"trial\",\"plan\",\"cultural\",\"light\",\"inclusion\",\"collect\",\"transition\",\"damage\",\"prove\",\"possibility\",\"C\",\"insulin\",\"world\",\"unique\",\"open\",\"hepatic\",\"reason\",\"complication\",\"diagnosis\",\"isotopic\",\"obese\",\"meal\",\"sugar\",\"rapid\",\"rear\",\"biomass\",\"utilize\",\"current_study\",\"extend\",\"S.\",\"inform\",\"genome\",\"anemia\",\"correlation\",\"body_size\",\"interpret\",\"demand\",\"perspective\",\"\\u03b2\",\"location\",\"14\",\"receive\",\"egg\",\"end\",\"utilization\",\"9\",\"close\",\"barrier\",\"surface\",\"mammal\",\"elevated\",\"secondary\",\"6\",\"smoking\",\"expand\",\"meet\",\"antioxidant\",\"history\",\"food_security\",\"sensitivity\",\"stable\",\"monitoring\",\"strengthen\",\"build\",\"directly\",\"socioeconomic\",\"week\",\"habit\",\"high_prevalence\",\"8\",\"length\",\"25\",\"pre\",\"predator\",\"agent\",\"weight_loss\",\"extent\",\"fermentation\",\"hominin\",\"inequality\",\"processing\",\"Fig\",\"vegetation\",\"pathogen\",\"attribute\",\"bear\",\"encourage\",\"accurate\",\"interest\",\"restriction\",\"sensitive\",\"express\",\"validate\",\"weight_gain\",\"related\",\"raise\",\"moderate\",\"distinct\",\"criterion\",\"public\",\"China\",\"modulate\",\"frequency\",\"elucidate\",\"ultimately\",\"medical\",\"ad\",\"pregnant_woman\",\"7\",\"preference\",\"warrant\",\"overweight\",\"face\",\"herbivore\",\"dental\",\"restrict\",\"expose\",\"overweight_obesity\",\"largely\",\"introduce\",\"reference\",\"initial\",\"modern\",\"acute\",\"nutritional_quality\",\"position\",\"emerge\",\"majority\",\"red\",\"government\",\"16\",\"magnitude\",\"100\",\"input\",\"core\",\"duration\",\"dry\",\"overlap\",\"microbe\",\"morphological\",\"40\",\"cycle\",\"adolescent\",\"vulnerable\",\"sampling\",\"start\",\"finding_suggest\",\"consideration\",\"view\",\"couple\",\"morphology\",\"fully\",\"fecal\",\"constitute\",\"formation\",\"advantage\",\"lipid_metabolism\",\"situation\",\"rural\",\"larval\",\"recovery\",\"therapy\",\"wide_range\",\"genomic\",\"later\",\"lactate\",\"society\",\"root\",\"terrestrial\",\"dietary_pattern\",\"significant_difference\",\"carry\",\"disorder\",\"mineral\",\"importantly\",\"underlie\",\"species\",\"body_weight\",\"capture\",\"large_scale\",\"regional\",\"adverse\",\"adherence\",\"evolutionary\",\"programme\",\"perception\",\"consequently\",\"develop_country\",\"vitro\",\"synthesis\",\"storage\",\"breed\",\"morbidity\",\"manage\",\"entire\",\"12\",\"diet_quality\",\"instead\",\"height\",\"easy\",\"crucial\",\"market\",\"modify\",\"fishery\",\"N\",\"lower\",\"17\",\"juvenile\",\"effectively\",\"instance\",\"occurrence\",\"successful\",\"attempt\",\"coverage\",\"health_care\",\"breeding\",\"extract\",\"high_risk\",\"short_term\",\"death\",\"unknown\",\"+\",\"temporal\",\"neuron\",\"11\",\"commonly\",\"therapeutic\",\"home\",\"membrane\",\"act\",\"provide_evidence\",\"nutritional_intervention\",\"differential\",\"24\",\"tree\",\"play_important_role\",\"efficacy\",\"accompany\",\"advance\",\"adipose_tissue\",\"power\",\"anaemia\",\"Europe\",\"dose\",\"intensity\",\"primarily\",\"physiology\",\"degradation\",\"conservation\",\"farm\",\"a.\",\"TB\",\"evolve\",\"transcript\",\"quantify\",\"sub\",\"choice\",\"man\",\"pollen\",\"movement\",\"optimize\",\"28\",\"share\",\"guide\",\"developmental\",\"27\",\"aid\",\"FA\",\"healthcare\",\"widely\",\"21\",\"tolerance\",\"gap\",\"half\",\"MS\",\"improved\",\"northern\",\"respect\",\"starch\",\"adopt\",\"urine\",\"rely\",\"display\",\"sustainable\",\"promotion\",\"subsequent\",\"predictor\",\"western\",\"winter\",\"organic\",\"high_fat_diet\",\"wide\",\"background\",\"safe\",\"collection\",\"ruman\",\"deliver\",\"behavioral\",\"maintenance\",\"rise\",\"immune\",\"skin\",\"cognitive\",\"trigger\",\"choline\",\"efficient\",\"percentage\",\"lactation\",\"choose\",\"cholesterol\",\"wean\",\"similarly\",\"growth_performance\",\"decision\",\"dominant\",\"artificial_diet\",\"stunt\",\"worker\",\"increase_risk\",\"african\",\"theory\",\"dimension\",\"isolate\",\"delivery\",\"University\",\"nitrogen\",\"technology\",\"course\",\"hormone\",\"parent\",\"interpretation\",\"basic\",\"belong\",\"century\",\"geographic\",\"29\",\"nutritional_supplement\",\"diagnostic\",\"fiber\",\"animal_model\",\"insulin_resistance\",\"prenatal\",\"replacement\",\"g\",\"policy_maker\",\"protease\",\"student\",\"commercial\",\"food_intake\",\"feasible\",\"guideline\",\"regular\",\"rapidly\",\"ruminant\",\"distinguish\",\"stable_isotope\",\"cluster\",\"carbon\",\"protect\",\"database\",\"mg\",\"fetal\",\"detection\",\"absorption\",\"climatic\",\"store\",\"activate\",\"lung\",\"similarity\",\"structural\",\"IUGR\",\"demographic\",\"recently\",\"apparent\",\"successfully\",\"significance\",\"comparable\",\"well_understanding\",\"imply\",\"goal\",\"dna_methylation\",\"manner\",\"child_nutrition\",\"force\",\"datum_suggest\",\"leptin\",\"responsible\",\"biology\",\"green\",\"separate\",\"adjust\",\"progress\",\"L.\",\"parasite\",\"differentiation\",\"easily\",\"13\",\"screening\",\"regime\",\"oxidative_stress\",\"chicken\",\"lose\",\"accuracy\",\"promising\",\"specimen\",\"transmission\",\"partly\",\"stomach\",\"signature\",\"vessel\",\"oleocanthal\",\"illustrate\",\"discuss\",\"bias\",\"diet_induce\",\"biosynthesis\",\"quantity\",\"early_life\",\"pressure\",\"dominate\",\"Bangladesh\",\"conventional\",\"drink\",\"chronic_disease\",\"36\",\"compromise\",\"extensive\",\"strength\",\"characterization\",\"intensive\",\"precise\",\"cytokine\",\"19\",\"dairy\",\"complexity\",\"sea\",\"environmental_factor\",\"food_resource\",\"algae\",\"infer\",\"inhibit\",\"class\",\"substrate\",\"employ\",\"55\",\"phylogenetic\",\"diabetic\",\"severity\",\"broiler\",\"malaria\",\"independently\",\"chemical\",\"VTA\",\"respond\",\"mitigate\",\"health_outcome\",\"purpose\",\"objective\",\"communication\",\"harvest\",\"scenario\",\"metabolic_syndrome\",\"effectiveness\",\"Mediterranean\",\"digestibility\",\"emphasize\",\"gestation\",\"user\",\"comparative\",\"proper\",\"formulation\",\"research_need\",\"onset\",\"breastfeed\",\"intestine\",\"laboratory\",\"numerous\",\"partially\",\"output\",\"correspond\",\"toxicity\",\"impairment\",\"detail\",\"error\",\"NASH\",\"prediction\",\"fluid\",\"Mn\",\"sense\",\"defense\",\"pssm2_WB\",\"elderly\",\"peptide\",\"dolphin\",\"decade\",\"38\",\"slightly\",\"fruit_vegetable\",\"adjustment\",\"reliable\",\"56\",\"cat\",\"portion\",\"feed_intake\",\"widespread\",\"26\",\"head\",\"farmer\",\"methodology\",\"indigenous\",\"option\",\"platform\",\"black\",\"spatial\",\"priority\",\"exclude\",\"48\",\"neonatal\",\"resistant\",\"message\",\"minimize\",\"representative\",\"provision\",\"practical\",\"22\",\"zinc\",\"diversification\",\"n-3\",\"income\",\"selective\",\"hard\",\"beneficial_effect\",\"better_understand\",\"simulation\",\"section\",\"cross\",\"member\",\"historical\",\"pregnant\",\"interestingly\",\"regulatory\",\"42\",\"solution\",\"metabolic_pathway\",\"transfer\",\"calcium\",\"cardiovascular\",\"believe\",\"goat\",\"resolution\",\"label\",\"mixed\",\"space\",\"high_quality\",\"corn\",\"skeletal_muscle\",\"microbial_community\",\"counseling\",\"leaf\",\"extant\",\"grass\",\"CO2\",\"positive_effect\",\"real\",\"probiotic\",\"clarify\",\"reduced\",\"digestive\",\"high_fat\",\"fundamental\",\"analyse\",\"nutritional_value\",\"look\",\"helpful\",\"molecule\",\"inhibition\",\"recognize\",\"nutrition_education\",\"seasonal\",\"35\",\"emission\",\"ruminal\",\"come\",\"CVD\",\"suffer\",\"actual\",\"continuous\",\"survive\",\"timing\",\"archaeological\",\"seek\",\"modeling\",\"tropical\",\"growth_rate\",\"fall\",\"flow\",\"digestion\",\"distance\",\"hypothesize\",\"pair\",\"domestic\",\"etc\",\"<\",\"european\",\"hour\",\"\\u00b0_C\",\"competition\",\"person\",\"discover\",\"residue\",\"settlement\",\"aphid\",\"dinosaur\",\"tend\",\"food_availability\",\"productivity\",\"54\",\"maize\",\"metric\",\"adverse_effect\",\"impair\",\"46\",\"replace\",\"valuable\",\"food_supply\",\"draw\",\"quantitative\",\"dietary_intake\",\"expansion\",\"task\",\"accurately\",\"typical\",\"drinking\",\"immunity\",\"contexts\",\"farming\",\"fatty\",\"31\",\"accumulate\",\"safety\",\"classification\",\"reproduction\",\"cold\",\"data\",\"sodium\",\"systematic\",\"pasta\",\"deposition\",\"underlying\",\"rare\",\"bovine\",\"volume\",\"32\",\"excess\",\"trade\",\"stimulate\",\"carnivore\",\"cardiac\",\"advice\",\"United_States\",\"perceive\",\"Health\",\"study_reveal\",\"oxidation\",\"solid\",\"postnatal\",\"abnormality\",\"land\",\"agriculture\",\"participate\",\"inadequate\",\"retention\",\"anti\",\"repeat\",\"administration\",\"argue\",\"male_female\",\"direction\",\"relevance\",\"constraint\",\"ncd\",\"sustain\",\"symptom\",\"India\",\"channel\",\"60\",\"young_child\",\"acceptable\",\"statistical\",\"routine\",\"excessive\",\"cereal\",\"complementary\",\"unlike\",\"caloric\",\"nutrition_intervention\",\"taste\",\"protocol\",\"sequencing\",\"ATP\",\"unlikely\",\"fertilizer\",\"crab\",\"introduction\",\"graze\",\"accelerate\",\"southern\",\"drought\",\"river\",\"success\",\"zebrafish\",\"participation\",\"ongoing\",\"Africa\",\"b\",\"mode\",\"healthy_food\",\"insufficient\",\"matrix\",\"diagnose\",\"fish_oil\",\"stimulation\",\"fossil\",\"disparity\",\"faecal\",\"sp\",\"breastfeeding\",\"heart\",\"juice\",\"33\",\"Drosophila\",\"toxic\",\"H.\",\"clade\",\"reinforce\",\"lean\",\"proxy\",\"fail\",\"industry\",\"study_investigate\",\"enhanced\",\"systemic\",\"food_item\",\"rodent\",\"coastal\",\"climate_change\",\"poverty\",\"initiative\",\"bring\",\"immune_response\",\"gene_involve\",\"kidney\",\"programming\",\"organization\",\"wealth\",\"play_role\",\"organ\",\"vitamin_d\",\"vs.\",\"agree\",\"candidate\",\"environmental_condition\",\"maximum\",\"kind\",\"color\",\"applicable\",\"return\",\"calf\",\"learn\",\"caution\",\"Se\",\"vulnerability\",\"near\",\"newly\",\"regulator\",\"37\",\"acquire\",\"newborn\",\"primate\",\"food_web\",\"II\",\"exceed\",\"estimation\",\"climate\",\"44\",\"assist\",\"Fe\",\"Zn\",\"protection\",\"special\",\"socio_economic\",\"purchase\",\"preparation\",\"regardless\",\"result_obtain\",\"child_age\",\"body_mass\",\"ingest\",\"impaired\",\"persist\",\"epidemiological\",\"diet_contain\",\"tilapia\",\"O.\",\"negative_effect\",\"chinese\",\"phenomenon\",\"sign\",\"north\",\"isotope\",\"project\",\"AD1\",\"M.\",\"livestock\",\"complement\",\"food_consumption\",\"result_present_study\",\"partial\",\"disturbance\",\"pathogenesis\",\"B\",\"delay\",\"vaccination\",\"publish\",\"simultaneously\",\"apparently\",\"facility\",\"learning\",\"wear\",\"native\",\"determination\",\"exert\",\"genus\",\"fungal\",\"geographical\",\"dysfunction\",\"lineage\",\"unclear\",\"threshold\",\"skull\",\"flavonoid\",\"baboon\",\"fit\",\"warm\",\"nutritional_stress\",\"39\",\"life_history\",\"Mg\",\"constant\",\"domain\",\"minimum\",\"dietary_diversity\",\"environmental_change\",\"richness\",\"equivalent\",\"investment\",\"increasingly\",\"food_source\",\"future_work\",\"immediate\",\"epigenetic\",\"sensory\",\"se\",\"NP\",\"NCD\",\"linear\",\"47\",\"positively\",\"adoption\",\"substantially\",\"bacterial_community\",\"considerable\",\"assume\",\"take_account\",\"relatively_low\",\"relate_gene\",\"artificial\",\"assay\",\"honey_bee\",\"center\",\"usually\",\"type_2_diabetes\",\"outside\",\"girl\",\"45\",\"statistically_significant\",\"degrade\",\"34\",\"engage\",\"susceptibility\",\"pathology\",\"predation\",\"contact\",\"depth\",\"fishing\",\"package\",\"preventive\",\"capability\",\"tax\",\"beverage\",\"blood_pressure\",\"polyphenol\",\"diabete\",\"genera\",\"associate_low\",\"GIT\",\"validation\",\"reconstruction\",\"carcass\",\"signaling\",\"sedentary\",\"tomato\",\"predictive\",\"obese_mouse\",\"neuronal\",\"energy_intake\",\"health_risk\",\"awareness\",\"procedure\",\"approximately\",\"large_number\",\"evidence_base\",\"perturbation\",\"alcohol\",\"e\",\"table\",\"poultry\",\"locate\",\"efficiently\",\"DM\",\"phenotypic\",\"frequent\",\"dietary_habit\",\"secretion\",\"extreme\",\"interact\",\"advocate\",\"specialized\",\"food_environment\",\"ideal\",\"empirical\",\"calorie\",\"pathogenic\",\"Nepal\",\"mental_health\",\"fraction\",\"gluten\",\"contamination\",\"arise\",\"explanation\",\"overcome\",\"varied\",\"closely\",\"homeostasis\",\"nonetheless\",\"biodiversity\",\"potato\",\"symbiont\",\"age_group\",\"cultivation\",\"aquatic\",\"implicate\",\"assemblage\",\"methylation\",\"progression\",\"apoptosis\",\"motivation\",\"author\",\"food_choice\",\"concentrate\",\"reverse\",\"inter\",\"mid\",\"american\",\"uncertainty\",\"arrow\",\"mobility\",\"gastric\",\"existence\",\"migration\",\"defect\",\"microwear\",\"layer\",\"t\",\"reference_gene\",\"reaction\"],\"word\":[\"study\",\"diet\",\"increase\",\"result\",\"high\",\"effect\",\"food\",\"change\",\"level\",\"low\",\"population\",\"different\",\"suggest\",\"datum\",\"health\",\"find\",\"include\",\"nutrition\",\"dietary\",\"need\",\"model\",\"base\",\"child\",\"reduce\",\"nutritional\",\"improve\",\"important\",\"individual\",\"specie\",\"analysis\",\"associate\",\"provide\",\"finding\",\"use\",\"time\",\"difference\",\"group\",\"development\",\"protein\",\"potential\",\"patient\",\"factor\",\"identify\",\"intervention\",\"plant\",\"feed\",\"specific\",\"compare\",\"research\",\"relate\",\"disease\",\"gene\",\"human\",\"indicate\",\"response\",\"impact\",\"decrease\",\"control\",\"animal\",\"large\",\"likely\",\"condition\",\"method\",\"present\",\"concentration\",\"consider\",\"consumption\",\"approach\",\"treatment\",\"growth\",\"similar\",\"evidence\",\"require\",\"nutrient\",\"affect\",\"influence\",\"area\",\"observe\",\"community\",\"obesity\",\"cell\",\"activity\",\"lead\",\"support\",\"report\",\"pattern\",\"early\",\"system\",\"process\",\"information\",\"target\",\"develop\",\"great\",\"role\",\"measure\",\"risk\",\"demonstrate\",\"region\",\"woman\",\"addition\",\"significant\",\"age\",\"possible\",\"work\",\"production\",\"function\",\"content\",\"contribute\",\"period\",\"environment\",\"value\",\"strategy\",\"new\",\"intake\",\"cause\",\"program\",\"expression\",\"number\",\"overall\",\"tissue\",\"source\",\"especially\",\"metabolic\",\"mechanism\",\"fish\",\"focus\",\"supplementation\",\"sample\",\"rate\",\"practice\",\"pathway\",\"future\",\"conclusion\",\"non\",\"adult\",\"knowledge\",\"product\",\"composition\",\"determine\",\"outcome\",\"relationship\",\"appear\",\"energy\",\"local\",\"female\",\"resource\",\"assess\",\"induce\",\"help\",\"follow\",\"interaction\",\"liver\",\"variation\",\"mouse\",\"benefit\",\"particularly\",\"poor\",\"quality\",\"policy\",\"order\",\"country\",\"remain\",\"case\",\"association\",\"exposure\",\"test\",\"maternal\",\"understand\",\"promote\",\"reveal\",\"size\",\"fat\",\"host\",\"pregnancy\",\"lack\",\"major\",\"produce\",\"1\",\"estimate\",\"year\",\"good\",\"component\",\"long_term\",\"investigate\",\"site\",\"e.g.\",\"allow\",\"metabolism\",\"furthermore\",\"like\",\"status\",\"know\",\"consume\",\"effective\",\"water\",\"particular\",\"access\",\"involve\",\"stress\",\"design\",\"reduction\",\"link\",\"characteristic\",\"feeding\",\"address\",\"behavior\",\"available\",\"parameter\",\"present_study\",\"current\",\"strong\",\"metabolite\",\"multiple\",\"management\",\"regulation\",\"improvement\",\"small\",\"soil\",\"presence\",\"range\",\"exist\",\"occur\",\"additional\",\"type\",\"importance\",\"state\",\"significantly\",\"way\",\"functional\",\"mother\",\"form\",\"genetic\",\"alter\",\"evaluate\",\"day\",\"effort\",\"scale\",\"lipid\",\"profile\",\"infection\",\"care\",\"represent\",\"establish\",\"limit\",\"future_study\",\"tool\",\"detect\",\"consistent\",\"total\",\"performance\",\"weight\",\"and/or\",\"infant\",\"muscle\",\"variable\",\"investigation\",\"describe\",\"2\",\"enhance\",\"public_health\",\"highly\",\"novel\",\"male\",\"environmental\",\"risk_factor\",\"supplement\",\"household\",\"appropriate\",\"ability\",\"prevent\",\"marker\",\"exercise\",\"ecological\",\"achieve\",\"social\",\"combination\",\"confirm\",\"insect\",\"habitat\",\"trend\",\"diversity\",\"challenge\",\"cost\",\"physical_activity\",\"experiment\",\"regulate\",\"key\",\"glucose\",\"complex\",\"potentially\",\"malnutrition\",\"propose\",\"recommend\",\"action\",\"healthy\",\"structure\",\"brain\",\"necessary\",\"reflect\",\"seed\",\"common\",\"relative\",\"application\",\"context\",\"finally\",\"explain\",\"stage\",\"clinical\",\"term\",\"rat\",\"temperature\",\"setting\",\"result_suggest\",\"crop\",\"consumer\",\"prevalence\",\"useful\",\"alteration\",\"able\",\"nutritional_status\",\"ratio\",\"understanding\",\"body\",\"long\",\"combine\",\"fatty_acid\",\"people\",\"predict\",\"recent\",\"shift\",\"apply\",\"hypothesis\",\"previously\",\"BMI\",\"indicator\",\"point\",\"global\",\"gut\",\"assessment\",\"rice\",\"example\",\"physiological\",\"fruit\",\"general\",\"live\",\"question\",\"despite\",\"distribution\",\"feature\",\"grow\",\"contrast\",\"rich\",\"comparison\",\"microbiota\",\"bone\",\"training\",\"contain\",\"perform\",\"direct\",\"i.e.\",\"natural\",\"molecular\",\"obtain\",\"essential\",\"short\",\"education\",\"culture\",\"milk\",\"service\",\"accord\",\"prey\",\"set\",\"consequence\",\"index\",\"add\",\"availability\",\"depend\",\"3\",\"biological\",\"maintain\",\"problem\",\"explore\",\"main\",\"plasma\",\"yield\",\"forage\",\"clear\",\"highlight\",\"family\",\"comprehensive\",\"bacteria\",\"enzyme\",\"loss\",\"issue\",\"evaluation\",\"single\",\"4\",\"cancer\",\"oil\",\"decline\",\"mortality\",\"experimental\",\"dynamic\",\"observation\",\"serve\",\"limited\",\"critical\",\"study_show\",\"activation\",\"life\",\"opportunity\",\"alternative\",\"ensure\",\"survival\",\"eat\",\"implement\",\"field\",\"conclude\",\"relatively\",\"recommendation\",\"abundance\",\"positive\",\"account\",\"aspect\",\"normal\",\"prevention\",\"previous\",\"possibly\",\"derive\",\"examine\",\"amino_acid\",\"5\",\"selection\",\"broad\",\"trait\",\"determinant\",\"line\",\"taxa\",\"signal\",\"economic\",\"primary\",\"summary\",\"strain\",\"gene_expression\",\"implication\",\"bacterial\",\"exhibit\",\"contribution\",\"efficiency\",\"young\",\"beneficial\",\"note\",\"select\",\"facilitate\",\"fact\",\"inflammation\",\"currently\",\"insight\",\"old\",\"expect\",\"post\",\"future_research\",\"adaptation\",\"marine\",\"adapt\",\"limitation\",\"identification\",\"technique\",\"acid\",\"characterize\",\"analyze\",\"tooth\",\"horse\",\"blood\",\"offer\",\"standard\",\"differ\",\"generate\",\"deficiency\",\"phenotype\",\"forest\",\"define\",\"compound\",\"ecosystem\",\"optimal\",\"mainly\",\"mean\",\"capacity\",\"shape\",\"literature\",\"HFD\",\"supply\",\"grain\",\"late\",\"survey\",\"behaviour\",\"aim\",\"concern\",\"experience\",\"continue\",\"enable\",\"mediate\",\"strongly\",\"conduct\",\"property\",\"school\",\"subject\",\"lifestyle\",\"specifically\",\"p\",\"correlate\",\"release\",\"adequate\",\"physical\",\"hand\",\"proportion\",\"average\",\"paper\",\"probably\",\"second\",\"national\",\"balance\",\"absence\",\"drive\",\"participant\",\"genotype\",\"dependent\",\"basis\",\"dog\",\"prior\",\"study_demonstrate\",\"density\",\"integrate\",\"measurement\",\"C.\",\"central\",\"HIV\",\"sequence\",\"meat\",\"complete\",\"variety\",\"pig\",\"additionally\",\"reach\",\"score\",\"fast\",\"treat\",\"vary\",\"monitor\",\"previous_study\",\"play\",\"leave\",\"serum\",\"respectively\",\"certain\",\"negative\",\"result_indicate\",\"carbohydrate\",\"30\",\"intestinal\",\"accumulation\",\"mitochondrial\",\"evolution\",\"suitable\",\"micronutrient\",\"sex\",\"diabetes\",\"month\",\"gut_microbiota\",\"microbial\",\"dataset\",\"active\",\"gain\",\"relevant\",\"interesting\",\"traditional\",\"agricultural\",\"document\",\"nature\",\"high_level\",\"little\",\"chronic\",\"element\",\"biomarker\",\"waste\",\"event\",\"generally\",\"study_provide\",\"requirement\",\"stunting\",\"researcher\",\"P.\",\"cow\",\"degree\",\"place\",\"independent\",\"create\",\"incorporate\",\"ingredient\",\"larvae\",\"wild\",\"urban\",\"better\",\"10\",\"microbiome\",\"bird\",\"cattle\",\"mass\",\"implementation\",\"vegetable\",\"wheat\",\"birth\",\"diverse\",\"gender\",\"vitamin\",\"burden\",\"record\",\"cohort\",\"vivo\",\"past\",\"transcriptome\",\"n\",\"season\",\"fitness\",\"regard\",\"substantial\",\"food_insecurity\",\"receptor\",\"reproductive\",\"phase\",\"dna\",\"co\",\"simple\",\"attention\",\"step\",\"sufficient\",\"uptake\",\"niche\",\"network\",\"turn\",\"category\",\"free\",\"generation\",\"fed\",\"15\",\"resistance\",\"price\",\"inflammatory\",\"landscape\",\"iron\",\"ecology\",\"baseline\",\"detailed\",\"clearly\",\"material\",\"oral\",\"framework\",\"et_al\",\"observed\",\"relation\",\"abundant\",\"multi\",\"salt\",\"biochemical\",\"20\",\"review\",\"enrich\",\"cellular\",\"offspring\",\"bee\",\"far\",\"flour\",\"transport\",\"difficult\",\"avoid\",\"robust\",\"c\",\"hypertension\",\"trophic\",\"organism\",\"daily\",\"severe\",\"50\",\"undernutrition\",\"variability\",\"date\",\"childhood\",\"colony\",\"incidence\",\"origin\",\"drug\",\"18\",\"self\",\"medium\",\"modification\",\"trial\",\"plan\",\"cultural\",\"light\",\"inclusion\",\"collect\",\"transition\",\"damage\",\"prove\",\"possibility\",\"C\",\"insulin\",\"world\",\"unique\",\"open\",\"hepatic\",\"reason\",\"complication\",\"diagnosis\",\"isotopic\",\"obese\",\"meal\",\"sugar\",\"rapid\",\"rear\",\"biomass\",\"utilize\",\"current_study\",\"extend\",\"S.\",\"inform\",\"genome\",\"anemia\",\"correlation\",\"body_size\",\"interpret\",\"demand\",\"perspective\",\"\\u03b2\",\"location\",\"14\",\"receive\",\"egg\",\"end\",\"utilization\",\"9\",\"close\",\"barrier\",\"surface\",\"mammal\",\"elevated\",\"secondary\",\"6\",\"smoking\",\"expand\",\"meet\",\"antioxidant\",\"history\",\"food_security\",\"sensitivity\",\"stable\",\"monitoring\",\"strengthen\",\"build\",\"directly\",\"socioeconomic\",\"week\",\"habit\",\"high_prevalence\",\"8\",\"length\",\"25\",\"pre\",\"predator\",\"agent\",\"weight_loss\",\"extent\",\"fermentation\",\"hominin\",\"inequality\",\"processing\",\"Fig\",\"vegetation\",\"pathogen\",\"attribute\",\"bear\",\"encourage\",\"accurate\",\"interest\",\"restriction\",\"sensitive\",\"express\",\"validate\",\"weight_gain\",\"related\",\"raise\",\"moderate\",\"distinct\",\"criterion\",\"public\",\"China\",\"modulate\",\"frequency\",\"elucidate\",\"ultimately\",\"medical\",\"ad\",\"pregnant_woman\",\"7\",\"preference\",\"warrant\",\"overweight\",\"face\",\"herbivore\",\"dental\",\"restrict\",\"expose\",\"overweight_obesity\",\"largely\",\"introduce\",\"reference\",\"initial\",\"modern\",\"acute\",\"nutritional_quality\",\"position\",\"emerge\",\"majority\",\"red\",\"government\",\"16\",\"magnitude\",\"100\",\"input\",\"core\",\"duration\",\"dry\",\"overlap\",\"microbe\",\"morphological\",\"40\",\"cycle\",\"adolescent\",\"vulnerable\",\"sampling\",\"start\",\"finding_suggest\",\"consideration\",\"view\",\"couple\",\"morphology\",\"fully\",\"fecal\",\"constitute\",\"formation\",\"advantage\",\"lipid_metabolism\",\"situation\",\"rural\",\"larval\",\"recovery\",\"therapy\",\"wide_range\",\"genomic\",\"later\",\"lactate\",\"society\",\"root\",\"terrestrial\",\"dietary_pattern\",\"significant_difference\",\"carry\",\"disorder\",\"mineral\",\"importantly\",\"underlie\",\"species\",\"body_weight\",\"capture\",\"large_scale\",\"regional\",\"adverse\",\"adherence\",\"evolutionary\",\"programme\",\"perception\",\"consequently\",\"develop_country\",\"vitro\",\"synthesis\",\"storage\",\"breed\",\"morbidity\",\"manage\",\"entire\",\"12\",\"diet_quality\",\"instead\",\"height\",\"easy\",\"crucial\",\"market\",\"modify\",\"fishery\",\"N\",\"lower\",\"17\",\"juvenile\",\"effectively\",\"instance\",\"occurrence\",\"successful\",\"attempt\",\"coverage\",\"health_care\",\"breeding\",\"extract\",\"high_risk\",\"short_term\",\"death\",\"unknown\",\"+\",\"temporal\",\"neuron\",\"11\",\"commonly\",\"therapeutic\",\"home\",\"membrane\",\"act\",\"provide_evidence\",\"nutritional_intervention\",\"differential\",\"24\",\"tree\",\"play_important_role\",\"efficacy\",\"accompany\",\"advance\",\"adipose_tissue\",\"power\",\"anaemia\",\"Europe\",\"dose\",\"intensity\",\"primarily\",\"physiology\",\"degradation\",\"conservation\",\"farm\",\"a.\",\"TB\",\"evolve\",\"transcript\",\"quantify\",\"sub\",\"choice\",\"man\",\"pollen\",\"movement\",\"optimize\",\"28\",\"share\",\"guide\",\"developmental\",\"27\",\"aid\",\"FA\",\"healthcare\",\"widely\",\"21\",\"tolerance\",\"gap\",\"half\",\"MS\",\"improved\",\"northern\",\"respect\",\"starch\",\"adopt\",\"urine\",\"rely\",\"display\",\"sustainable\",\"promotion\",\"subsequent\",\"predictor\",\"western\",\"winter\",\"organic\",\"high_fat_diet\",\"wide\",\"background\",\"safe\",\"collection\",\"ruman\",\"deliver\",\"behavioral\",\"maintenance\",\"rise\",\"immune\",\"skin\",\"cognitive\",\"trigger\",\"choline\",\"efficient\",\"percentage\",\"lactation\",\"choose\",\"cholesterol\",\"wean\",\"similarly\",\"growth_performance\",\"decision\",\"dominant\",\"artificial_diet\",\"stunt\",\"worker\",\"increase_risk\",\"african\",\"theory\",\"dimension\",\"isolate\",\"delivery\",\"University\",\"nitrogen\",\"technology\",\"course\",\"hormone\",\"parent\",\"interpretation\",\"basic\",\"belong\",\"century\",\"geographic\",\"29\",\"nutritional_supplement\",\"diagnostic\",\"fiber\",\"animal_model\",\"insulin_resistance\",\"prenatal\",\"replacement\",\"g\",\"policy_maker\",\"protease\",\"student\",\"commercial\",\"food_intake\",\"feasible\",\"guideline\",\"regular\",\"rapidly\",\"ruminant\",\"distinguish\",\"stable_isotope\",\"cluster\",\"carbon\",\"protect\",\"database\",\"mg\",\"fetal\",\"detection\",\"absorption\",\"climatic\",\"store\",\"activate\",\"lung\",\"similarity\",\"structural\",\"IUGR\",\"demographic\",\"recently\",\"apparent\",\"successfully\",\"significance\",\"comparable\",\"well_understanding\",\"imply\",\"goal\",\"dna_methylation\",\"manner\",\"child_nutrition\",\"force\",\"datum_suggest\",\"leptin\",\"responsible\",\"biology\",\"green\",\"separate\",\"adjust\",\"progress\",\"L.\",\"parasite\",\"differentiation\",\"easily\",\"13\",\"screening\",\"regime\",\"oxidative_stress\",\"chicken\",\"lose\",\"accuracy\",\"promising\",\"specimen\",\"transmission\",\"partly\",\"stomach\",\"signature\",\"vessel\",\"oleocanthal\",\"illustrate\",\"discuss\",\"bias\",\"diet_induce\",\"biosynthesis\",\"quantity\",\"early_life\",\"pressure\",\"dominate\",\"Bangladesh\",\"conventional\",\"drink\",\"chronic_disease\",\"36\",\"compromise\",\"extensive\",\"strength\",\"characterization\",\"intensive\",\"precise\",\"cytokine\",\"19\",\"dairy\",\"complexity\",\"sea\",\"environmental_factor\",\"food_resource\",\"algae\",\"infer\",\"inhibit\",\"class\",\"substrate\",\"employ\",\"55\",\"phylogenetic\",\"diabetic\",\"severity\",\"broiler\",\"malaria\",\"independently\",\"chemical\",\"VTA\",\"respond\",\"mitigate\",\"health_outcome\",\"purpose\",\"objective\",\"communication\",\"harvest\",\"scenario\",\"metabolic_syndrome\",\"effectiveness\",\"Mediterranean\",\"digestibility\",\"emphasize\",\"gestation\",\"user\",\"comparative\",\"proper\",\"formulation\",\"research_need\",\"onset\",\"breastfeed\",\"intestine\",\"laboratory\",\"numerous\",\"partially\",\"output\",\"correspond\",\"toxicity\",\"impairment\",\"detail\",\"error\",\"NASH\",\"prediction\",\"fluid\",\"Mn\",\"sense\",\"defense\",\"pssm2_WB\",\"elderly\",\"peptide\",\"dolphin\",\"decade\",\"38\",\"slightly\",\"fruit_vegetable\",\"adjustment\",\"reliable\",\"56\",\"cat\",\"portion\",\"feed_intake\",\"widespread\",\"26\",\"head\",\"farmer\",\"methodology\",\"indigenous\",\"option\",\"platform\",\"black\",\"spatial\",\"priority\",\"exclude\",\"48\",\"neonatal\",\"resistant\",\"message\",\"minimize\",\"representative\",\"provision\",\"practical\",\"22\",\"zinc\",\"diversification\",\"n-3\",\"income\",\"selective\",\"hard\",\"beneficial_effect\",\"better_understand\",\"simulation\",\"section\",\"cross\",\"member\",\"historical\",\"pregnant\",\"interestingly\",\"regulatory\",\"42\",\"solution\",\"metabolic_pathway\",\"transfer\",\"calcium\",\"cardiovascular\",\"believe\",\"goat\",\"resolution\",\"label\",\"mixed\",\"space\",\"high_quality\",\"corn\",\"skeletal_muscle\",\"microbial_community\",\"counseling\",\"leaf\",\"extant\",\"grass\",\"CO2\",\"positive_effect\",\"real\",\"probiotic\",\"clarify\",\"reduced\",\"digestive\",\"high_fat\",\"fundamental\",\"analyse\",\"nutritional_value\",\"look\",\"helpful\",\"molecule\",\"inhibition\",\"recognize\",\"nutrition_education\",\"seasonal\",\"35\",\"emission\",\"ruminal\",\"come\",\"CVD\",\"suffer\",\"actual\",\"continuous\",\"survive\",\"timing\",\"archaeological\",\"seek\",\"modeling\",\"tropical\",\"growth_rate\",\"fall\",\"flow\",\"digestion\",\"distance\",\"hypothesize\",\"pair\",\"domestic\",\"etc\",\"<\",\"european\",\"hour\",\"\\u00b0_C\",\"competition\",\"person\",\"discover\",\"residue\",\"settlement\",\"aphid\",\"dinosaur\",\"tend\",\"food_availability\",\"productivity\",\"54\",\"maize\",\"metric\",\"adverse_effect\",\"impair\",\"46\",\"replace\",\"valuable\",\"food_supply\",\"draw\",\"quantitative\",\"dietary_intake\",\"expansion\",\"task\",\"accurately\",\"typical\",\"drinking\",\"immunity\",\"contexts\",\"farming\",\"fatty\",\"31\",\"accumulate\",\"safety\",\"classification\",\"reproduction\",\"cold\",\"data\",\"sodium\",\"systematic\",\"pasta\",\"deposition\",\"underlying\",\"rare\",\"bovine\",\"volume\",\"32\",\"excess\",\"trade\",\"stimulate\",\"carnivore\",\"cardiac\",\"advice\",\"United_States\",\"perceive\",\"Health\",\"study_reveal\",\"oxidation\",\"solid\",\"postnatal\",\"abnormality\",\"land\",\"agriculture\",\"participate\",\"inadequate\",\"retention\",\"anti\",\"repeat\",\"administration\",\"argue\",\"male_female\",\"direction\",\"relevance\",\"constraint\",\"ncd\",\"sustain\",\"symptom\",\"India\",\"channel\",\"60\",\"young_child\",\"acceptable\",\"statistical\",\"routine\",\"excessive\",\"cereal\",\"complementary\",\"unlike\",\"caloric\",\"nutrition_intervention\",\"taste\",\"protocol\",\"sequencing\",\"ATP\",\"unlikely\",\"fertilizer\",\"crab\",\"introduction\",\"graze\",\"accelerate\",\"southern\",\"drought\",\"river\",\"success\",\"zebrafish\",\"participation\",\"ongoing\",\"Africa\",\"b\",\"mode\",\"healthy_food\",\"insufficient\",\"matrix\",\"diagnose\",\"fish_oil\",\"stimulation\",\"fossil\",\"disparity\",\"faecal\",\"sp\",\"breastfeeding\",\"heart\",\"juice\",\"33\",\"Drosophila\",\"toxic\",\"H.\",\"clade\",\"reinforce\",\"lean\",\"proxy\",\"fail\",\"industry\",\"study_investigate\",\"enhanced\",\"systemic\",\"food_item\",\"rodent\",\"coastal\",\"climate_change\",\"poverty\",\"initiative\",\"bring\",\"immune_response\",\"gene_involve\",\"kidney\",\"programming\",\"organization\",\"wealth\",\"play_role\",\"organ\",\"vitamin_d\",\"vs.\",\"agree\",\"candidate\",\"environmental_condition\",\"maximum\",\"kind\",\"color\",\"applicable\",\"return\",\"calf\",\"learn\",\"caution\",\"Se\",\"vulnerability\",\"near\",\"newly\",\"regulator\",\"37\",\"acquire\",\"newborn\",\"primate\",\"food_web\",\"II\",\"exceed\",\"estimation\",\"climate\",\"44\",\"assist\",\"Fe\",\"Zn\",\"protection\",\"special\",\"socio_economic\",\"purchase\",\"preparation\",\"regardless\",\"result_obtain\",\"child_age\",\"body_mass\",\"ingest\",\"impaired\",\"persist\",\"epidemiological\",\"diet_contain\",\"tilapia\",\"O.\",\"negative_effect\",\"chinese\",\"phenomenon\",\"sign\",\"north\",\"isotope\",\"project\",\"AD1\",\"M.\",\"livestock\",\"complement\",\"food_consumption\",\"result_present_study\",\"partial\",\"disturbance\",\"pathogenesis\",\"B\",\"delay\",\"vaccination\",\"publish\",\"simultaneously\",\"apparently\",\"facility\",\"learning\",\"wear\",\"native\",\"determination\",\"exert\",\"genus\",\"fungal\",\"geographical\",\"dysfunction\",\"lineage\",\"unclear\",\"threshold\",\"skull\",\"flavonoid\",\"baboon\",\"fit\",\"warm\",\"nutritional_stress\",\"39\",\"life_history\",\"Mg\",\"constant\",\"domain\",\"minimum\",\"dietary_diversity\",\"environmental_change\",\"richness\",\"equivalent\",\"investment\",\"increasingly\",\"food_source\",\"future_work\",\"immediate\",\"epigenetic\",\"sensory\",\"se\",\"NP\",\"NCD\",\"linear\",\"47\",\"positively\",\"adoption\",\"substantially\",\"bacterial_community\",\"considerable\",\"assume\",\"take_account\",\"relatively_low\",\"relate_gene\",\"artificial\",\"assay\",\"honey_bee\",\"center\",\"usually\",\"type_2_diabetes\",\"outside\",\"girl\",\"45\",\"statistically_significant\",\"degrade\",\"34\",\"engage\",\"susceptibility\",\"pathology\",\"predation\",\"contact\",\"depth\",\"fishing\",\"package\",\"preventive\",\"capability\",\"tax\",\"beverage\",\"blood_pressure\",\"polyphenol\",\"diabete\",\"genera\",\"associate_low\",\"GIT\",\"validation\",\"reconstruction\",\"carcass\",\"signaling\",\"sedentary\",\"tomato\",\"predictive\",\"obese_mouse\",\"neuronal\",\"energy_intake\",\"health_risk\",\"awareness\",\"procedure\",\"approximately\",\"large_number\",\"evidence_base\",\"perturbation\",\"alcohol\",\"e\",\"table\",\"poultry\",\"locate\",\"efficiently\",\"DM\",\"phenotypic\",\"frequent\",\"dietary_habit\",\"secretion\",\"extreme\",\"interact\",\"advocate\",\"specialized\",\"food_environment\",\"ideal\",\"empirical\",\"calorie\",\"pathogenic\",\"Nepal\",\"mental_health\",\"fraction\",\"gluten\",\"contamination\",\"arise\",\"explanation\",\"overcome\",\"varied\",\"closely\",\"homeostasis\",\"nonetheless\",\"biodiversity\",\"potato\",\"symbiont\",\"age_group\",\"cultivation\",\"aquatic\",\"implicate\",\"assemblage\",\"methylation\",\"progression\",\"apoptosis\",\"motivation\",\"author\",\"food_choice\",\"concentrate\",\"reverse\",\"inter\",\"mid\",\"american\",\"uncertainty\",\"arrow\",\"mobility\",\"gastric\",\"existence\",\"migration\",\"defect\",\"microwear\",\"layer\",\"t\",\"reference_gene\",\"reaction\"],\"x\":{\"__ndarray__\":\"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\",\"dtype\":\"float32\",\"shape\":[1681]},\"y\":{\"__ndarray__\":\"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\",\"dtype\":\"float32\",\"shape\":[1681]}},\"selected\":{\"id\":\"1557\",\"type\":\"Selection\"},\"selection_policy\":{\"id\":\"1556\",\"type\":\"UnionRenderers\"}},\"id\":\"1472\",\"type\":\"ColumnDataSource\"},{\"attributes\":{\"active_drag\":\"auto\",\"active_inspect\":\"auto\",\"active_multi\":null,\"active_scroll\":{\"id\":\"1495\",\"type\":\"WheelZoomTool\"},\"active_tap\":\"auto\",\"tools\":[{\"id\":\"1494\",\"type\":\"PanTool\"},{\"id\":\"1495\",\"type\":\"WheelZoomTool\"},{\"id\":\"1496\",\"type\":\"BoxZoomTool\"},{\"id\":\"1497\",\"type\":\"BoxSelectTool\"},{\"id\":\"1498\",\"type\":\"ResetTool\"},{\"id\":\"1505\",\"type\":\"HoverTool\"}]},\"id\":\"1499\",\"type\":\"Toolbar\"},{\"attributes\":{\"data_source\":{\"id\":\"1472\",\"type\":\"ColumnDataSource\"},\"glyph\":{\"id\":\"1508\",\"type\":\"Circle\"},\"hover_glyph\":{\"id\":\"1510\",\"type\":\"Circle\"},\"muted_glyph\":null,\"nonselection_glyph\":{\"id\":\"1509\",\"type\":\"Circle\"},\"selection_glyph\":null,\"view\":{\"id\":\"1512\",\"type\":\"CDSView\"}},\"id\":\"1511\",\"type\":\"GlyphRenderer\"},{\"attributes\":{\"grid_line_color\":null,\"ticker\":{\"id\":\"1485\",\"type\":\"BasicTicker\"}},\"id\":\"1488\",\"type\":\"Grid\"},{\"attributes\":{\"callback\":null},\"id\":\"1476\",\"type\":\"DataRange1d\"},{\"attributes\":{},\"id\":\"1482\",\"type\":\"LinearScale\"},{\"attributes\":{},\"id\":\"1556\",\"type\":\"UnionRenderers\"},{\"attributes\":{},\"id\":\"1490\",\"type\":\"BasicTicker\"},{\"attributes\":{},\"id\":\"1498\",\"type\":\"ResetTool\"},{\"attributes\":{\"callback\":null},\"id\":\"1478\",\"type\":\"DataRange1d\"},{\"attributes\":{\"overlay\":{\"id\":\"1554\",\"type\":\"BoxAnnotation\"}},\"id\":\"1496\",\"type\":\"BoxZoomTool\"},{\"attributes\":{},\"id\":\"1495\",\"type\":\"WheelZoomTool\"},{\"attributes\":{\"fill_alpha\":{\"value\":0.1},\"fill_color\":{\"value\":\"blue\"},\"line_alpha\":{\"value\":0.2},\"line_color\":{\"value\":\"blue\"},\"size\":{\"units\":\"screen\",\"value\":15},\"x\":{\"field\":\"x\"},\"y\":{\"field\":\"y\"}},\"id\":\"1508\",\"type\":\"Circle\"},{\"attributes\":{\"formatter\":{\"id\":\"1552\",\"type\":\"BasicTickFormatter\"},\"ticker\":{\"id\":\"1490\",\"type\":\"BasicTicker\"},\"visible\":false},\"id\":\"1489\",\"type\":\"LinearAxis\"},{\"attributes\":{\"dimension\":1,\"grid_line_color\":null,\"ticker\":{\"id\":\"1490\",\"type\":\"BasicTicker\"}},\"id\":\"1493\",\"type\":\"Grid\"},{\"attributes\":{},\"id\":\"1480\",\"type\":\"LinearScale\"},{\"attributes\":{\"fill_alpha\":{\"value\":0.1},\"fill_color\":{\"value\":\"#1f77b4\"},\"line_alpha\":{\"value\":0.1},\"line_color\":{\"value\":\"#1f77b4\"},\"size\":{\"units\":\"screen\",\"value\":15},\"x\":{\"field\":\"x\"},\"y\":{\"field\":\"y\"}},\"id\":\"1509\",\"type\":\"Circle\"},{\"attributes\":{},\"id\":\"1494\",\"type\":\"PanTool\"},{\"attributes\":{\"source\":{\"id\":\"1472\",\"type\":\"ColumnDataSource\"}},\"id\":\"1512\",\"type\":\"CDSView\"},{\"attributes\":{\"callback\":null,\"tooltips\":\"@word\"},\"id\":\"1505\",\"type\":\"HoverTool\"},{\"attributes\":{},\"id\":\"1552\",\"type\":\"BasicTickFormatter\"}],\"root_ids\":[\"1473\"]},\"title\":\"Bokeh Application\",\"version\":\"1.4.0\"}};\n",
       "  var render_items = [{\"docid\":\"a4d2a4bf-6671-44dc-b2fc-5bb449278435\",\"roots\":{\"1473\":\"7f5b1a70-c973-4038-a4ae-c7d83b1d860f\"}}];\n",
       "  root.Bokeh.embed.embed_items_notebook(docs_json, render_items);\n",
       "\n",
       "  }\n",
       "  if (root.Bokeh !== undefined) {\n",
       "    embed_document(root);\n",
       "  } else {\n",
       "    var attempts = 0;\n",
       "    var timer = setInterval(function(root) {\n",
       "      if (root.Bokeh !== undefined) {\n",
       "        clearInterval(timer);\n",
       "        embed_document(root);\n",
       "      } else {\n",
       "        attempts++;\n",
       "        if (attempts > 100) {\n",
       "          clearInterval(timer);\n",
       "          console.log(\"Bokeh: ERROR: Unable to run BokehJS code because BokehJS library is missing\");\n",
       "        }\n",
       "      }\n",
       "    }, 10, root)\n",
       "  }\n",
       "})(window);"
      ],
      "application/vnd.bokehjs_exec.v0+json": ""
     },
     "metadata": {
      "application/vnd.bokehjs_exec.v0+json": {
       "id": "1473"
      }
     },
     "output_type": "display_data"
    }
   ],
   "source": [
    "# sents\n",
    "bokeh_tsne_plot(tsne_vecs_sents)"
   ]
  },
  {
   "cell_type": "markdown",
   "metadata": {
    "heading_collapsed": true
   },
   "source": [
    "## Hierarchical Clustering"
   ]
  },
  {
   "cell_type": "markdown",
   "metadata": {
    "ExecuteTime": {
     "end_time": "2020-02-15T08:10:51.823823Z",
     "start_time": "2020-02-15T08:10:51.819833Z"
    },
    "hidden": true
   },
   "source": [
    "import scipy.cluster.hierarchy as shc"
   ]
  },
  {
   "cell_type": "markdown",
   "metadata": {
    "ExecuteTime": {
     "end_time": "2020-02-15T08:35:17.788214Z",
     "start_time": "2020-02-15T08:35:17.780205Z"
    },
    "hidden": true
   },
   "source": [
    "df = make_df(w2v_docs)\n",
    "dft = df.transpose()"
   ]
  },
  {
   "cell_type": "markdown",
   "metadata": {
    "ExecuteTime": {
     "end_time": "2020-02-15T08:35:19.124639Z",
     "start_time": "2020-02-15T08:35:19.103666Z"
    },
    "hidden": true
   },
   "source": [
    "df.head()"
   ]
  },
  {
   "cell_type": "markdown",
   "metadata": {
    "ExecuteTime": {
     "end_time": "2020-02-15T09:31:40.327763Z",
     "start_time": "2020-02-15T09:31:40.324765Z"
    },
    "hidden": true
   },
   "source": [
    "####### First define the leaf label function.\n",
    "def llf(id):\n",
    "    if id < n:\n",
    "        return str(id)\n",
    "    else:\n",
    "        return '[%d %d %1.2f]' % (id, count, R[n-id,3])\n",
    "####### The text for the leaf nodes is going to be big so force\n",
    "####### a rotation of 90 degrees.\n",
    "#dendrogram(Z, leaf_label_func=llf, leaf_rotation=90)"
   ]
  },
  {
   "cell_type": "markdown",
   "metadata": {
    "ExecuteTime": {
     "end_time": "2020-02-16T03:06:22.088712Z",
     "start_time": "2020-02-16T03:06:08.972807Z"
    },
    "hidden": true
   },
   "source": [
    "plt.figure(figsize=(20, 250))  \n",
    "plt.title('Dendrograms')  \n",
    "dend = shc.dendrogram(shc.linkage(df, method='ward'), orientation='left', leaf_font_size=10)#, truncate_mode='lastp')"
   ]
  },
  {
   "cell_type": "markdown",
   "metadata": {
    "ExecuteTime": {
     "end_time": "2020-02-15T08:36:01.005706Z",
     "start_time": "2020-02-15T08:36:00.995738Z"
    },
    "hidden": true
   },
   "source": [
    "dend['ivl']"
   ]
  },
  {
   "cell_type": "markdown",
   "metadata": {
    "ExecuteTime": {
     "end_time": "2020-02-15T08:35:49.927978Z",
     "start_time": "2020-02-15T08:35:49.923988Z"
    },
    "hidden": true
   },
   "source": [
    "df.shape"
   ]
  },
  {
   "cell_type": "markdown",
   "metadata": {
    "ExecuteTime": {
     "end_time": "2020-02-15T09:14:45.739938Z",
     "start_time": "2020-02-15T09:14:45.714004Z"
    },
    "hidden": true
   },
   "source": [
    "df.reset_index()"
   ]
  },
  {
   "cell_type": "markdown",
   "metadata": {
    "ExecuteTime": {
     "end_time": "2020-02-15T09:14:54.557370Z",
     "start_time": "2020-02-15T09:14:54.531459Z"
    },
    "hidden": true
   },
   "source": [
    "df"
   ]
  },
  {
   "cell_type": "markdown",
   "metadata": {
    "hidden": true
   },
   "source": []
  },
  {
   "cell_type": "markdown",
   "metadata": {
    "hidden": true
   },
   "source": []
  },
  {
   "cell_type": "markdown",
   "metadata": {
    "ExecuteTime": {
     "end_time": "2020-02-15T09:21:36.527103Z",
     "start_time": "2020-02-15T09:21:36.124183Z"
    },
    "hidden": true
   },
   "source": [
    "import numpy as np\n",
    "\n",
    "X = np.array([[5,3],  \n",
    "    [10,15],\n",
    "    [15,12],\n",
    "    [24,10],\n",
    "    [30,30],\n",
    "    [85,70],\n",
    "    [71,80],\n",
    "    [60,78],\n",
    "    [70,55],\n",
    "    [80,91],])\n",
    "\n",
    "import matplotlib.pyplot as plt\n",
    "\n",
    "labels = range(1, 11)  \n",
    "plt.figure(figsize=(10, 7))  \n",
    "plt.subplots_adjust(bottom=0.1)  \n",
    "plt.scatter(X[:,0],X[:,1], label='True Position')\n",
    "\n",
    "for label, x, y in zip(labels, X[:, 0], X[:, 1]):  \n",
    "    plt.annotate(\n",
    "        label,\n",
    "        xy=(x, y), xytext=(-3, 3),\n",
    "        textcoords='offset points', ha='right', va='bottom')\n",
    "plt.show()  \n",
    "\n",
    "from scipy.cluster.hierarchy import dendrogram, linkage  \n",
    "from matplotlib import pyplot as plt\n",
    "\n",
    "linked = linkage(X, 'single')\n",
    "\n",
    "labelList = range(1, 11)\n",
    "\n",
    "plt.figure(figsize=(10, 7))  \n",
    "dendrogram(linked,  \n",
    "            orientation='top',\n",
    "            labels=labelList,\n",
    "            distance_sort='descending',\n",
    "            show_leaf_counts=True)\n",
    "plt.show()  "
   ]
  },
  {
   "cell_type": "markdown",
   "metadata": {
    "hidden": true
   },
   "source": []
  },
  {
   "cell_type": "code",
   "execution_count": null,
   "metadata": {
    "hidden": true
   },
   "outputs": [],
   "source": []
  },
  {
   "cell_type": "code",
   "execution_count": null,
   "metadata": {
    "hidden": true
   },
   "outputs": [],
   "source": []
  },
  {
   "cell_type": "code",
   "execution_count": null,
   "metadata": {
    "hidden": true
   },
   "outputs": [],
   "source": []
  },
  {
   "cell_type": "code",
   "execution_count": null,
   "metadata": {
    "hidden": true
   },
   "outputs": [],
   "source": []
  },
  {
   "cell_type": "code",
   "execution_count": null,
   "metadata": {
    "hidden": true
   },
   "outputs": [],
   "source": []
  },
  {
   "cell_type": "markdown",
   "metadata": {
    "heading_collapsed": true
   },
   "source": [
    "## Sub-topic analysis"
   ]
  },
  {
   "cell_type": "markdown",
   "metadata": {
    "hidden": true
   },
   "source": [
    "Lets summarise articles containing certain key words (sub keywords). This is done manually. See **4_article_summarisation.ipynb** for the Gensim 'summarize' method."
   ]
  },
  {
   "cell_type": "code",
   "execution_count": 304,
   "metadata": {
    "ExecuteTime": {
     "end_time": "2020-02-15T07:38:19.850910Z",
     "start_time": "2020-02-15T07:38:19.845925Z"
    },
    "hidden": true
   },
   "outputs": [],
   "source": [
    "from spacy.lang.en.stop_words import STOP_WORDS\n",
    "from string import punctuation\n",
    "from heapq import nlargest"
   ]
  },
  {
   "cell_type": "code",
   "execution_count": 298,
   "metadata": {
    "ExecuteTime": {
     "end_time": "2020-02-15T07:38:08.654754Z",
     "start_time": "2020-02-15T07:38:08.650799Z"
    },
    "hidden": true
   },
   "outputs": [],
   "source": [
    "# Find all sentences with sub keyword\n",
    "sub_key = 'diabetes'\n",
    "# plant_base_diet"
   ]
  },
  {
   "cell_type": "code",
   "execution_count": 305,
   "metadata": {
    "ExecuteTime": {
     "end_time": "2020-02-15T07:38:20.905119Z",
     "start_time": "2020-02-15T07:38:20.901105Z"
    },
    "hidden": true
   },
   "outputs": [],
   "source": [
    "stopwords = list(STOP_WORDS)"
   ]
  },
  {
   "cell_type": "code",
   "execution_count": 306,
   "metadata": {
    "ExecuteTime": {
     "end_time": "2020-02-15T07:38:21.965413Z",
     "start_time": "2020-02-15T07:38:21.931353Z"
    },
    "hidden": true
   },
   "outputs": [],
   "source": [
    "docx = nlp(docs[0])"
   ]
  },
  {
   "cell_type": "code",
   "execution_count": 308,
   "metadata": {
    "ExecuteTime": {
     "end_time": "2020-02-15T07:38:24.022784Z",
     "start_time": "2020-02-15T07:38:24.016772Z"
    },
    "hidden": true
   },
   "outputs": [],
   "source": [
    "# Frequency table\n",
    "word_frequencies = {}\n",
    "for word in docx:\n",
    "    if word.text not in stopwords:\n",
    "            if word.text not in word_frequencies.keys():\n",
    "                word_frequencies[word.text] = 1\n",
    "            else:\n",
    "                word_frequencies[word.text] += 1"
   ]
  },
  {
   "cell_type": "code",
   "execution_count": 310,
   "metadata": {
    "ExecuteTime": {
     "end_time": "2020-02-15T07:38:26.621808Z",
     "start_time": "2020-02-15T07:38:26.616828Z"
    },
    "hidden": true
   },
   "outputs": [],
   "source": [
    "# Maximum Word Frequency\n",
    "maximum_frequency = max(word_frequencies.values())\n",
    "maximum_frequency\n",
    "# Normalise Word Frequencies\n",
    "for word in word_frequencies.keys():  \n",
    "        word_frequencies[word] = (word_frequencies[word]/maximum_frequency)"
   ]
  },
  {
   "cell_type": "code",
   "execution_count": 312,
   "metadata": {
    "ExecuteTime": {
     "end_time": "2020-02-15T07:38:30.126436Z",
     "start_time": "2020-02-15T07:38:30.122465Z"
    },
    "hidden": true
   },
   "outputs": [],
   "source": [
    "# Sentence Tokens\n",
    "sentence_list = [sentence for sentence in docx.sents]"
   ]
  },
  {
   "cell_type": "code",
   "execution_count": 313,
   "metadata": {
    "ExecuteTime": {
     "end_time": "2020-02-15T07:38:31.151750Z",
     "start_time": "2020-02-15T07:38:31.146709Z"
    },
    "hidden": true
   },
   "outputs": [],
   "source": [
    "# Sentence Score via comparrng each word with sentence\n",
    "sentence_scores = {}  \n",
    "for sent in sentence_list:  \n",
    "        for word in sent:\n",
    "            if word.text.lower() in word_frequencies.keys():\n",
    "                #if len(sent.text.split(' ')) < 100:\n",
    "                if sent not in sentence_scores.keys():\n",
    "                    sentence_scores[sent] = word_frequencies[word.text.lower()]\n",
    "                else:\n",
    "                    sentence_scores[sent] += word_frequencies[word.text.lower()]\n",
    "        # Normalise accoring to sentence length\n",
    "        sentence_scores[sent] = sentence_scores[sent] / len(sent)    "
   ]
  },
  {
   "cell_type": "code",
   "execution_count": 314,
   "metadata": {
    "ExecuteTime": {
     "end_time": "2020-02-15T07:38:32.937920Z",
     "start_time": "2020-02-15T07:38:32.932933Z"
    },
    "hidden": true
   },
   "outputs": [
    {
     "data": {
      "text/plain": [
       "{Pregnancy tends to markedly widen the nutritional gap.: 0.37777777777777777,\n",
       " The decrease in the nutritional adequacy of observed diets of women of childbearing age cannot be solved by a simple increase in energy intake, as recommended in some countries.: 0.21250000000000005,\n",
       " A relatively good nutritional adequacy in pregnant women can therefore not be simply attributed to a higher energy intake, but to qualitative changes in the diet.: 0.2428571428571429,\n",
       " Recommendations of snack additions from public health agencies make a somewhat limited and an extremely variable contribution to tackling the nutritional gap during pregnancy.: 0.2,\n",
       " These results call for dedicated studies to define the most theoretically efficient dietary counselling during pregnancy on a methodologically sound basis, either as generic counselling for the whole population or as tailor-fitted advice at the individual level, to improve the nutritional adequacy of the diet which is jeopardized at this specific, critical stage of the life cycle.: 0.1936507936507936}"
      ]
     },
     "execution_count": 314,
     "metadata": {},
     "output_type": "execute_result"
    }
   ],
   "source": [
    "sentence_scores"
   ]
  },
  {
   "cell_type": "code",
   "execution_count": 315,
   "metadata": {
    "ExecuteTime": {
     "end_time": "2020-02-15T07:39:01.736724Z",
     "start_time": "2020-02-15T07:39:01.732703Z"
    },
    "hidden": true
   },
   "outputs": [],
   "source": [
    "summarized_sentences = nlargest(7, sentence_scores, key=sentence_scores.get)"
   ]
  },
  {
   "cell_type": "code",
   "execution_count": 316,
   "metadata": {
    "ExecuteTime": {
     "end_time": "2020-02-15T07:39:06.166845Z",
     "start_time": "2020-02-15T07:39:06.161858Z"
    },
    "hidden": true
   },
   "outputs": [
    {
     "data": {
      "text/plain": [
       "[Pregnancy tends to markedly widen the nutritional gap.,\n",
       " A relatively good nutritional adequacy in pregnant women can therefore not be simply attributed to a higher energy intake, but to qualitative changes in the diet.,\n",
       " The decrease in the nutritional adequacy of observed diets of women of childbearing age cannot be solved by a simple increase in energy intake, as recommended in some countries.,\n",
       " Recommendations of snack additions from public health agencies make a somewhat limited and an extremely variable contribution to tackling the nutritional gap during pregnancy.,\n",
       " These results call for dedicated studies to define the most theoretically efficient dietary counselling during pregnancy on a methodologically sound basis, either as generic counselling for the whole population or as tailor-fitted advice at the individual level, to improve the nutritional adequacy of the diet which is jeopardized at this specific, critical stage of the life cycle.]"
      ]
     },
     "execution_count": 316,
     "metadata": {},
     "output_type": "execute_result"
    }
   ],
   "source": [
    "summarized_sentences"
   ]
  }
 ],
 "metadata": {
  "kernelspec": {
   "display_name": "Python 3",
   "language": "python",
   "name": "python3"
  },
  "language_info": {
   "codemirror_mode": {
    "name": "ipython",
    "version": 3
   },
   "file_extension": ".py",
   "mimetype": "text/x-python",
   "name": "python",
   "nbconvert_exporter": "python",
   "pygments_lexer": "ipython3",
   "version": "3.7.3"
  },
  "toc": {
   "base_numbering": 1,
   "nav_menu": {},
   "number_sections": true,
   "sideBar": true,
   "skip_h1_title": true,
   "title_cell": "Table of Contents",
   "title_sidebar": "Contents",
   "toc_cell": false,
   "toc_position": {
    "height": "calc(100% - 180px)",
    "left": "10px",
    "top": "150px",
    "width": "210.535px"
   },
   "toc_section_display": true,
   "toc_window_display": true
  },
  "varInspector": {
   "cols": {
    "lenName": 16,
    "lenType": 16,
    "lenVar": 40
   },
   "kernels_config": {
    "python": {
     "delete_cmd_postfix": "",
     "delete_cmd_prefix": "del ",
     "library": "var_list.py",
     "varRefreshCmd": "print(var_dic_list())"
    },
    "r": {
     "delete_cmd_postfix": ") ",
     "delete_cmd_prefix": "rm(",
     "library": "var_list.r",
     "varRefreshCmd": "cat(var_dic_list()) "
    }
   },
   "types_to_exclude": [
    "module",
    "function",
    "builtin_function_or_method",
    "instance",
    "_Feature"
   ],
   "window_display": false
  }
 },
 "nbformat": 4,
 "nbformat_minor": 2
}
