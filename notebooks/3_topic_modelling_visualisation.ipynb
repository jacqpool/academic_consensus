{
 "cells": [
  {
   "cell_type": "markdown",
   "metadata": {},
   "source": [
    "# Exploratory Analysis\n",
    "***"
   ]
  },
  {
   "cell_type": "markdown",
   "metadata": {},
   "source": [
    "## Background\n",
    "\n",
    "Determine the degree of consensus in contentious academic fields. \n",
    "\n",
    "Collect title, publication date and summaries from scholarly articles containing a certain keyword or keywords. Apply NLP models to this data to identify and categorise concepts in this field and determine statistical significance between opposing 'truths', if any. Ranking these groups according to weighted influence will prove the degree of consensus of various approaches in a given academic field.\n",
    "\n",
    "To this end the academic_consensus model has already searched the abstracts of academic papers that contain the keyword \"nutrition\" and saved it into corpus_raw.csv.  \n",
    "  \n",
    "Overview of this notebook:\n",
    "- Setup notebok environment and load data (corpus_raw.csv)\n",
    "- Review articles published per year (sklearn's Countvectorizer)\n",
    "- Create Bag Of Words (BOW) of all articles for Titles and Conclusions (nltk)\n",
    "- Create interactive BOW per year with Bokeh"
   ]
  },
  {
   "cell_type": "markdown",
   "metadata": {},
   "source": [
    "### Credit"
   ]
  },
  {
   "cell_type": "markdown",
   "metadata": {},
   "source": [
    "Credit due in large to Patrick Harrison: Modern NLP in Python | PyData DC 2016  \n",
    "  \n",
    "Thank you!"
   ]
  },
  {
   "cell_type": "markdown",
   "metadata": {},
   "source": [
    "## Setup"
   ]
  },
  {
   "cell_type": "markdown",
   "metadata": {},
   "source": [
    "### Packages and setup"
   ]
  },
  {
   "cell_type": "code",
   "execution_count": 2,
   "metadata": {
    "ExecuteTime": {
     "end_time": "2020-01-31T15:28:20.235349Z",
     "start_time": "2020-01-31T15:28:19.150253Z"
    },
    "scrolled": true
   },
   "outputs": [],
   "source": [
    "# Common\n",
    "import pandas as pd\n",
    "import matplotlib.pyplot as plt\n",
    "import numpy as np\n",
    "import seaborn as sns\n",
    "\n",
    "# Workspace\n",
    "from IPython.core.interactiveshell import InteractiveShell\n",
    "from IPython.core.display import display, HTML"
   ]
  },
  {
   "cell_type": "code",
   "execution_count": 3,
   "metadata": {
    "ExecuteTime": {
     "end_time": "2020-01-31T15:28:20.247316Z",
     "start_time": "2020-01-31T15:28:20.236360Z"
    },
    "scrolled": true
   },
   "outputs": [
    {
     "data": {
      "text/html": [
       "<style>.container { width:50% !important; }</style>"
      ],
      "text/plain": [
       "<IPython.core.display.HTML object>"
      ]
     },
     "metadata": {},
     "output_type": "display_data"
    }
   ],
   "source": [
    "# Set workspace\n",
    "sns.set()\n",
    "# Set output charackters to 110 (not 79)\n",
    "pd.options.display.width = 110\n",
    "# To give multiple cell output. Not just the last command.\n",
    "InteractiveShell.ast_node_interactivity = 'last'\n",
    "# Make notebook wider to fit pyLDAvis plot\n",
    "display(HTML(\"<style>.container { width:50% !important; }</style>\"))"
   ]
  },
  {
   "cell_type": "markdown",
   "metadata": {},
   "source": [
    "### Load and inspect corpus.csv"
   ]
  },
  {
   "cell_type": "code",
   "execution_count": 4,
   "metadata": {
    "ExecuteTime": {
     "end_time": "2020-01-31T15:28:20.288208Z",
     "start_time": "2020-01-31T15:28:20.250310Z"
    }
   },
   "outputs": [],
   "source": [
    "# Load corpus.csv as DataFrame with parsed date format\n",
    "corpus = pd.read_csv('../data/interim/corpus_raw.csv', parse_dates=[0])"
   ]
  },
  {
   "cell_type": "code",
   "execution_count": 5,
   "metadata": {
    "ExecuteTime": {
     "end_time": "2020-01-31T15:28:20.294192Z",
     "start_time": "2020-01-31T15:28:20.290204Z"
    }
   },
   "outputs": [],
   "source": [
    "# Keyword \n",
    "keyword = 'nutrition'"
   ]
  },
  {
   "cell_type": "code",
   "execution_count": 6,
   "metadata": {
    "ExecuteTime": {
     "end_time": "2020-01-31T15:28:20.317130Z",
     "start_time": "2020-01-31T15:28:20.296186Z"
    },
    "scrolled": false
   },
   "outputs": [
    {
     "name": "stdout",
     "output_type": "stream",
     "text": [
      "<class 'pandas.core.frame.DataFrame'>\n",
      "RangeIndex: 794 entries, 0 to 793\n",
      "Data columns (total 3 columns):\n",
      "publication_date    794 non-null datetime64[ns, UTC]\n",
      "title               794 non-null object\n",
      "conclusions         794 non-null object\n",
      "dtypes: datetime64[ns, UTC](1), object(2)\n",
      "memory usage: 18.7+ KB\n"
     ]
    },
    {
     "data": {
      "text/html": [
       "<div>\n",
       "<style scoped>\n",
       "    .dataframe tbody tr th:only-of-type {\n",
       "        vertical-align: middle;\n",
       "    }\n",
       "\n",
       "    .dataframe tbody tr th {\n",
       "        vertical-align: top;\n",
       "    }\n",
       "\n",
       "    .dataframe thead th {\n",
       "        text-align: right;\n",
       "    }\n",
       "</style>\n",
       "<table border=\"1\" class=\"dataframe\">\n",
       "  <thead>\n",
       "    <tr style=\"text-align: right;\">\n",
       "      <th></th>\n",
       "      <th>publication_date</th>\n",
       "      <th>title</th>\n",
       "      <th>conclusions</th>\n",
       "    </tr>\n",
       "  </thead>\n",
       "  <tbody>\n",
       "    <tr>\n",
       "      <th>0</th>\n",
       "      <td>2014-10-21 00:00:00+00:00</td>\n",
       "      <td>Psychological Determinants of Consumer Accepta...</td>\n",
       "      <td>['To the authors’ knowledge, this is the first...</td>\n",
       "    </tr>\n",
       "    <tr>\n",
       "      <th>1</th>\n",
       "      <td>2015-03-13 00:00:00+00:00</td>\n",
       "      <td>Uncovering the Nutritional Landscape of Food</td>\n",
       "      <td>['In this study, we have developed a unique co...</td>\n",
       "    </tr>\n",
       "    <tr>\n",
       "      <th>2</th>\n",
       "      <td>2017-06-27 00:00:00+00:00</td>\n",
       "      <td>Developing and validating a scale to measure F...</td>\n",
       "      <td>['Food and nutrition literacy scale is a valid...</td>\n",
       "    </tr>\n",
       "    <tr>\n",
       "      <th>3</th>\n",
       "      <td>2017-05-18 00:00:00+00:00</td>\n",
       "      <td>Quality of nutrition services in primary healt...</td>\n",
       "      <td>['The aim of the NNS, integrating nutrition se...</td>\n",
       "    </tr>\n",
       "    <tr>\n",
       "      <th>4</th>\n",
       "      <td>2015-10-21 00:00:00+00:00</td>\n",
       "      <td>To See or Not to See: Do Front of Pack Nutriti...</td>\n",
       "      <td>['Our work strongly supports the idea that FOP...</td>\n",
       "    </tr>\n",
       "  </tbody>\n",
       "</table>\n",
       "</div>"
      ],
      "text/plain": [
       "           publication_date                                              title  \\\n",
       "0 2014-10-21 00:00:00+00:00  Psychological Determinants of Consumer Accepta...   \n",
       "1 2015-03-13 00:00:00+00:00       Uncovering the Nutritional Landscape of Food   \n",
       "2 2017-06-27 00:00:00+00:00  Developing and validating a scale to measure F...   \n",
       "3 2017-05-18 00:00:00+00:00  Quality of nutrition services in primary healt...   \n",
       "4 2015-10-21 00:00:00+00:00  To See or Not to See: Do Front of Pack Nutriti...   \n",
       "\n",
       "                                         conclusions  \n",
       "0  ['To the authors’ knowledge, this is the first...  \n",
       "1  ['In this study, we have developed a unique co...  \n",
       "2  ['Food and nutrition literacy scale is a valid...  \n",
       "3  ['The aim of the NNS, integrating nutrition se...  \n",
       "4  ['Our work strongly supports the idea that FOP...  "
      ]
     },
     "execution_count": 6,
     "metadata": {},
     "output_type": "execute_result"
    }
   ],
   "source": [
    "# Inspect\n",
    "corpus.info()\n",
    "corpus.head()"
   ]
  },
  {
   "cell_type": "markdown",
   "metadata": {},
   "source": [
    "## Phrase Modeling "
   ]
  },
  {
   "cell_type": "markdown",
   "metadata": {
    "ExecuteTime": {
     "end_time": "2020-01-27T09:57:15.035149Z",
     "start_time": "2020-01-27T09:57:14.147513Z"
    }
   },
   "source": [
    "Using Spacy to tokenise and clean each sentence in every document by removing stop words, punctuation, unnecessary white space, numbers and lemmatising each word.  \n",
    "  \n",
    "Do this for every sentence in each document and combine all documents in the corpus."
   ]
  },
  {
   "cell_type": "code",
   "execution_count": 7,
   "metadata": {
    "ExecuteTime": {
     "end_time": "2020-01-31T15:28:20.861673Z",
     "start_time": "2020-01-31T15:28:20.319126Z"
    }
   },
   "outputs": [],
   "source": [
    "# Necessary imports for Phrase Modeling\n",
    "import spacy\n",
    "from gensim.models.phrases import Phrases, Phraser\n",
    "#from gensim.models.word2vec import LineSentence     - to be used when scaling"
   ]
  },
  {
   "cell_type": "code",
   "execution_count": 8,
   "metadata": {
    "ExecuteTime": {
     "end_time": "2020-01-31T15:28:21.801161Z",
     "start_time": "2020-01-31T15:28:20.862671Z"
    }
   },
   "outputs": [],
   "source": [
    "# Set Spacy\n",
    "nlp = spacy.load('en_core_web_sm')"
   ]
  },
  {
   "cell_type": "code",
   "execution_count": 9,
   "metadata": {
    "ExecuteTime": {
     "end_time": "2020-01-31T15:28:21.816120Z",
     "start_time": "2020-01-31T15:28:21.805149Z"
    },
    "code_folding": []
   },
   "outputs": [],
   "source": [
    "# Gather all articles' 'Conclusions' into docs\n",
    "docs_corp = corpus['conclusions']\n",
    "\n",
    "# Clean unneseccary escapes\n",
    "docs = []\n",
    "for doc in docs_corp:\n",
    "    text = doc.replace('\\'', '')\n",
    "    docs.append(text.replace('\\\\n' ,''))"
   ]
  },
  {
   "cell_type": "code",
   "execution_count": 10,
   "metadata": {
    "ExecuteTime": {
     "end_time": "2020-01-31T15:28:45.108806Z",
     "start_time": "2020-01-31T15:28:21.819113Z"
    }
   },
   "outputs": [
    {
     "name": "stdout",
     "output_type": "stream",
     "text": [
      "Number of documents (articles): 794\n",
      "Total number of sentences: 6448\n",
      "Total words: 98386\n"
     ]
    }
   ],
   "source": [
    "# Use Spacy - pipe to parse each document, break it into sentences, \n",
    "# clean it (lemmatise, punctuation and white space) and combine\n",
    "# all cleaned sentences into sents_clean, and \n",
    "# all cleaned sentences per document into docs_clean\n",
    "\n",
    "docs_clean = []\n",
    "sents_clean = []\n",
    "for parsed_doc in nlp.pipe(docs, n_threads=4):   \n",
    "    # For each document \n",
    "    sents_clean_per_doc = []\n",
    "    for sent in parsed_doc.sents:\n",
    "        sent_token          = [token.lemma_ for token in sent if not (token.is_stop or token.is_punct)]\n",
    "        sents_clean_per_doc += sent_token\n",
    "        # Adds to corpus of sentences\n",
    "        sents_clean.append(sent_token)\n",
    "    # Adds to corpus of ducuments\n",
    "    docs_clean.append(sents_clean_per_doc)\n",
    "        \n",
    "# Confirming output\n",
    "print('Number of documents (articles): {}'.format(len(docs_clean)))\n",
    "print('Total number of sentences: {}'.format(len(sents_clean)))\n",
    "print('Total words: {}'.format(sum([len(sent) for sent in sents_clean])))"
   ]
  },
  {
   "cell_type": "markdown",
   "metadata": {},
   "source": [
    "Create a function that generates a (n+1)-gram model and outputs the new sentences."
   ]
  },
  {
   "cell_type": "code",
   "execution_count": 11,
   "metadata": {
    "ExecuteTime": {
     "end_time": "2020-01-31T15:28:45.118779Z",
     "start_time": "2020-01-31T15:28:45.111801Z"
    }
   },
   "outputs": [],
   "source": [
    "def n_plus_one_gram(sents):\n",
    "    ''' Generate n+1_gram model and outputs new sentences \n",
    "    Returns n+1_gram model and n+1_gram sentences'''\n",
    "    # Create n+1 gram model with Gensim for all sentences\n",
    "    g = Phrases(sents)\n",
    "    g = Phraser(g)    \n",
    "    # Generate n+1 gram sentences\n",
    "    g_sents = [sent for sent in g[sents]]\n",
    "\n",
    "    # Confirming output\n",
    "    print('Total number of sentences: {}'.format(len(g_sents)))\n",
    "    print('Total words: {}'.format(sum([len(sent) for sent in g_sents])) + '\\n')\n",
    "    return g, g_sents"
   ]
  },
  {
   "cell_type": "markdown",
   "metadata": {},
   "source": [
    "Run Phrase modeling over all the sentences three times to get four-gram model."
   ]
  },
  {
   "cell_type": "code",
   "execution_count": 12,
   "metadata": {
    "ExecuteTime": {
     "end_time": "2020-01-31T15:28:49.021340Z",
     "start_time": "2020-01-31T15:28:45.120774Z"
    }
   },
   "outputs": [
    {
     "name": "stdout",
     "output_type": "stream",
     "text": [
      "Bigram\n",
      "Total number of sentences: 6448\n",
      "Total words: 93268\n",
      "\n",
      "Trigram\n",
      "Total number of sentences: 6448\n",
      "Total words: 92523\n",
      "\n",
      "Four-gram\n",
      "Total number of sentences: 6448\n",
      "Total words: 92407\n",
      "\n"
     ]
    }
   ],
   "source": [
    "# Bigram\n",
    "print('Bigram')\n",
    "bg, bg_sents = n_plus_one_gram(sents_clean)\n",
    "# Trigram\n",
    "print('Trigram')\n",
    "tg, tg_sents = n_plus_one_gram(bg_sents)\n",
    "# Four-gram\n",
    "print('Four-gram')\n",
    "qg, qg_sents = n_plus_one_gram(tg_sents)"
   ]
  },
  {
   "cell_type": "markdown",
   "metadata": {},
   "source": [
    "Now run the complete corpus of documents on the (n+1)-gram model."
   ]
  },
  {
   "cell_type": "code",
   "execution_count": 13,
   "metadata": {
    "ExecuteTime": {
     "end_time": "2020-01-31T15:28:49.029319Z",
     "start_time": "2020-01-31T15:28:49.023335Z"
    },
    "scrolled": true
   },
   "outputs": [],
   "source": [
    "# Fit bigrams model to the cleaned documents\n",
    "bg_docs = bg[docs_clean]\n",
    "# Fit trigrams model to converted bigrams\n",
    "tg_docs = tg[bg_docs]\n",
    "# Fit four-grams model to converted trigrams\n",
    "qg_docs = qg[tg_docs]"
   ]
  },
  {
   "cell_type": "code",
   "execution_count": 14,
   "metadata": {
    "ExecuteTime": {
     "end_time": "2020-01-31T15:28:49.695562Z",
     "start_time": "2020-01-31T15:28:49.031314Z"
    },
    "scrolled": true
   },
   "outputs": [
    {
     "name": "stdout",
     "output_type": "stream",
     "text": [
      "Total number of sentences: 794\n",
      "Total words: 92404\n"
     ]
    }
   ],
   "source": [
    "ph_docs = [doc for doc in qg_docs]\n",
    "print('Total number of sentences: {}'.format(len(ph_docs)))\n",
    "print('Total words: {}'.format(sum([len(sent) for sent in ph_docs])))"
   ]
  },
  {
   "cell_type": "code",
   "execution_count": 15,
   "metadata": {
    "ExecuteTime": {
     "end_time": "2020-01-31T15:28:49.722466Z",
     "start_time": "2020-01-31T15:28:49.697532Z"
    },
    "scrolled": true
   },
   "outputs": [
    {
     "name": "stdout",
     "output_type": "stream",
     "text": [
      "Total number of sentences: 794\n",
      "Total words: 91760\n"
     ]
    }
   ],
   "source": [
    "# Take out final stop words for each document\n",
    "corp = []\n",
    "for doc in ph_docs:\n",
    "    corp.append([word for word in doc if word not in nlp.Defaults.stop_words])\n",
    "\n",
    "# Confirm output\n",
    "print('Total number of sentences: {}'.format(len(corp)))\n",
    "print('Total words: {}'.format(sum([len(sent) for sent in corp])))"
   ]
  },
  {
   "cell_type": "code",
   "execution_count": 16,
   "metadata": {
    "ExecuteTime": {
     "end_time": "2020-01-31T15:28:49.772335Z",
     "start_time": "2020-01-31T15:28:49.724459Z"
    },
    "scrolled": true
   },
   "outputs": [
    {
     "name": "stdout",
     "output_type": "stream",
     "text": [
      "Total number of sentences: 6448\n",
      "Total words: 91762\n"
     ]
    }
   ],
   "source": [
    "# Take out final stop words for each sentence\n",
    "corp_sent = []\n",
    "for sent in qg_sents:\n",
    "    corp_sent.append([word for word in sent if word not in nlp.Defaults.stop_words])\n",
    "\n",
    "# Confirm output\n",
    "print('Total number of sentences: {}'.format(len(corp_sent)))\n",
    "print('Total words: {}'.format(sum([len(sent) for sent in corp_sent])))"
   ]
  },
  {
   "cell_type": "code",
   "execution_count": 17,
   "metadata": {
    "ExecuteTime": {
     "end_time": "2020-01-31T15:28:49.783328Z",
     "start_time": "2020-01-31T15:28:49.776320Z"
    },
    "scrolled": true
   },
   "outputs": [
    {
     "name": "stdout",
     "output_type": "stream",
     "text": [
      "First document in corpus after applying Phrase Modeling: \n",
      "\n",
      " author knowledge study model factor determine intention personalised_nutrition representative sample european consumer important strength study element model inform qualitative research similar population datum imply attitude adoption personalised_nutrition primarily drive perception benefit adoption personalised_nutrition achievable trust regulatory system particular relate datum protection extent individual commit improve perceive action influence health_status attitude personalised_nutrition imply promotion personalised_nutrition general public need emphasise personal benefit personalised_nutrition discussion risk focus end user concern particular relate datum protection service_delivery communication address perceive Efficacy provide information personalised_nutrition adopt consumer provide information potential health_benefit associate personalised_nutrition influence adoption individual low level Health Locus Control\n",
      "\n",
      "\n",
      "First sentence in corpus after applying Phrase Modeling: \n",
      "\n",
      " author knowledge study model factor determine intention personalised_nutrition representative sample european consumer\n"
     ]
    }
   ],
   "source": [
    "print('First document in corpus after applying Phrase Modeling: \\n\\n', u' '.join(corp[0]))\n",
    "print('\\n')\n",
    "print('First sentence in corpus after applying Phrase Modeling: \\n\\n', u' '.join(corp_sent[0]))"
   ]
  },
  {
   "cell_type": "markdown",
   "metadata": {},
   "source": [
    "## Topic Modeling with LDA"
   ]
  },
  {
   "cell_type": "markdown",
   "metadata": {},
   "source": [
    "### Topic Modeling"
   ]
  },
  {
   "cell_type": "code",
   "execution_count": 18,
   "metadata": {
    "ExecuteTime": {
     "end_time": "2020-01-31T15:28:49.792277Z",
     "start_time": "2020-01-31T15:28:49.785298Z"
    }
   },
   "outputs": [],
   "source": [
    "from gensim.corpora import Dictionary, MmCorpus\n",
    "from gensim.models.ldamulticore import LdaMulticore"
   ]
  },
  {
   "cell_type": "code",
   "execution_count": 19,
   "metadata": {
    "ExecuteTime": {
     "end_time": "2020-01-31T15:28:49.990773Z",
     "start_time": "2020-01-31T15:28:49.794272Z"
    }
   },
   "outputs": [],
   "source": [
    "# Create dictionary and tidy\n",
    "corp_dict = Dictionary(corp)\n",
    "corp_dict.filter_extremes(no_below=10, no_above=0.6)\n",
    "corp_dict.compactify()"
   ]
  },
  {
   "cell_type": "code",
   "execution_count": 20,
   "metadata": {
    "ExecuteTime": {
     "end_time": "2020-01-31T15:28:50.046609Z",
     "start_time": "2020-01-31T15:28:49.992740Z"
    }
   },
   "outputs": [],
   "source": [
    "# Create BOW. \n",
    "# Note: docs and sents are the same now for all practical purposes\n",
    "corp_bow = [corp_dict.doc2bow(doc) for doc in corp]"
   ]
  },
  {
   "cell_type": "code",
   "execution_count": 21,
   "metadata": {
    "ExecuteTime": {
     "end_time": "2020-01-31T15:28:52.526960Z",
     "start_time": "2020-01-31T15:28:50.048593Z"
    }
   },
   "outputs": [],
   "source": [
    "# LDA model\n",
    "lda = LdaMulticore(corp_bow, num_topics=5, id2word=corp_dict, workers=3)"
   ]
  },
  {
   "cell_type": "code",
   "execution_count": 22,
   "metadata": {
    "ExecuteTime": {
     "end_time": "2020-01-31T15:28:52.533942Z",
     "start_time": "2020-01-31T15:28:52.528956Z"
    }
   },
   "outputs": [],
   "source": [
    "# Function to show a topic\n",
    "def show_topic(lda, num=0, topn=10):\n",
    "    '''Display topic for given LDA Model, topic number and number of words.'''\n",
    "    for word, freq in lda.show_topic(num, topn=topn):\n",
    "        print(f'{word:20} {round(freq, 3):.3f}')"
   ]
  },
  {
   "cell_type": "code",
   "execution_count": 23,
   "metadata": {
    "ExecuteTime": {
     "end_time": "2020-01-31T15:28:52.556881Z",
     "start_time": "2020-01-31T15:28:52.535937Z"
    }
   },
   "outputs": [
    {
     "name": "stdout",
     "output_type": "stream",
     "text": [
      "study                0.013\n",
      "change               0.007\n",
      "child                0.007\n",
      "result               0.007\n",
      "effect               0.007\n",
      "increase             0.006\n",
      "high                 0.006\n",
      "nutritional          0.005\n",
      "health               0.005\n",
      "model                0.005\n",
      "low                  0.005\n",
      "intervention         0.005\n",
      "associate            0.005\n",
      "food                 0.004\n",
      "consumption          0.004\n",
      "different            0.004\n",
      "compare              0.004\n",
      "community            0.004\n",
      "growth               0.004\n",
      "specific             0.004\n"
     ]
    }
   ],
   "source": [
    "show_topic(lda, num=0, topn=20)"
   ]
  },
  {
   "cell_type": "markdown",
   "metadata": {},
   "source": [
    "### Visualisation with pyLDAvis"
   ]
  },
  {
   "cell_type": "code",
   "execution_count": 24,
   "metadata": {
    "ExecuteTime": {
     "end_time": "2020-01-31T15:28:53.033620Z",
     "start_time": "2020-01-31T15:28:52.562866Z"
    }
   },
   "outputs": [],
   "source": [
    "import pyLDAvis\n",
    "import pyLDAvis.gensim\n",
    "import warnings"
   ]
  },
  {
   "cell_type": "code",
   "execution_count": 25,
   "metadata": {
    "ExecuteTime": {
     "end_time": "2020-01-31T15:29:17.017444Z",
     "start_time": "2020-01-31T15:28:53.036599Z"
    }
   },
   "outputs": [
    {
     "name": "stderr",
     "output_type": "stream",
     "text": [
      "c:\\users\\jacqu\\miniconda3\\envs\\academic_consensus\\lib\\site-packages\\pyLDAvis\\_prepare.py:257: FutureWarning: Sorting because non-concatenation axis is not aligned. A future version\n",
      "of pandas will change to not sort by default.\n",
      "\n",
      "To accept the future behavior, pass 'sort=False'.\n",
      "\n",
      "To retain the current behavior and silence the warning, pass 'sort=True'.\n",
      "\n",
      "  return pd.concat([default_term_info] + list(topic_dfs))\n"
     ]
    }
   ],
   "source": [
    "LDAvis_prep = pyLDAvis.gensim.prepare(lda, corp_bow, corp_dict)"
   ]
  },
  {
   "cell_type": "code",
   "execution_count": 27,
   "metadata": {
    "ExecuteTime": {
     "end_time": "2020-01-31T15:29:50.590858Z",
     "start_time": "2020-01-31T15:29:50.587895Z"
    },
    "scrolled": false
   },
   "outputs": [],
   "source": [
    "#%%time\n",
    "#pyLDAvis.display(LDAvis_prep)"
   ]
  },
  {
   "cell_type": "markdown",
   "metadata": {},
   "source": [
    "## Word Vector Model"
   ]
  },
  {
   "cell_type": "markdown",
   "metadata": {},
   "source": [
    "### Vector Modeling  (word2vec)"
   ]
  },
  {
   "cell_type": "markdown",
   "metadata": {},
   "source": [
    "Using Gensim's Word2Vec."
   ]
  },
  {
   "cell_type": "code",
   "execution_count": 28,
   "metadata": {
    "ExecuteTime": {
     "end_time": "2020-01-31T15:29:55.919603Z",
     "start_time": "2020-01-31T15:29:55.915614Z"
    }
   },
   "outputs": [],
   "source": [
    "from gensim.models import Word2Vec"
   ]
  },
  {
   "cell_type": "code",
   "execution_count": 29,
   "metadata": {
    "ExecuteTime": {
     "end_time": "2020-01-31T15:30:08.001720Z",
     "start_time": "2020-01-31T15:29:58.018428Z"
    }
   },
   "outputs": [],
   "source": [
    "w2v = Word2Vec(corp_sent, size=100, window=5, min_count=20, sg=1, workers=3, iter=100)"
   ]
  },
  {
   "cell_type": "code",
   "execution_count": 30,
   "metadata": {
    "ExecuteTime": {
     "end_time": "2020-01-31T15:30:08.741741Z",
     "start_time": "2020-01-31T15:30:08.735759Z"
    }
   },
   "outputs": [
    {
     "name": "stdout",
     "output_type": "stream",
     "text": [
      "100 training epochs so far.\n"
     ]
    }
   ],
   "source": [
    "w2v.init_sims()\n",
    "print(f'{w2v.epochs} training epochs so far.')"
   ]
  },
  {
   "cell_type": "code",
   "execution_count": 31,
   "metadata": {
    "ExecuteTime": {
     "end_time": "2020-01-31T15:30:09.471787Z",
     "start_time": "2020-01-31T15:30:09.467799Z"
    }
   },
   "outputs": [
    {
     "name": "stdout",
     "output_type": "stream",
     "text": [
      "Words in Word2Vec dictionary: 910\n"
     ]
    }
   ],
   "source": [
    "print('Words in Word2Vec dictionary: {}'.format(len(w2v.wv.vocab)))"
   ]
  },
  {
   "cell_type": "markdown",
   "metadata": {},
   "source": [
    "First generate the 100-dimentional matrix from word2vec in the previous section."
   ]
  },
  {
   "cell_type": "code",
   "execution_count": 32,
   "metadata": {
    "ExecuteTime": {
     "end_time": "2020-01-31T15:30:10.218789Z",
     "start_time": "2020-01-31T15:30:10.185883Z"
    }
   },
   "outputs": [],
   "source": [
    "# Get word, index and word count\n",
    "vecs = [(word, info.index, info.count) for word, info in w2v.wv.vocab.items()]\n",
    "# Sort it according to word count (3rd column) - descending order\n",
    "vecs = sorted(vecs, key=lambda val: -val[2])\n",
    "# Get individual 'columns' values\n",
    "words, idx, count = zip(*vecs)\n",
    "# Now use the indices to get the vectors\n",
    "df_vecs = pd.DataFrame(w2v.wv.vectors_norm[idx,:], index=words)"
   ]
  },
  {
   "cell_type": "code",
   "execution_count": 33,
   "metadata": {
    "ExecuteTime": {
     "end_time": "2020-01-31T15:30:11.040590Z",
     "start_time": "2020-01-31T15:30:11.015657Z"
    },
    "scrolled": true
   },
   "outputs": [
    {
     "data": {
      "text/html": [
       "<div>\n",
       "<style scoped>\n",
       "    .dataframe tbody tr th:only-of-type {\n",
       "        vertical-align: middle;\n",
       "    }\n",
       "\n",
       "    .dataframe tbody tr th {\n",
       "        vertical-align: top;\n",
       "    }\n",
       "\n",
       "    .dataframe thead th {\n",
       "        text-align: right;\n",
       "    }\n",
       "</style>\n",
       "<table border=\"1\" class=\"dataframe\">\n",
       "  <thead>\n",
       "    <tr style=\"text-align: right;\">\n",
       "      <th></th>\n",
       "      <th>0</th>\n",
       "      <th>1</th>\n",
       "      <th>2</th>\n",
       "      <th>3</th>\n",
       "      <th>4</th>\n",
       "      <th>5</th>\n",
       "      <th>6</th>\n",
       "      <th>7</th>\n",
       "      <th>8</th>\n",
       "      <th>9</th>\n",
       "      <th>...</th>\n",
       "      <th>90</th>\n",
       "      <th>91</th>\n",
       "      <th>92</th>\n",
       "      <th>93</th>\n",
       "      <th>94</th>\n",
       "      <th>95</th>\n",
       "      <th>96</th>\n",
       "      <th>97</th>\n",
       "      <th>98</th>\n",
       "      <th>99</th>\n",
       "    </tr>\n",
       "  </thead>\n",
       "  <tbody>\n",
       "    <tr>\n",
       "      <th>study</th>\n",
       "      <td>0.163705</td>\n",
       "      <td>0.021156</td>\n",
       "      <td>0.101648</td>\n",
       "      <td>-0.136232</td>\n",
       "      <td>-0.009814</td>\n",
       "      <td>-0.158140</td>\n",
       "      <td>0.076082</td>\n",
       "      <td>-0.048634</td>\n",
       "      <td>-0.013547</td>\n",
       "      <td>-0.029488</td>\n",
       "      <td>...</td>\n",
       "      <td>-0.095729</td>\n",
       "      <td>0.016112</td>\n",
       "      <td>0.118536</td>\n",
       "      <td>-0.060578</td>\n",
       "      <td>0.049431</td>\n",
       "      <td>0.078662</td>\n",
       "      <td>-0.081215</td>\n",
       "      <td>0.026343</td>\n",
       "      <td>0.000994</td>\n",
       "      <td>-0.037305</td>\n",
       "    </tr>\n",
       "    <tr>\n",
       "      <th>food</th>\n",
       "      <td>0.068261</td>\n",
       "      <td>-0.098494</td>\n",
       "      <td>0.228036</td>\n",
       "      <td>-0.060514</td>\n",
       "      <td>0.052625</td>\n",
       "      <td>-0.056582</td>\n",
       "      <td>0.112749</td>\n",
       "      <td>-0.063511</td>\n",
       "      <td>-0.083908</td>\n",
       "      <td>-0.073810</td>\n",
       "      <td>...</td>\n",
       "      <td>-0.095357</td>\n",
       "      <td>0.133349</td>\n",
       "      <td>0.105197</td>\n",
       "      <td>0.080472</td>\n",
       "      <td>-0.084886</td>\n",
       "      <td>-0.069180</td>\n",
       "      <td>-0.182211</td>\n",
       "      <td>0.001532</td>\n",
       "      <td>0.085801</td>\n",
       "      <td>-0.003614</td>\n",
       "    </tr>\n",
       "    <tr>\n",
       "      <th>increase</th>\n",
       "      <td>0.124175</td>\n",
       "      <td>-0.076242</td>\n",
       "      <td>-0.067120</td>\n",
       "      <td>-0.200467</td>\n",
       "      <td>0.044417</td>\n",
       "      <td>0.025600</td>\n",
       "      <td>-0.009536</td>\n",
       "      <td>-0.203688</td>\n",
       "      <td>-0.106361</td>\n",
       "      <td>0.155430</td>\n",
       "      <td>...</td>\n",
       "      <td>-0.004481</td>\n",
       "      <td>0.116649</td>\n",
       "      <td>0.160058</td>\n",
       "      <td>-0.068762</td>\n",
       "      <td>-0.048025</td>\n",
       "      <td>-0.042022</td>\n",
       "      <td>0.042618</td>\n",
       "      <td>0.040412</td>\n",
       "      <td>0.041577</td>\n",
       "      <td>-0.090093</td>\n",
       "    </tr>\n",
       "    <tr>\n",
       "      <th>high</th>\n",
       "      <td>0.098998</td>\n",
       "      <td>-0.104873</td>\n",
       "      <td>-0.099589</td>\n",
       "      <td>-0.026485</td>\n",
       "      <td>-0.002834</td>\n",
       "      <td>-0.098980</td>\n",
       "      <td>0.099358</td>\n",
       "      <td>-0.083949</td>\n",
       "      <td>-0.181567</td>\n",
       "      <td>-0.052678</td>\n",
       "      <td>...</td>\n",
       "      <td>0.095712</td>\n",
       "      <td>0.077151</td>\n",
       "      <td>0.073151</td>\n",
       "      <td>-0.059743</td>\n",
       "      <td>-0.011824</td>\n",
       "      <td>0.002956</td>\n",
       "      <td>0.083770</td>\n",
       "      <td>-0.025857</td>\n",
       "      <td>0.154293</td>\n",
       "      <td>-0.060923</td>\n",
       "    </tr>\n",
       "    <tr>\n",
       "      <th>nutrition</th>\n",
       "      <td>0.113328</td>\n",
       "      <td>-0.036537</td>\n",
       "      <td>0.048710</td>\n",
       "      <td>-0.097475</td>\n",
       "      <td>0.066991</td>\n",
       "      <td>-0.119434</td>\n",
       "      <td>-0.004724</td>\n",
       "      <td>-0.123263</td>\n",
       "      <td>-0.034086</td>\n",
       "      <td>0.033742</td>\n",
       "      <td>...</td>\n",
       "      <td>-0.188973</td>\n",
       "      <td>-0.009063</td>\n",
       "      <td>0.196974</td>\n",
       "      <td>-0.066029</td>\n",
       "      <td>-0.040653</td>\n",
       "      <td>0.002761</td>\n",
       "      <td>0.025761</td>\n",
       "      <td>-0.068838</td>\n",
       "      <td>-0.082555</td>\n",
       "      <td>-0.112410</td>\n",
       "    </tr>\n",
       "  </tbody>\n",
       "</table>\n",
       "<p>5 rows × 100 columns</p>\n",
       "</div>"
      ],
      "text/plain": [
       "                 0         1         2         3         4         5         6         7         8   \\\n",
       "study      0.163705  0.021156  0.101648 -0.136232 -0.009814 -0.158140  0.076082 -0.048634 -0.013547   \n",
       "food       0.068261 -0.098494  0.228036 -0.060514  0.052625 -0.056582  0.112749 -0.063511 -0.083908   \n",
       "increase   0.124175 -0.076242 -0.067120 -0.200467  0.044417  0.025600 -0.009536 -0.203688 -0.106361   \n",
       "high       0.098998 -0.104873 -0.099589 -0.026485 -0.002834 -0.098980  0.099358 -0.083949 -0.181567   \n",
       "nutrition  0.113328 -0.036537  0.048710 -0.097475  0.066991 -0.119434 -0.004724 -0.123263 -0.034086   \n",
       "\n",
       "                 9   ...        90        91        92        93        94        95        96        97  \\\n",
       "study     -0.029488  ... -0.095729  0.016112  0.118536 -0.060578  0.049431  0.078662 -0.081215  0.026343   \n",
       "food      -0.073810  ... -0.095357  0.133349  0.105197  0.080472 -0.084886 -0.069180 -0.182211  0.001532   \n",
       "increase   0.155430  ... -0.004481  0.116649  0.160058 -0.068762 -0.048025 -0.042022  0.042618  0.040412   \n",
       "high      -0.052678  ...  0.095712  0.077151  0.073151 -0.059743 -0.011824  0.002956  0.083770 -0.025857   \n",
       "nutrition  0.033742  ... -0.188973 -0.009063  0.196974 -0.066029 -0.040653  0.002761  0.025761 -0.068838   \n",
       "\n",
       "                 98        99  \n",
       "study      0.000994 -0.037305  \n",
       "food       0.085801 -0.003614  \n",
       "increase   0.041577 -0.090093  \n",
       "high       0.154293 -0.060923  \n",
       "nutrition -0.082555 -0.112410  \n",
       "\n",
       "[5 rows x 100 columns]"
      ]
     },
     "execution_count": 33,
     "metadata": {},
     "output_type": "execute_result"
    }
   ],
   "source": [
    "df_vecs.head()"
   ]
  },
  {
   "cell_type": "markdown",
   "metadata": {},
   "source": [
    "Create functions to find similar and opposite words in the vocabulary."
   ]
  },
  {
   "cell_type": "code",
   "execution_count": 34,
   "metadata": {
    "ExecuteTime": {
     "end_time": "2020-01-31T15:30:11.822507Z",
     "start_time": "2020-01-31T15:30:11.818510Z"
    }
   },
   "outputs": [],
   "source": [
    "def similar_word(word, topn=10):\n",
    "    \"\"\"Find similar words in the corpus.\"\"\"\n",
    "    for word, simil in w2v.wv.most_similar(positive=[word], topn=topn):\n",
    "        print(f'{word:25} {round(simil, 4)}')"
   ]
  },
  {
   "cell_type": "code",
   "execution_count": 35,
   "metadata": {
    "ExecuteTime": {
     "end_time": "2020-01-31T15:30:12.600418Z",
     "start_time": "2020-01-31T15:30:12.594433Z"
    }
   },
   "outputs": [],
   "source": [
    "def opposite_word(word, topn=10):\n",
    "    \"\"\"Find opposite words in the corpus.\"\"\"\n",
    "    for word, oppos in w2v.wv.most_similar(negative=[word], topn=topn):\n",
    "        print(f'{word:25} {round(oppos, 4)}')"
   ]
  },
  {
   "cell_type": "code",
   "execution_count": 36,
   "metadata": {
    "ExecuteTime": {
     "end_time": "2020-01-31T15:30:13.389306Z",
     "start_time": "2020-01-31T15:30:13.384320Z"
    }
   },
   "outputs": [
    {
     "name": "stdout",
     "output_type": "stream",
     "text": [
      "stunting                  0.5089\n",
      "undernutrition            0.4678\n",
      "education                 0.4558\n",
      "mother                    0.4455\n",
      "malnutrition              0.4409\n",
      "adult                     0.4297\n",
      "socioeconomic             0.4244\n",
      "school                    0.4221\n",
      "old                       0.4213\n",
      "stunt                     0.4176\n"
     ]
    }
   ],
   "source": [
    "similar_word('child')"
   ]
  },
  {
   "cell_type": "code",
   "execution_count": 37,
   "metadata": {
    "ExecuteTime": {
     "end_time": "2020-01-31T15:30:14.262012Z",
     "start_time": "2020-01-31T15:30:14.253994Z"
    }
   },
   "outputs": [
    {
     "name": "stdout",
     "output_type": "stream",
     "text": [
      "fat                       0.4896\n",
      "fatty_acid                0.479\n",
      "sugar                     0.3943\n",
      "synthesis                 0.3873\n",
      "amino_acid                0.3853\n",
      "diet                      0.3824\n",
      "oral                      0.3686\n",
      "protein                   0.3681\n",
      "acid                      0.3651\n",
      "ad                        0.3438\n"
     ]
    }
   ],
   "source": [
    "similar_word('carbohydrate')"
   ]
  },
  {
   "cell_type": "code",
   "execution_count": 38,
   "metadata": {
    "ExecuteTime": {
     "end_time": "2020-01-31T15:30:16.475053Z",
     "start_time": "2020-01-31T15:30:16.469068Z"
    },
    "scrolled": true
   },
   "outputs": [
    {
     "name": "stdout",
     "output_type": "stream",
     "text": [
      "India                     0.1887\n",
      "establish                 0.1451\n",
      "aim                       0.1372\n",
      "way                       0.1271\n",
      "assess                    0.1239\n",
      "design                    0.1137\n",
      "market                    0.1131\n",
      "public                    0.1123\n",
      "exist                     0.1118\n",
      "scale                     0.1067\n"
     ]
    }
   ],
   "source": [
    "opposite_word('protein')"
   ]
  },
  {
   "cell_type": "markdown",
   "metadata": {},
   "source": [
    "Create a function using above methods to manipulate word vectors."
   ]
  },
  {
   "cell_type": "code",
   "execution_count": 39,
   "metadata": {
    "ExecuteTime": {
     "end_time": "2020-01-31T15:30:24.823444Z",
     "start_time": "2020-01-31T15:30:24.819482Z"
    }
   },
   "outputs": [],
   "source": [
    "def meaning(plus=[], minus=[], topn=2):\n",
    "    \"\"\"Using 'plus' to find positive/similar words and 'minus' to find\n",
    "       negative/opposite words in the word2vec vocabulary, \n",
    "       showing the top 'topn' results.\"\"\"\n",
    "    answers = w2v.wv.most_similar(positive=plus, negative=minus, topn=topn)\n",
    "    \n",
    "    for term, similarity in answers:\n",
    "        print(term)"
   ]
  },
  {
   "cell_type": "code",
   "execution_count": 40,
   "metadata": {
    "ExecuteTime": {
     "end_time": "2020-01-31T15:30:37.418414Z",
     "start_time": "2020-01-31T15:30:37.413427Z"
    }
   },
   "outputs": [
    {
     "name": "stdout",
     "output_type": "stream",
     "text": [
      "death\n",
      "crucial\n",
      "breastfeed\n",
      "optimal\n",
      "chronic\n"
     ]
    }
   ],
   "source": [
    "meaning(plus=['nutrition'], minus=['food'], topn=5)"
   ]
  },
  {
   "cell_type": "markdown",
   "metadata": {},
   "source": [
    "### Vector Visualisation (t-SNE)"
   ]
  },
  {
   "cell_type": "markdown",
   "metadata": {},
   "source": [
    "Prepare data."
   ]
  },
  {
   "cell_type": "code",
   "execution_count": 48,
   "metadata": {
    "ExecuteTime": {
     "end_time": "2020-01-31T15:37:19.290631Z",
     "start_time": "2020-01-31T15:37:19.285645Z"
    }
   },
   "outputs": [],
   "source": [
    "from sklearn.manifold import TSNE"
   ]
  },
  {
   "cell_type": "code",
   "execution_count": 49,
   "metadata": {
    "ExecuteTime": {
     "end_time": "2020-01-31T15:37:21.012026Z",
     "start_time": "2020-01-31T15:37:21.006043Z"
    }
   },
   "outputs": [
    {
     "data": {
      "text/plain": [
       "(910, 100)"
      ]
     },
     "execution_count": 49,
     "metadata": {},
     "output_type": "execute_result"
    }
   ],
   "source": [
    "df_vecs.shape\n",
    "#df_vecs.drop(nlp.Defaults.stop_words, errors='ignore').head(5000)    # Take out stopwords. no need I think"
   ]
  },
  {
   "cell_type": "code",
   "execution_count": 64,
   "metadata": {
    "ExecuteTime": {
     "end_time": "2020-01-31T15:44:05.640926Z",
     "start_time": "2020-01-31T15:44:01.250672Z"
    }
   },
   "outputs": [],
   "source": [
    "# Initialse TSNE and fir_transform\n",
    "tsne = TSNE()\n",
    "tsne_vecs = tsne.fit_transform(df_vecs.values)"
   ]
  },
  {
   "cell_type": "code",
   "execution_count": 65,
   "metadata": {
    "ExecuteTime": {
     "end_time": "2020-01-31T15:44:06.518579Z",
     "start_time": "2020-01-31T15:44:06.513594Z"
    }
   },
   "outputs": [],
   "source": [
    "# Transform to 2d coordinates for plotting\n",
    "tsne_vecs = pd.DataFrame(tsne_vecs, index=pd.Index(df_vecs.index), columns=['x', 'y'])\n",
    "# Add columns for words\n",
    "tsne_vecs['word'] = tsne_vecs.index"
   ]
  },
  {
   "cell_type": "markdown",
   "metadata": {},
   "source": [
    "Plot data."
   ]
  },
  {
   "cell_type": "code",
   "execution_count": 66,
   "metadata": {
    "ExecuteTime": {
     "end_time": "2020-01-31T15:44:07.374289Z",
     "start_time": "2020-01-31T15:44:07.363319Z"
    }
   },
   "outputs": [
    {
     "data": {
      "text/html": [
       "\n",
       "    <div class=\"bk-root\">\n",
       "        <a href=\"https://bokeh.org\" target=\"_blank\" class=\"bk-logo bk-logo-small bk-logo-notebook\"></a>\n",
       "        <span id=\"1106\">Loading BokehJS ...</span>\n",
       "    </div>"
      ]
     },
     "metadata": {},
     "output_type": "display_data"
    },
    {
     "data": {
      "application/javascript": [
       "\n",
       "(function(root) {\n",
       "  function now() {\n",
       "    return new Date();\n",
       "  }\n",
       "\n",
       "  var force = true;\n",
       "\n",
       "  if (typeof root._bokeh_onload_callbacks === \"undefined\" || force === true) {\n",
       "    root._bokeh_onload_callbacks = [];\n",
       "    root._bokeh_is_loading = undefined;\n",
       "  }\n",
       "\n",
       "  var JS_MIME_TYPE = 'application/javascript';\n",
       "  var HTML_MIME_TYPE = 'text/html';\n",
       "  var EXEC_MIME_TYPE = 'application/vnd.bokehjs_exec.v0+json';\n",
       "  var CLASS_NAME = 'output_bokeh rendered_html';\n",
       "\n",
       "  /**\n",
       "   * Render data to the DOM node\n",
       "   */\n",
       "  function render(props, node) {\n",
       "    var script = document.createElement(\"script\");\n",
       "    node.appendChild(script);\n",
       "  }\n",
       "\n",
       "  /**\n",
       "   * Handle when an output is cleared or removed\n",
       "   */\n",
       "  function handleClearOutput(event, handle) {\n",
       "    var cell = handle.cell;\n",
       "\n",
       "    var id = cell.output_area._bokeh_element_id;\n",
       "    var server_id = cell.output_area._bokeh_server_id;\n",
       "    // Clean up Bokeh references\n",
       "    if (id != null && id in Bokeh.index) {\n",
       "      Bokeh.index[id].model.document.clear();\n",
       "      delete Bokeh.index[id];\n",
       "    }\n",
       "\n",
       "    if (server_id !== undefined) {\n",
       "      // Clean up Bokeh references\n",
       "      var cmd = \"from bokeh.io.state import curstate; print(curstate().uuid_to_server['\" + server_id + \"'].get_sessions()[0].document.roots[0]._id)\";\n",
       "      cell.notebook.kernel.execute(cmd, {\n",
       "        iopub: {\n",
       "          output: function(msg) {\n",
       "            var id = msg.content.text.trim();\n",
       "            if (id in Bokeh.index) {\n",
       "              Bokeh.index[id].model.document.clear();\n",
       "              delete Bokeh.index[id];\n",
       "            }\n",
       "          }\n",
       "        }\n",
       "      });\n",
       "      // Destroy server and session\n",
       "      var cmd = \"import bokeh.io.notebook as ion; ion.destroy_server('\" + server_id + \"')\";\n",
       "      cell.notebook.kernel.execute(cmd);\n",
       "    }\n",
       "  }\n",
       "\n",
       "  /**\n",
       "   * Handle when a new output is added\n",
       "   */\n",
       "  function handleAddOutput(event, handle) {\n",
       "    var output_area = handle.output_area;\n",
       "    var output = handle.output;\n",
       "\n",
       "    // limit handleAddOutput to display_data with EXEC_MIME_TYPE content only\n",
       "    if ((output.output_type != \"display_data\") || (!output.data.hasOwnProperty(EXEC_MIME_TYPE))) {\n",
       "      return\n",
       "    }\n",
       "\n",
       "    var toinsert = output_area.element.find(\".\" + CLASS_NAME.split(' ')[0]);\n",
       "\n",
       "    if (output.metadata[EXEC_MIME_TYPE][\"id\"] !== undefined) {\n",
       "      toinsert[toinsert.length - 1].firstChild.textContent = output.data[JS_MIME_TYPE];\n",
       "      // store reference to embed id on output_area\n",
       "      output_area._bokeh_element_id = output.metadata[EXEC_MIME_TYPE][\"id\"];\n",
       "    }\n",
       "    if (output.metadata[EXEC_MIME_TYPE][\"server_id\"] !== undefined) {\n",
       "      var bk_div = document.createElement(\"div\");\n",
       "      bk_div.innerHTML = output.data[HTML_MIME_TYPE];\n",
       "      var script_attrs = bk_div.children[0].attributes;\n",
       "      for (var i = 0; i < script_attrs.length; i++) {\n",
       "        toinsert[toinsert.length - 1].firstChild.setAttribute(script_attrs[i].name, script_attrs[i].value);\n",
       "      }\n",
       "      // store reference to server id on output_area\n",
       "      output_area._bokeh_server_id = output.metadata[EXEC_MIME_TYPE][\"server_id\"];\n",
       "    }\n",
       "  }\n",
       "\n",
       "  function register_renderer(events, OutputArea) {\n",
       "\n",
       "    function append_mime(data, metadata, element) {\n",
       "      // create a DOM node to render to\n",
       "      var toinsert = this.create_output_subarea(\n",
       "        metadata,\n",
       "        CLASS_NAME,\n",
       "        EXEC_MIME_TYPE\n",
       "      );\n",
       "      this.keyboard_manager.register_events(toinsert);\n",
       "      // Render to node\n",
       "      var props = {data: data, metadata: metadata[EXEC_MIME_TYPE]};\n",
       "      render(props, toinsert[toinsert.length - 1]);\n",
       "      element.append(toinsert);\n",
       "      return toinsert\n",
       "    }\n",
       "\n",
       "    /* Handle when an output is cleared or removed */\n",
       "    events.on('clear_output.CodeCell', handleClearOutput);\n",
       "    events.on('delete.Cell', handleClearOutput);\n",
       "\n",
       "    /* Handle when a new output is added */\n",
       "    events.on('output_added.OutputArea', handleAddOutput);\n",
       "\n",
       "    /**\n",
       "     * Register the mime type and append_mime function with output_area\n",
       "     */\n",
       "    OutputArea.prototype.register_mime_type(EXEC_MIME_TYPE, append_mime, {\n",
       "      /* Is output safe? */\n",
       "      safe: true,\n",
       "      /* Index of renderer in `output_area.display_order` */\n",
       "      index: 0\n",
       "    });\n",
       "  }\n",
       "\n",
       "  // register the mime type if in Jupyter Notebook environment and previously unregistered\n",
       "  if (root.Jupyter !== undefined) {\n",
       "    var events = require('base/js/events');\n",
       "    var OutputArea = require('notebook/js/outputarea').OutputArea;\n",
       "\n",
       "    if (OutputArea.prototype.mime_types().indexOf(EXEC_MIME_TYPE) == -1) {\n",
       "      register_renderer(events, OutputArea);\n",
       "    }\n",
       "  }\n",
       "\n",
       "  \n",
       "  if (typeof (root._bokeh_timeout) === \"undefined\" || force === true) {\n",
       "    root._bokeh_timeout = Date.now() + 5000;\n",
       "    root._bokeh_failed_load = false;\n",
       "  }\n",
       "\n",
       "  var NB_LOAD_WARNING = {'data': {'text/html':\n",
       "     \"<div style='background-color: #fdd'>\\n\"+\n",
       "     \"<p>\\n\"+\n",
       "     \"BokehJS does not appear to have successfully loaded. If loading BokehJS from CDN, this \\n\"+\n",
       "     \"may be due to a slow or bad network connection. Possible fixes:\\n\"+\n",
       "     \"</p>\\n\"+\n",
       "     \"<ul>\\n\"+\n",
       "     \"<li>re-rerun `output_notebook()` to attempt to load from CDN again, or</li>\\n\"+\n",
       "     \"<li>use INLINE resources instead, as so:</li>\\n\"+\n",
       "     \"</ul>\\n\"+\n",
       "     \"<code>\\n\"+\n",
       "     \"from bokeh.resources import INLINE\\n\"+\n",
       "     \"output_notebook(resources=INLINE)\\n\"+\n",
       "     \"</code>\\n\"+\n",
       "     \"</div>\"}};\n",
       "\n",
       "  function display_loaded() {\n",
       "    var el = document.getElementById(\"1106\");\n",
       "    if (el != null) {\n",
       "      el.textContent = \"BokehJS is loading...\";\n",
       "    }\n",
       "    if (root.Bokeh !== undefined) {\n",
       "      if (el != null) {\n",
       "        el.textContent = \"BokehJS \" + root.Bokeh.version + \" successfully loaded.\";\n",
       "      }\n",
       "    } else if (Date.now() < root._bokeh_timeout) {\n",
       "      setTimeout(display_loaded, 100)\n",
       "    }\n",
       "  }\n",
       "\n",
       "\n",
       "  function run_callbacks() {\n",
       "    try {\n",
       "      root._bokeh_onload_callbacks.forEach(function(callback) {\n",
       "        if (callback != null)\n",
       "          callback();\n",
       "      });\n",
       "    } finally {\n",
       "      delete root._bokeh_onload_callbacks\n",
       "    }\n",
       "    console.debug(\"Bokeh: all callbacks have finished\");\n",
       "  }\n",
       "\n",
       "  function load_libs(css_urls, js_urls, callback) {\n",
       "    if (css_urls == null) css_urls = [];\n",
       "    if (js_urls == null) js_urls = [];\n",
       "\n",
       "    root._bokeh_onload_callbacks.push(callback);\n",
       "    if (root._bokeh_is_loading > 0) {\n",
       "      console.debug(\"Bokeh: BokehJS is being loaded, scheduling callback at\", now());\n",
       "      return null;\n",
       "    }\n",
       "    if (js_urls == null || js_urls.length === 0) {\n",
       "      run_callbacks();\n",
       "      return null;\n",
       "    }\n",
       "    console.debug(\"Bokeh: BokehJS not loaded, scheduling load and callback at\", now());\n",
       "    root._bokeh_is_loading = css_urls.length + js_urls.length;\n",
       "\n",
       "    function on_load() {\n",
       "      root._bokeh_is_loading--;\n",
       "      if (root._bokeh_is_loading === 0) {\n",
       "        console.debug(\"Bokeh: all BokehJS libraries/stylesheets loaded\");\n",
       "        run_callbacks()\n",
       "      }\n",
       "    }\n",
       "\n",
       "    function on_error() {\n",
       "      console.error(\"failed to load \" + url);\n",
       "    }\n",
       "\n",
       "    for (var i = 0; i < css_urls.length; i++) {\n",
       "      var url = css_urls[i];\n",
       "      const element = document.createElement(\"link\");\n",
       "      element.onload = on_load;\n",
       "      element.onerror = on_error;\n",
       "      element.rel = \"stylesheet\";\n",
       "      element.type = \"text/css\";\n",
       "      element.href = url;\n",
       "      console.debug(\"Bokeh: injecting link tag for BokehJS stylesheet: \", url);\n",
       "      document.body.appendChild(element);\n",
       "    }\n",
       "\n",
       "    for (var i = 0; i < js_urls.length; i++) {\n",
       "      var url = js_urls[i];\n",
       "      var element = document.createElement('script');\n",
       "      element.onload = on_load;\n",
       "      element.onerror = on_error;\n",
       "      element.async = false;\n",
       "      element.src = url;\n",
       "      console.debug(\"Bokeh: injecting script tag for BokehJS library: \", url);\n",
       "      document.head.appendChild(element);\n",
       "    }\n",
       "  };var element = document.getElementById(\"1106\");\n",
       "  if (element == null) {\n",
       "    console.error(\"Bokeh: ERROR: autoload.js configured with elementid '1106' but no matching script tag was found. \")\n",
       "    return false;\n",
       "  }\n",
       "\n",
       "  function inject_raw_css(css) {\n",
       "    const element = document.createElement(\"style\");\n",
       "    element.appendChild(document.createTextNode(css));\n",
       "    document.body.appendChild(element);\n",
       "  }\n",
       "\n",
       "  \n",
       "  var js_urls = [\"https://cdn.pydata.org/bokeh/release/bokeh-1.4.0.min.js\", \"https://cdn.pydata.org/bokeh/release/bokeh-widgets-1.4.0.min.js\", \"https://cdn.pydata.org/bokeh/release/bokeh-tables-1.4.0.min.js\", \"https://cdn.pydata.org/bokeh/release/bokeh-gl-1.4.0.min.js\"];\n",
       "  var css_urls = [];\n",
       "  \n",
       "\n",
       "  var inline_js = [\n",
       "    function(Bokeh) {\n",
       "      Bokeh.set_log_level(\"info\");\n",
       "    },\n",
       "    function(Bokeh) {\n",
       "    \n",
       "    \n",
       "    }\n",
       "  ];\n",
       "\n",
       "  function run_inline_js() {\n",
       "    \n",
       "    if (root.Bokeh !== undefined || force === true) {\n",
       "      \n",
       "    for (var i = 0; i < inline_js.length; i++) {\n",
       "      inline_js[i].call(root, root.Bokeh);\n",
       "    }\n",
       "    if (force === true) {\n",
       "        display_loaded();\n",
       "      }} else if (Date.now() < root._bokeh_timeout) {\n",
       "      setTimeout(run_inline_js, 100);\n",
       "    } else if (!root._bokeh_failed_load) {\n",
       "      console.log(\"Bokeh: BokehJS failed to load within specified timeout.\");\n",
       "      root._bokeh_failed_load = true;\n",
       "    } else if (force !== true) {\n",
       "      var cell = $(document.getElementById(\"1106\")).parents('.cell').data().cell;\n",
       "      cell.output_area.append_execute_result(NB_LOAD_WARNING)\n",
       "    }\n",
       "\n",
       "  }\n",
       "\n",
       "  if (root._bokeh_is_loading === 0) {\n",
       "    console.debug(\"Bokeh: BokehJS loaded, going straight to plotting\");\n",
       "    run_inline_js();\n",
       "  } else {\n",
       "    load_libs(css_urls, js_urls, function() {\n",
       "      console.debug(\"Bokeh: BokehJS plotting callback run at\", now());\n",
       "      run_inline_js();\n",
       "    });\n",
       "  }\n",
       "}(window));"
      ],
      "application/vnd.bokehjs_load.v0+json": "\n(function(root) {\n  function now() {\n    return new Date();\n  }\n\n  var force = true;\n\n  if (typeof root._bokeh_onload_callbacks === \"undefined\" || force === true) {\n    root._bokeh_onload_callbacks = [];\n    root._bokeh_is_loading = undefined;\n  }\n\n  \n\n  \n  if (typeof (root._bokeh_timeout) === \"undefined\" || force === true) {\n    root._bokeh_timeout = Date.now() + 5000;\n    root._bokeh_failed_load = false;\n  }\n\n  var NB_LOAD_WARNING = {'data': {'text/html':\n     \"<div style='background-color: #fdd'>\\n\"+\n     \"<p>\\n\"+\n     \"BokehJS does not appear to have successfully loaded. If loading BokehJS from CDN, this \\n\"+\n     \"may be due to a slow or bad network connection. Possible fixes:\\n\"+\n     \"</p>\\n\"+\n     \"<ul>\\n\"+\n     \"<li>re-rerun `output_notebook()` to attempt to load from CDN again, or</li>\\n\"+\n     \"<li>use INLINE resources instead, as so:</li>\\n\"+\n     \"</ul>\\n\"+\n     \"<code>\\n\"+\n     \"from bokeh.resources import INLINE\\n\"+\n     \"output_notebook(resources=INLINE)\\n\"+\n     \"</code>\\n\"+\n     \"</div>\"}};\n\n  function display_loaded() {\n    var el = document.getElementById(\"1106\");\n    if (el != null) {\n      el.textContent = \"BokehJS is loading...\";\n    }\n    if (root.Bokeh !== undefined) {\n      if (el != null) {\n        el.textContent = \"BokehJS \" + root.Bokeh.version + \" successfully loaded.\";\n      }\n    } else if (Date.now() < root._bokeh_timeout) {\n      setTimeout(display_loaded, 100)\n    }\n  }\n\n\n  function run_callbacks() {\n    try {\n      root._bokeh_onload_callbacks.forEach(function(callback) {\n        if (callback != null)\n          callback();\n      });\n    } finally {\n      delete root._bokeh_onload_callbacks\n    }\n    console.debug(\"Bokeh: all callbacks have finished\");\n  }\n\n  function load_libs(css_urls, js_urls, callback) {\n    if (css_urls == null) css_urls = [];\n    if (js_urls == null) js_urls = [];\n\n    root._bokeh_onload_callbacks.push(callback);\n    if (root._bokeh_is_loading > 0) {\n      console.debug(\"Bokeh: BokehJS is being loaded, scheduling callback at\", now());\n      return null;\n    }\n    if (js_urls == null || js_urls.length === 0) {\n      run_callbacks();\n      return null;\n    }\n    console.debug(\"Bokeh: BokehJS not loaded, scheduling load and callback at\", now());\n    root._bokeh_is_loading = css_urls.length + js_urls.length;\n\n    function on_load() {\n      root._bokeh_is_loading--;\n      if (root._bokeh_is_loading === 0) {\n        console.debug(\"Bokeh: all BokehJS libraries/stylesheets loaded\");\n        run_callbacks()\n      }\n    }\n\n    function on_error() {\n      console.error(\"failed to load \" + url);\n    }\n\n    for (var i = 0; i < css_urls.length; i++) {\n      var url = css_urls[i];\n      const element = document.createElement(\"link\");\n      element.onload = on_load;\n      element.onerror = on_error;\n      element.rel = \"stylesheet\";\n      element.type = \"text/css\";\n      element.href = url;\n      console.debug(\"Bokeh: injecting link tag for BokehJS stylesheet: \", url);\n      document.body.appendChild(element);\n    }\n\n    for (var i = 0; i < js_urls.length; i++) {\n      var url = js_urls[i];\n      var element = document.createElement('script');\n      element.onload = on_load;\n      element.onerror = on_error;\n      element.async = false;\n      element.src = url;\n      console.debug(\"Bokeh: injecting script tag for BokehJS library: \", url);\n      document.head.appendChild(element);\n    }\n  };var element = document.getElementById(\"1106\");\n  if (element == null) {\n    console.error(\"Bokeh: ERROR: autoload.js configured with elementid '1106' but no matching script tag was found. \")\n    return false;\n  }\n\n  function inject_raw_css(css) {\n    const element = document.createElement(\"style\");\n    element.appendChild(document.createTextNode(css));\n    document.body.appendChild(element);\n  }\n\n  \n  var js_urls = [\"https://cdn.pydata.org/bokeh/release/bokeh-1.4.0.min.js\", \"https://cdn.pydata.org/bokeh/release/bokeh-widgets-1.4.0.min.js\", \"https://cdn.pydata.org/bokeh/release/bokeh-tables-1.4.0.min.js\", \"https://cdn.pydata.org/bokeh/release/bokeh-gl-1.4.0.min.js\"];\n  var css_urls = [];\n  \n\n  var inline_js = [\n    function(Bokeh) {\n      Bokeh.set_log_level(\"info\");\n    },\n    function(Bokeh) {\n    \n    \n    }\n  ];\n\n  function run_inline_js() {\n    \n    if (root.Bokeh !== undefined || force === true) {\n      \n    for (var i = 0; i < inline_js.length; i++) {\n      inline_js[i].call(root, root.Bokeh);\n    }\n    if (force === true) {\n        display_loaded();\n      }} else if (Date.now() < root._bokeh_timeout) {\n      setTimeout(run_inline_js, 100);\n    } else if (!root._bokeh_failed_load) {\n      console.log(\"Bokeh: BokehJS failed to load within specified timeout.\");\n      root._bokeh_failed_load = true;\n    } else if (force !== true) {\n      var cell = $(document.getElementById(\"1106\")).parents('.cell').data().cell;\n      cell.output_area.append_execute_result(NB_LOAD_WARNING)\n    }\n\n  }\n\n  if (root._bokeh_is_loading === 0) {\n    console.debug(\"Bokeh: BokehJS loaded, going straight to plotting\");\n    run_inline_js();\n  } else {\n    load_libs(css_urls, js_urls, function() {\n      console.debug(\"Bokeh: BokehJS plotting callback run at\", now());\n      run_inline_js();\n    });\n  }\n}(window));"
     },
     "metadata": {},
     "output_type": "display_data"
    }
   ],
   "source": [
    "from bokeh.plotting import figure, show, output_notebook\n",
    "from bokeh.models import HoverTool, ColumnDataSource, value\n",
    "\n",
    "output_notebook()"
   ]
  },
  {
   "cell_type": "code",
   "execution_count": 71,
   "metadata": {
    "ExecuteTime": {
     "end_time": "2020-01-31T15:49:54.060587Z",
     "start_time": "2020-01-31T15:49:53.996730Z"
    }
   },
   "outputs": [
    {
     "data": {
      "text/html": [
       "\n",
       "\n",
       "\n",
       "\n",
       "\n",
       "\n",
       "  <div class=\"bk-root\" id=\"8216fd15-7313-43af-a3e8-ba4aec556726\" data-root-id=\"1614\"></div>\n"
      ]
     },
     "metadata": {},
     "output_type": "display_data"
    },
    {
     "data": {
      "application/javascript": [
       "(function(root) {\n",
       "  function embed_document(root) {\n",
       "    \n",
       "  var docs_json = {\"eda8aa27-4399-4716-a9a2-c6be9c7f4b5d\":{\"roots\":{\"references\":[{\"attributes\":{\"below\":[{\"id\":\"1625\",\"type\":\"LinearAxis\"}],\"center\":[{\"id\":\"1629\",\"type\":\"Grid\"},{\"id\":\"1634\",\"type\":\"Grid\"}],\"left\":[{\"id\":\"1630\",\"type\":\"LinearAxis\"}],\"outline_line_color\":{\"value\":null},\"plot_height\":500,\"plot_width\":500,\"renderers\":[{\"id\":\"1652\",\"type\":\"GlyphRenderer\"}],\"title\":{\"id\":\"1615\",\"type\":\"Title\"},\"toolbar\":{\"id\":\"1640\",\"type\":\"Toolbar\"},\"x_range\":{\"id\":\"1617\",\"type\":\"DataRange1d\"},\"x_scale\":{\"id\":\"1621\",\"type\":\"LinearScale\"},\"y_range\":{\"id\":\"1619\",\"type\":\"DataRange1d\"},\"y_scale\":{\"id\":\"1623\",\"type\":\"LinearScale\"}},\"id\":\"1614\",\"subtype\":\"Figure\",\"type\":\"Plot\"},{\"attributes\":{\"overlay\":{\"id\":\"1706\",\"type\":\"BoxAnnotation\"}},\"id\":\"1637\",\"type\":\"BoxZoomTool\"},{\"attributes\":{\"callback\":null,\"overlay\":{\"id\":\"1707\",\"type\":\"BoxAnnotation\"}},\"id\":\"1638\",\"type\":\"BoxSelectTool\"},{\"attributes\":{},\"id\":\"1704\",\"type\":\"Selection\"},{\"attributes\":{},\"id\":\"1639\",\"type\":\"ResetTool\"},{\"attributes\":{\"formatter\":{\"id\":\"1702\",\"type\":\"BasicTickFormatter\"},\"ticker\":{\"id\":\"1626\",\"type\":\"BasicTicker\"},\"visible\":false},\"id\":\"1625\",\"type\":\"LinearAxis\"},{\"attributes\":{\"active_drag\":\"auto\",\"active_inspect\":\"auto\",\"active_multi\":null,\"active_scroll\":{\"id\":\"1636\",\"type\":\"WheelZoomTool\"},\"active_tap\":\"auto\",\"tools\":[{\"id\":\"1635\",\"type\":\"PanTool\"},{\"id\":\"1636\",\"type\":\"WheelZoomTool\"},{\"id\":\"1637\",\"type\":\"BoxZoomTool\"},{\"id\":\"1638\",\"type\":\"BoxSelectTool\"},{\"id\":\"1639\",\"type\":\"ResetTool\"},{\"id\":\"1646\",\"type\":\"HoverTool\"}]},\"id\":\"1640\",\"type\":\"Toolbar\"},{\"attributes\":{\"fill_alpha\":{\"value\":0.1},\"fill_color\":{\"value\":\"#1f77b4\"},\"line_alpha\":{\"value\":0.1},\"line_color\":{\"value\":\"#1f77b4\"},\"size\":{\"units\":\"screen\",\"value\":15},\"x\":{\"field\":\"x\"},\"y\":{\"field\":\"y\"}},\"id\":\"1650\",\"type\":\"Circle\"},{\"attributes\":{},\"id\":\"1631\",\"type\":\"BasicTicker\"},{\"attributes\":{\"fill_color\":{\"value\":\"#1f77b4\"},\"size\":{\"units\":\"screen\",\"value\":15},\"x\":{\"field\":\"x\"},\"y\":{\"field\":\"y\"}},\"id\":\"1651\",\"type\":\"Circle\"},{\"attributes\":{},\"id\":\"1621\",\"type\":\"LinearScale\"},{\"attributes\":{\"data_source\":{\"id\":\"1613\",\"type\":\"ColumnDataSource\"},\"glyph\":{\"id\":\"1649\",\"type\":\"Circle\"},\"hover_glyph\":{\"id\":\"1651\",\"type\":\"Circle\"},\"muted_glyph\":null,\"nonselection_glyph\":{\"id\":\"1650\",\"type\":\"Circle\"},\"selection_glyph\":null,\"view\":{\"id\":\"1653\",\"type\":\"CDSView\"}},\"id\":\"1652\",\"type\":\"GlyphRenderer\"},{\"attributes\":{},\"id\":\"1636\",\"type\":\"WheelZoomTool\"},{\"attributes\":{\"callback\":null,\"data\":{\"index\":[\"study\",\"food\",\"increase\",\"high\",\"nutrition\",\"nutritional\",\"result\",\"effect\",\"level\",\"child\",\"diet\",\"improve\",\"low\",\"change\",\"need\",\"health\",\"different\",\"population\",\"model\",\"important\",\"datum\",\"intervention\",\"time\",\"include\",\"find\",\"provide\",\"factor\",\"patient\",\"finding\",\"reduce\",\"analysis\",\"nutrient\",\"development\",\"potential\",\"plant\",\"use\",\"associate\",\"protein\",\"base\",\"relate\",\"research\",\"suggest\",\"growth\",\"identify\",\"program\",\"individual\",\"specific\",\"treatment\",\"impact\",\"community\",\"group\",\"disease\",\"control\",\"consumption\",\"support\",\"condition\",\"woman\",\"gene\",\"target\",\"consider\",\"require\",\"concentration\",\"difference\",\"measure\",\"report\",\"cell\",\"system\",\"role\",\"affect\",\"early\",\"dietary\",\"decrease\",\"content\",\"develop\",\"specie\",\"approach\",\"response\",\"age\",\"indicate\",\"obesity\",\"present\",\"likely\",\"production\",\"human\",\"evidence\",\"information\",\"compare\",\"area\",\"strategy\",\"large\",\"policy\",\"feed\",\"influence\",\"method\",\"work\",\"process\",\"maternal\",\"outcome\",\"activity\",\"quality\",\"poor\",\"country\",\"pregnancy\",\"soil\",\"risk\",\"lead\",\"significant\",\"metabolic\",\"great\",\"contribute\",\"mechanism\",\"addition\",\"expression\",\"knowledge\",\"similar\",\"future\",\"mother\",\"product\",\"overall\",\"help\",\"period\",\"practice\",\"observe\",\"adult\",\"environment\",\"focus\",\"especially\",\"assess\",\"infant\",\"number\",\"cause\",\"non\",\"significantly\",\"malnutrition\",\"fat\",\"determine\",\"investigate\",\"possible\",\"function\",\"order\",\"design\",\"nutritional_status\",\"new\",\"source\",\"value\",\"rate\",\"pathway\",\"address\",\"region\",\"supplementation\",\"animal\",\"association\",\"benefit\",\"pattern\",\"resource\",\"parameter\",\"energy\",\"water\",\"stress\",\"demonstrate\",\"present_study\",\"1\",\"promote\",\"produce\",\"conclusion\",\"household\",\"sample\",\"good\",\"improvement\",\"status\",\"intake\",\"follow\",\"care\",\"crop\",\"access\",\"remain\",\"understand\",\"particularly\",\"fish\",\"exist\",\"weight\",\"like\",\"metabolism\",\"reduction\",\"infection\",\"public_health\",\"effort\",\"year\",\"relationship\",\"small\",\"state\",\"effective\",\"strong\",\"consumer\",\"scale\",\"management\",\"component\",\"current\",\"composition\",\"range\",\"female\",\"estimate\",\"profile\",\"temperature\",\"appear\",\"lack\",\"link\",\"behavior\",\"reveal\",\"way\",\"rice\",\"local\",\"involve\",\"additional\",\"long_term\",\"tissue\",\"variation\",\"characteristic\",\"necessary\",\"appropriate\",\"type\",\"test\",\"major\",\"cost\",\"host\",\"seed\",\"multiple\",\"available\",\"enhance\",\"stage\",\"feeding\",\"particular\",\"achieve\",\"day\",\"risk_factor\",\"regulation\",\"prevalence\",\"key\",\"know\",\"metabolite\",\"furthermore\",\"indicator\",\"investigation\",\"regulate\",\"brain\",\"evaluate\",\"education\",\"HIV\",\"problem\",\"ensure\",\"muscle\",\"variable\",\"environmental\",\"performance\",\"2\",\"future_study\",\"functional\",\"importance\",\"grow\",\"case\",\"site\",\"allow\",\"understanding\",\"fatty_acid\",\"life\",\"application\",\"service\",\"score\",\"induce\",\"highly\",\"limit\",\"assessment\",\"interaction\",\"clinical\",\"short\",\"occur\",\"prevent\",\"setting\",\"amino_acid\",\"describe\",\"propose\",\"positive\",\"context\",\"novel\",\"lipid\",\"index\",\"trend\",\"recommend\",\"e.g.\",\"training\",\"healthy\",\"relative\",\"challenge\",\"consequence\",\"size\",\"marker\",\"social\",\"genetic\",\"optimal\",\"exposure\",\"set\",\"issue\",\"mortality\",\"contain\",\"represent\",\"leave\",\"people\",\"stunting\",\"deficiency\",\"supplement\",\"old\",\"fruit\",\"essential\",\"yield\",\"ability\",\"finally\",\"total\",\"potentially\",\"complex\",\"BMI\",\"tool\",\"global\",\"comprehensive\",\"micronutrient\",\"gut\",\"survival\",\"action\",\"structure\",\"consume\",\"obtain\",\"adequate\",\"form\",\"long\",\"implement\",\"useful\",\"school\",\"standard\",\"availability\",\"despite\",\"body\",\"establish\",\"natural\",\"birth\",\"presence\",\"alter\",\"critical\",\"determinant\",\"combination\",\"family\",\"supply\",\"cow\",\"molecular\",\"predict\",\"opportunity\",\"attention\",\"term\",\"confirm\",\"male\",\"limitation\",\"activation\",\"field\",\"point\",\"waste\",\"experiment\",\"blood\",\"physiological\",\"signal\",\"vitamin\",\"evaluation\",\"survey\",\"live\",\"apply\",\"release\",\"forest\",\"observation\",\"milk\",\"accord\",\"physical_activity\",\"common\",\"limited\",\"explain\",\"able\",\"p\",\"example\",\"loss\",\"consistent\",\"glucose\",\"flour\",\"aim\",\"step\",\"decline\",\"recommendation\",\"urban\",\"3\",\"and/or\",\"horse\",\"general\",\"question\",\"combine\",\"contribution\",\"implementation\",\"explore\",\"recent\",\"direct\",\"capacity\",\"ecosystem\",\"reflect\",\"dynamic\",\"perform\",\"cohort\",\"study_show\",\"national\",\"previously\",\"detect\",\"culture\",\"acid\",\"experimental\",\"select\",\"liver\",\"add\",\"distribution\",\"food_insecurity\",\"basis\",\"main\",\"diversity\",\"habitat\",\"anemia\",\"biological\",\"enzyme\",\"nutritional_quality\",\"young\",\"undernutrition\",\"physical\",\"ratio\",\"account\",\"burden\",\"rural\",\"trait\",\"serve\",\"inequality\",\"monitor\",\"selection\",\"treat\",\"economic\",\"play\",\"reach\",\"experience\",\"4\",\"exercise\",\"maintain\",\"previous\",\"5\",\"i.e.\",\"Fig\",\"property\",\"balance\",\"currently\",\"alternative\",\"gain\",\"month\",\"conduct\",\"transcriptome\",\"dependent\",\"wheat\",\"cancer\",\"future_research\",\"efficiency\",\"define\",\"prevention\",\"highlight\",\"density\",\"meet\",\"result_suggest\",\"second\",\"aspect\",\"line\",\"morbidity\",\"colony\",\"n\",\"post\",\"fitness\",\"depend\",\"primary\",\"insight\",\"generate\",\"correlate\",\"derive\",\"continue\",\"food_security\",\"differ\",\"rich\",\"summary\",\"relevant\",\"30\",\"uptake\",\"insect\",\"c\",\"HFD\",\"offer\",\"requirement\",\"integrate\",\"nutritional_intervention\",\"conclude\",\"comparison\",\"adolescent\",\"specifically\",\"suitable\",\"paper\",\"childhood\",\"identification\",\"feature\",\"ecological\",\"P.\",\"sufficient\",\"broad\",\"sex\",\"shift\",\"researcher\",\"additionally\",\"fact\",\"expect\",\"TB\",\"larvae\",\"eat\",\"grain\",\"mouse\",\"enable\",\"pregnant_woman\",\"strongly\",\"government\",\"biomarker\",\"bee\",\"receive\",\"analyze\",\"biomass\",\"lifestyle\",\"facilitate\",\"note\",\"vivo\",\"concern\",\"implication\",\"negative\",\"literature\",\"possibly\",\"iron\",\"independent\",\"health_care\",\"mean\",\"hypothesis\",\"proportion\",\"contrast\",\"strengthen\",\"season\",\"subject\",\"accumulation\",\"death\",\"mediate\",\"create\",\"bacteria\",\"developmental\",\"stunt\",\"vary\",\"forage\",\"overweight_obesity\",\"programme\",\"develop_country\",\"nature\",\"encourage\",\"late\",\"pollen\",\"document\",\"turn\",\"nutritional_supplement\",\"variety\",\"high_level\",\"free\",\"gene_expression\",\"University\",\"rear\",\"receptor\",\"egg\",\"neuron\",\"drive\",\"relatively\",\"gender\",\"beneficial\",\"incidence\",\"previous_study\",\"monitoring\",\"normal\",\"height\",\"20\",\"behaviour\",\"study_provide\",\"absence\",\"participant\",\"generation\",\"central\",\"mainly\",\"oil\",\"plasma\",\"anaemia\",\"element\",\"inform\",\"simple\",\"25\",\"coverage\",\"home\",\"worker\",\"agricultural\",\"build\",\"respectively\",\"demand\",\"recovery\",\"prior\",\"counseling\",\"diabetes\",\"dry\",\"place\",\"dataset\",\"synthesis\",\"medium\",\"strain\",\"prey\",\"ingredient\",\"VTA\",\"interest\",\"interesting\",\"plan\",\"high_prevalence\",\"single\",\"habit\",\"lactation\",\"acute\",\"clear\",\"sub\",\"fetal\",\"immune\",\"world\",\"better\",\"traditional\",\"sugar\",\"rat\",\"C.\",\"marine\",\"pssm2_WB\",\"strength\",\"perception\",\"public\",\"certain\",\"nutrition_education\",\"barrier\",\"measurement\",\"degree\",\"gap\",\"child_nutrition\",\"complete\",\"decision\",\"transition\",\"meal\",\"mass\",\"regard\",\"probably\",\"bone\",\"result_indicate\",\"study_suggest\",\"collect\",\"breastfeed\",\"socioeconomic\",\"high_risk\",\"cognitive\",\"examine\",\"cellular\",\"IUGR\",\"neonatal\",\"Bangladesh\",\"severe\",\"far\",\"bear\",\"gestation\",\"related\",\"characterize\",\"study_demonstrate\",\"reproductive\",\"malaria\",\"technique\",\"breeding\",\"complication\",\"tolerance\",\"carbohydrate\",\"S.\",\"little\",\"root\",\"nitrogen\",\"biochemical\",\"end\",\"network\",\"raise\",\"label\",\"wealth\",\"nutritional_value\",\"tree\",\"relation\",\"vulnerable\",\"substantial\",\"antioxidant\",\"red\",\"input\",\"elucidate\",\"intestinal\",\"elderly\",\"surface\",\"organism\",\"15\",\"daily\",\"hand\",\"CO2\",\"multi\",\"pre\",\"provision\",\"early_life\",\"adapt\",\"N\",\"fast\",\"generally\",\"warrant\",\"salt\",\"alteration\",\"utilization\",\"start\",\"guide\",\"underlie\",\"close\",\"offspring\",\"adverse\",\"co\",\"criterion\",\"exhibit\",\"21\",\"adaptation\",\"length\",\"sequence\",\"genome\",\"drug\",\"Health\",\"view\",\"aid\",\"cultural\",\"objective\",\"introduce\",\"nutrition_intervention\",\"policy_maker\",\"guideline\",\"baseline\",\"diverse\",\"half\",\"self\",\"China\",\"delivery\",\"vitro\",\"50\",\"adherence\",\"chronic\",\"\\u03b2\",\"disorder\",\"lactate\",\"validate\",\"oxidation\",\"\\u00b0_C\",\"cycle\",\"16\",\"Mn\",\"serum\",\"leaf\",\"C\",\"bacterial\",\"oral\",\"skin\",\"artificial_diet\",\"transmission\",\"extent\",\"framework\",\"large_scale\",\"section\",\"face\",\"incorporate\",\"deliver\",\"majority\",\"student\",\"7\",\"meat\",\"predictor\",\"trial\",\"inflammatory\",\"formation\",\"inflammation\",\"prenatal\",\"avoid\",\"easy\",\"successful\",\"ultimately\",\"mineral\",\"storage\",\"record\",\"emerge\",\"microbial\",\"market\",\"rise\",\"United_States\",\"phenotype\",\"14\",\"enrich\",\"fertilizer\",\"a.\",\"temporal\",\"pressure\",\"carbon\",\"+\",\"hominin\",\"AD1\",\"constitute\",\"error\",\"nutritional_stress\",\"abundance\",\"efficacy\",\"educational\",\"position\",\"productivity\",\"capture\",\"poverty\",\"review\",\"expand\",\"clearly\",\"effectively\",\"progress\",\"robust\",\"sustainable\",\"past\",\"duration\",\"Africa\",\"african\",\"breastfeeding\",\"larval\",\"Fe\",\"reproduction\",\"safe\",\"timing\",\"juice\",\"express\",\"shape\",\"diagnosis\",\"chemical\",\"processing\",\"hormone\",\"pathogen\",\"ad\",\"aphid\",\"origin\",\"seasonal\",\"healthcare\",\"color\",\"attempt\",\"choice\",\"finding_suggest\",\"magnitude\",\"compound\",\"Nepal\",\"fully\",\"improved\",\"impairment\",\"later\",\"increase_risk\",\"average\",\"parent\",\"goal\",\"advance\",\"consequently\",\"entire\",\"active\",\"12\",\"perspective\",\"phase\",\"moderate\",\"winter\",\"positively\",\"significant_difference\",\"cultivar\",\"8\",\"prospective\",\"sanitation\",\"crucial\",\"weight_gain\",\"material\",\"reason\",\"diagnostic\",\"India\",\"pasta\",\"manner\",\"10\",\"vegetation\",\"vaccination\",\"possibility\",\"intestine\",\"modification\",\"wide\",\"honey_bee\",\"project\",\"distance\",\"microbiota\",\"choline\"],\"word\":[\"study\",\"food\",\"increase\",\"high\",\"nutrition\",\"nutritional\",\"result\",\"effect\",\"level\",\"child\",\"diet\",\"improve\",\"low\",\"change\",\"need\",\"health\",\"different\",\"population\",\"model\",\"important\",\"datum\",\"intervention\",\"time\",\"include\",\"find\",\"provide\",\"factor\",\"patient\",\"finding\",\"reduce\",\"analysis\",\"nutrient\",\"development\",\"potential\",\"plant\",\"use\",\"associate\",\"protein\",\"base\",\"relate\",\"research\",\"suggest\",\"growth\",\"identify\",\"program\",\"individual\",\"specific\",\"treatment\",\"impact\",\"community\",\"group\",\"disease\",\"control\",\"consumption\",\"support\",\"condition\",\"woman\",\"gene\",\"target\",\"consider\",\"require\",\"concentration\",\"difference\",\"measure\",\"report\",\"cell\",\"system\",\"role\",\"affect\",\"early\",\"dietary\",\"decrease\",\"content\",\"develop\",\"specie\",\"approach\",\"response\",\"age\",\"indicate\",\"obesity\",\"present\",\"likely\",\"production\",\"human\",\"evidence\",\"information\",\"compare\",\"area\",\"strategy\",\"large\",\"policy\",\"feed\",\"influence\",\"method\",\"work\",\"process\",\"maternal\",\"outcome\",\"activity\",\"quality\",\"poor\",\"country\",\"pregnancy\",\"soil\",\"risk\",\"lead\",\"significant\",\"metabolic\",\"great\",\"contribute\",\"mechanism\",\"addition\",\"expression\",\"knowledge\",\"similar\",\"future\",\"mother\",\"product\",\"overall\",\"help\",\"period\",\"practice\",\"observe\",\"adult\",\"environment\",\"focus\",\"especially\",\"assess\",\"infant\",\"number\",\"cause\",\"non\",\"significantly\",\"malnutrition\",\"fat\",\"determine\",\"investigate\",\"possible\",\"function\",\"order\",\"design\",\"nutritional_status\",\"new\",\"source\",\"value\",\"rate\",\"pathway\",\"address\",\"region\",\"supplementation\",\"animal\",\"association\",\"benefit\",\"pattern\",\"resource\",\"parameter\",\"energy\",\"water\",\"stress\",\"demonstrate\",\"present_study\",\"1\",\"promote\",\"produce\",\"conclusion\",\"household\",\"sample\",\"good\",\"improvement\",\"status\",\"intake\",\"follow\",\"care\",\"crop\",\"access\",\"remain\",\"understand\",\"particularly\",\"fish\",\"exist\",\"weight\",\"like\",\"metabolism\",\"reduction\",\"infection\",\"public_health\",\"effort\",\"year\",\"relationship\",\"small\",\"state\",\"effective\",\"strong\",\"consumer\",\"scale\",\"management\",\"component\",\"current\",\"composition\",\"range\",\"female\",\"estimate\",\"profile\",\"temperature\",\"appear\",\"lack\",\"link\",\"behavior\",\"reveal\",\"way\",\"rice\",\"local\",\"involve\",\"additional\",\"long_term\",\"tissue\",\"variation\",\"characteristic\",\"necessary\",\"appropriate\",\"type\",\"test\",\"major\",\"cost\",\"host\",\"seed\",\"multiple\",\"available\",\"enhance\",\"stage\",\"feeding\",\"particular\",\"achieve\",\"day\",\"risk_factor\",\"regulation\",\"prevalence\",\"key\",\"know\",\"metabolite\",\"furthermore\",\"indicator\",\"investigation\",\"regulate\",\"brain\",\"evaluate\",\"education\",\"HIV\",\"problem\",\"ensure\",\"muscle\",\"variable\",\"environmental\",\"performance\",\"2\",\"future_study\",\"functional\",\"importance\",\"grow\",\"case\",\"site\",\"allow\",\"understanding\",\"fatty_acid\",\"life\",\"application\",\"service\",\"score\",\"induce\",\"highly\",\"limit\",\"assessment\",\"interaction\",\"clinical\",\"short\",\"occur\",\"prevent\",\"setting\",\"amino_acid\",\"describe\",\"propose\",\"positive\",\"context\",\"novel\",\"lipid\",\"index\",\"trend\",\"recommend\",\"e.g.\",\"training\",\"healthy\",\"relative\",\"challenge\",\"consequence\",\"size\",\"marker\",\"social\",\"genetic\",\"optimal\",\"exposure\",\"set\",\"issue\",\"mortality\",\"contain\",\"represent\",\"leave\",\"people\",\"stunting\",\"deficiency\",\"supplement\",\"old\",\"fruit\",\"essential\",\"yield\",\"ability\",\"finally\",\"total\",\"potentially\",\"complex\",\"BMI\",\"tool\",\"global\",\"comprehensive\",\"micronutrient\",\"gut\",\"survival\",\"action\",\"structure\",\"consume\",\"obtain\",\"adequate\",\"form\",\"long\",\"implement\",\"useful\",\"school\",\"standard\",\"availability\",\"despite\",\"body\",\"establish\",\"natural\",\"birth\",\"presence\",\"alter\",\"critical\",\"determinant\",\"combination\",\"family\",\"supply\",\"cow\",\"molecular\",\"predict\",\"opportunity\",\"attention\",\"term\",\"confirm\",\"male\",\"limitation\",\"activation\",\"field\",\"point\",\"waste\",\"experiment\",\"blood\",\"physiological\",\"signal\",\"vitamin\",\"evaluation\",\"survey\",\"live\",\"apply\",\"release\",\"forest\",\"observation\",\"milk\",\"accord\",\"physical_activity\",\"common\",\"limited\",\"explain\",\"able\",\"p\",\"example\",\"loss\",\"consistent\",\"glucose\",\"flour\",\"aim\",\"step\",\"decline\",\"recommendation\",\"urban\",\"3\",\"and/or\",\"horse\",\"general\",\"question\",\"combine\",\"contribution\",\"implementation\",\"explore\",\"recent\",\"direct\",\"capacity\",\"ecosystem\",\"reflect\",\"dynamic\",\"perform\",\"cohort\",\"study_show\",\"national\",\"previously\",\"detect\",\"culture\",\"acid\",\"experimental\",\"select\",\"liver\",\"add\",\"distribution\",\"food_insecurity\",\"basis\",\"main\",\"diversity\",\"habitat\",\"anemia\",\"biological\",\"enzyme\",\"nutritional_quality\",\"young\",\"undernutrition\",\"physical\",\"ratio\",\"account\",\"burden\",\"rural\",\"trait\",\"serve\",\"inequality\",\"monitor\",\"selection\",\"treat\",\"economic\",\"play\",\"reach\",\"experience\",\"4\",\"exercise\",\"maintain\",\"previous\",\"5\",\"i.e.\",\"Fig\",\"property\",\"balance\",\"currently\",\"alternative\",\"gain\",\"month\",\"conduct\",\"transcriptome\",\"dependent\",\"wheat\",\"cancer\",\"future_research\",\"efficiency\",\"define\",\"prevention\",\"highlight\",\"density\",\"meet\",\"result_suggest\",\"second\",\"aspect\",\"line\",\"morbidity\",\"colony\",\"n\",\"post\",\"fitness\",\"depend\",\"primary\",\"insight\",\"generate\",\"correlate\",\"derive\",\"continue\",\"food_security\",\"differ\",\"rich\",\"summary\",\"relevant\",\"30\",\"uptake\",\"insect\",\"c\",\"HFD\",\"offer\",\"requirement\",\"integrate\",\"nutritional_intervention\",\"conclude\",\"comparison\",\"adolescent\",\"specifically\",\"suitable\",\"paper\",\"childhood\",\"identification\",\"feature\",\"ecological\",\"P.\",\"sufficient\",\"broad\",\"sex\",\"shift\",\"researcher\",\"additionally\",\"fact\",\"expect\",\"TB\",\"larvae\",\"eat\",\"grain\",\"mouse\",\"enable\",\"pregnant_woman\",\"strongly\",\"government\",\"biomarker\",\"bee\",\"receive\",\"analyze\",\"biomass\",\"lifestyle\",\"facilitate\",\"note\",\"vivo\",\"concern\",\"implication\",\"negative\",\"literature\",\"possibly\",\"iron\",\"independent\",\"health_care\",\"mean\",\"hypothesis\",\"proportion\",\"contrast\",\"strengthen\",\"season\",\"subject\",\"accumulation\",\"death\",\"mediate\",\"create\",\"bacteria\",\"developmental\",\"stunt\",\"vary\",\"forage\",\"overweight_obesity\",\"programme\",\"develop_country\",\"nature\",\"encourage\",\"late\",\"pollen\",\"document\",\"turn\",\"nutritional_supplement\",\"variety\",\"high_level\",\"free\",\"gene_expression\",\"University\",\"rear\",\"receptor\",\"egg\",\"neuron\",\"drive\",\"relatively\",\"gender\",\"beneficial\",\"incidence\",\"previous_study\",\"monitoring\",\"normal\",\"height\",\"20\",\"behaviour\",\"study_provide\",\"absence\",\"participant\",\"generation\",\"central\",\"mainly\",\"oil\",\"plasma\",\"anaemia\",\"element\",\"inform\",\"simple\",\"25\",\"coverage\",\"home\",\"worker\",\"agricultural\",\"build\",\"respectively\",\"demand\",\"recovery\",\"prior\",\"counseling\",\"diabetes\",\"dry\",\"place\",\"dataset\",\"synthesis\",\"medium\",\"strain\",\"prey\",\"ingredient\",\"VTA\",\"interest\",\"interesting\",\"plan\",\"high_prevalence\",\"single\",\"habit\",\"lactation\",\"acute\",\"clear\",\"sub\",\"fetal\",\"immune\",\"world\",\"better\",\"traditional\",\"sugar\",\"rat\",\"C.\",\"marine\",\"pssm2_WB\",\"strength\",\"perception\",\"public\",\"certain\",\"nutrition_education\",\"barrier\",\"measurement\",\"degree\",\"gap\",\"child_nutrition\",\"complete\",\"decision\",\"transition\",\"meal\",\"mass\",\"regard\",\"probably\",\"bone\",\"result_indicate\",\"study_suggest\",\"collect\",\"breastfeed\",\"socioeconomic\",\"high_risk\",\"cognitive\",\"examine\",\"cellular\",\"IUGR\",\"neonatal\",\"Bangladesh\",\"severe\",\"far\",\"bear\",\"gestation\",\"related\",\"characterize\",\"study_demonstrate\",\"reproductive\",\"malaria\",\"technique\",\"breeding\",\"complication\",\"tolerance\",\"carbohydrate\",\"S.\",\"little\",\"root\",\"nitrogen\",\"biochemical\",\"end\",\"network\",\"raise\",\"label\",\"wealth\",\"nutritional_value\",\"tree\",\"relation\",\"vulnerable\",\"substantial\",\"antioxidant\",\"red\",\"input\",\"elucidate\",\"intestinal\",\"elderly\",\"surface\",\"organism\",\"15\",\"daily\",\"hand\",\"CO2\",\"multi\",\"pre\",\"provision\",\"early_life\",\"adapt\",\"N\",\"fast\",\"generally\",\"warrant\",\"salt\",\"alteration\",\"utilization\",\"start\",\"guide\",\"underlie\",\"close\",\"offspring\",\"adverse\",\"co\",\"criterion\",\"exhibit\",\"21\",\"adaptation\",\"length\",\"sequence\",\"genome\",\"drug\",\"Health\",\"view\",\"aid\",\"cultural\",\"objective\",\"introduce\",\"nutrition_intervention\",\"policy_maker\",\"guideline\",\"baseline\",\"diverse\",\"half\",\"self\",\"China\",\"delivery\",\"vitro\",\"50\",\"adherence\",\"chronic\",\"\\u03b2\",\"disorder\",\"lactate\",\"validate\",\"oxidation\",\"\\u00b0_C\",\"cycle\",\"16\",\"Mn\",\"serum\",\"leaf\",\"C\",\"bacterial\",\"oral\",\"skin\",\"artificial_diet\",\"transmission\",\"extent\",\"framework\",\"large_scale\",\"section\",\"face\",\"incorporate\",\"deliver\",\"majority\",\"student\",\"7\",\"meat\",\"predictor\",\"trial\",\"inflammatory\",\"formation\",\"inflammation\",\"prenatal\",\"avoid\",\"easy\",\"successful\",\"ultimately\",\"mineral\",\"storage\",\"record\",\"emerge\",\"microbial\",\"market\",\"rise\",\"United_States\",\"phenotype\",\"14\",\"enrich\",\"fertilizer\",\"a.\",\"temporal\",\"pressure\",\"carbon\",\"+\",\"hominin\",\"AD1\",\"constitute\",\"error\",\"nutritional_stress\",\"abundance\",\"efficacy\",\"educational\",\"position\",\"productivity\",\"capture\",\"poverty\",\"review\",\"expand\",\"clearly\",\"effectively\",\"progress\",\"robust\",\"sustainable\",\"past\",\"duration\",\"Africa\",\"african\",\"breastfeeding\",\"larval\",\"Fe\",\"reproduction\",\"safe\",\"timing\",\"juice\",\"express\",\"shape\",\"diagnosis\",\"chemical\",\"processing\",\"hormone\",\"pathogen\",\"ad\",\"aphid\",\"origin\",\"seasonal\",\"healthcare\",\"color\",\"attempt\",\"choice\",\"finding_suggest\",\"magnitude\",\"compound\",\"Nepal\",\"fully\",\"improved\",\"impairment\",\"later\",\"increase_risk\",\"average\",\"parent\",\"goal\",\"advance\",\"consequently\",\"entire\",\"active\",\"12\",\"perspective\",\"phase\",\"moderate\",\"winter\",\"positively\",\"significant_difference\",\"cultivar\",\"8\",\"prospective\",\"sanitation\",\"crucial\",\"weight_gain\",\"material\",\"reason\",\"diagnostic\",\"India\",\"pasta\",\"manner\",\"10\",\"vegetation\",\"vaccination\",\"possibility\",\"intestine\",\"modification\",\"wide\",\"honey_bee\",\"project\",\"distance\",\"microbiota\",\"choline\"],\"x\":{\"__ndarray__\":\"JCQ/QDEwBkKQzjTB50g/wZ+ckUE6A//AKaVKQOBflcEGmEXB8N1dQR/8I8FbR7FB8/1DwQ0NicHhWIpBsKaRQcXfosHFV3ZBNCuZwbeqx780xCFA3q+rQYX7xD/In4nBjZROwUDOgEFxcF/ADFKIQLIFikD1bAtBXIUfQNDPLcGN751BJY9KwUyE/MBNdUdBhDBzwRNBZsFNGoJBJ2SPwYecgUAzxVjBlOLRwY5r6cBA0rNBBl6OQVI7p8HZl31AyvaSwUYi40E3D2FBQyunQPUcGkAlKmVBXRHmQdfptcDpDjpBEi3DwSFHr0GJwQVCPlHKQb+iZsEvjJ3B55bxQfoFcEC+SZTBA46xQerw70HXO7DBCLpAQFCE/8DY9C3BLeKSvglnDEEUTdi/C6ptQcYIw8E/rtE/jv5ZwfBhbkFFRHvBi1MBwg9rwEFzoBfBsDVNQNSSzcBYxljBxhgkQXL4tUEAx5lAaoigQQx/ScEYOKLB70DxQBuDEMH+e4PBJnYNQd71MEHE72TBsUu2vwizRkEo3npBDevNQDqGYkG+/sNBMemCwaNG3D0yV2fBH0nQv1mGmUCmyPvBcbJZwQJ7x8GKrihB0gsTQocyOUGNsSRBdRAJQoyZ/cEzW2hB/uu3QNHZtEAlvU3BvzH+wX/u3kFEmklBRercv3sf6UEd3xVBzNHYQJX218FhoYLBozYhwfFtXEF8JjXBPGVZv7j2QzzYlmTBXQ+GwbO/OkH5fkdB4NATQbRGhEDM3D7BFcCEQE5FoEHXMszBUk2+QSynrUFS5Z5A5p8ewopbkkCzFNVBeGyOwc1Sy0F5qZXBeBlhwUC6TEFiF7C/JJyawUa70UDi6RvA4GW8QfFrzEEloco+G9SSQcT04cGwbTtBgKvfwe85EEEFmxTBFZDZQQZbxkHe+ytBTivmQc2Bt0CrGw+/YJPFQf2yL8GnWII/pLXWP/IZFcJhXLjB31vWvw02f7+ydJZBRZawQe2rGML/aQ/A+7WxwRyGQsGDNr1ByYYNwkZtDUJJfbBB5QzRQbP0u8HLGYtBco7owDch5cDQw4/BRl6kwej1F8AQ5Q3B5P0FweVD+kCi9BLC0ubjwIAoDMLW3mxB44TAwAyCy0FKkbHBkFqQvtm50cEouLbBCNFQwNOpx0CKMWJAs7jFQcacn8COgZdBg8JdweAJXUF45NDBCM6CwP+fhUHMip7AW7mvQWcO0sHTrDDBiKxSwSqwzEEmb7/AflDKQDuLycG2bmRB4wEiwqyzGMJPKK/BFayCQdZGRkH9/gZAZ1zPwR2lqcFNEuNBh+ePQWT5PEE1QwbA50v6QSfcMcFn9L1AlPsJQkPTtsEYzR7A3aX8QMScFMFY0nFBufAeQZVFrcDE+RpBzXcIwdYeYT9I0WDB0Lc2QTmNiMBQJdtB3L+RQWGrXMEqJwbCtbpmwUW548GBTejBWTkSQVueoUCase4/47RCQYwMRUH+PnPBoVChwZSx3T2ctqxBD2t+QYuGRsEhF2XB+xuRQBfILj81hvRBeN/8wVaJrL3PvxFCDbo2QJ9INsC2HrFBPkCjQDJIl8G1KXhByPWXwfYbF8GgAJTBk/YPQuGSg0HtOPhATzWPwaQHfMERkyHBcj8hQugMbUEnBqBB8eBYQXGUucGuNdLAvvUZwWHY1D4jusHBm25EwSXy+sBcT3nBmYznwZrNxD/nkOPB7b6lQYtFAsGEl9hBfWD7wcACKMFFuwFCakpqQbbVZT8DShzAsgEDQietHUI+DzvBnfdaQbqnakDcz0VBKjcbQpHU4sD8LhVBS7WywRpjtUGvfWRBYO0JQbo4nMGmCLDBoS3IQbxwokHVWpHAMQOGQadj70HkXqnAAxqcwUK7psGfqCBB3gbMQZm6UEAA3Q3C162PwTVCLcB+EvPBjvy5QIp8iz9KyXtBNPcQwR/yusG7+4bBHIPHwZX5AMERBRBB2RihQWayDcDqPgJCJ1UFwngQxUH9XAhC6WenwOCX9MAAFRjBkpMgwq2AlL/GWw/C9crPvvG6BcFKqgNCyjPTQWjpb8EFj7vBvaGgvzcVbkEPGw/BCQ+6PpB8rkEbo1dBD5HbvyNh08Fz/3c/3BfzQTvPgkA5b6jBPra9QMEavUG0mt2/C6chQICbJsA1vu7A06zowFe8W8H9ypvBXrA/wUTvEEFO5ChAcNONQVf5k8FPkI7BE24Nwid2lMEC/r5B9FjvwBUnY8HVgLTA/P1uQSnqkkFxwAlBjn+RQeqQ/D53MJC/KfxAQSDTt8GiZL7BrZTNPwSMnsEVCV1BC+wiQq0lX8F8QqjBrvmeQSTbYEHOVgbC13KzQMQLS0Ec7d9A72KGwQY1C8JLQZpBz1XwQZlVLEHxKTNBHVgnwMP4tz1aCaPAg1UQwcPnqMBO+6bAcYUjwdJ7ncABfNFBcHTEQI4MqEHlbTnAGMnJP5POuUBGbN3BmpqlQGAOYD83Js/A2kW/QK7LYMHOWgXBXbylQWPXl8E3tqg/t0z4QQve+MBeWJhBD4AVQk+Xy0GI9QxBtFgBwiTvCcFuwujBEqckQg0NgEHf4dJA2MLuP5AnBEECboXBZaSfQFmNtkEp/oxBjqCjwd+QPcFwqWzBJJjMwCqoGMJjbbTBGCgYQq5wZcEpr/XB5oKUQSOq+EGQJYlB1VEeQSJDGkKswPzAdapMQYDeq0FgRg1CHu+JwUvvL0H4NI3BwkKbwT9lwUEeAJY/Lpr+QdNStUEh24jBKG6LQZBoCkGodkjBnFEHQVxSN0GwqChBBGbawVI5J8EEvom/EOr0wYbpMEG8u4BBesb5vsxMlEEN04DB1cqBwbGLpkFZEhjBmgQTwTzUKcHdrk3ABHmoQT8oxsHw9OrArcIWwhXDrkGeWbxBTInlwQaRx8A5e8hADsPfQc3Mb8HyYp7BtgX0Pp4wIcGq0N5Bbr4fwEAmBUL2HZzBTRDNQJPUEcL6l7hBiTz9wUzQ1sHO/npBt+2xwYFGAsKpd3BBkhStQW4br0HGcow+WU5nQRzaAkAeQoPBnMZ5QJ5cI8GgKRvBWASswIj0HEJhUdvAAtXLwXYcqEBPw+HBKfj3wbuqz8GR+wXC5h+awd/uEUK1nI9Bws4dQFBUb0EwjgrCTBANQQ+U8sFr3xxAC/DgwVnKycBx4hlAV4eAwB7adEGT6P7B8LhuPwrjlsFKHPq9YaprwV3+VEH+fuTBf2x1Qbj2FULicBzCMgDQQW2ylkG0NuNBlna6QcZdIUH3C9/Ae+nvQQ674b6HQ3HB6d+7QQQi9EAXUZM/0ixrQaLq1EFtYaTB5G0fQeYc78FM2efBiWC5wD1hBsLPYqo9QN+JwV/JEEHuBXhBAw88QY0AKMGIjWbArqntwQXe/UBrMg7COJYCQUf808GPTMFBwJeLQSMnoEELyyvB5oX5wXOaysEH9evA87OiP4LIYMALVw1C5sTxQW8tY8HKLFpBMkvXQbtlBcHKh4/BOGGVQZs+pkFVgzHBah3kQQmhEsFaQsZBliYmwDyyY8EdEEvB2oY7wFETsMF7LQjAMxMgwkHysUEV4E5BgQuAQTQaB0EV8t5B+TimwW3crMGIdg9BoruHQQCShUDhY87BK/QAwsXoIcD7QOPB4GSIwTdFWEAaYkHAnzlQQfeotMGWV1bARhvAQHmYx8HmrkHBUKrIwSxZDUER7svBb85owbg6n8EFBvxBQnWfwZOQYkES3QxC39SJQXN1CkITV8FBRd7kwX5VmkHFukXACk9EwW5iscDIT9NBY2UewQP1R8Cc/VpATTuFQVHH5cHxLbTAzdi0wApnpMD2dBTBhYKBQVlDp0FbbP1B4g77QDLnn8FlQhjBn9jKwe2VBMLGhb1ApkuwwXyW08G6XOdBWzVuwXY3H0HvqcZADphkQbGp1cHGhyxBm/8dQUAtVcB3OHzBxC/gwKCRiMETZwlAUiGvwdXCtcEU4m3B/7hnQRfL5UHTJvVAkKp1QRKxir8B7HnB/8F1Qch+mEGBkrFBT7+nQHD+xsHdemNAzFaBQX9nukH6/w9BENG2wWKQ6MHeVsBBEk2vQAMPj8GDA1HB6le+wNmpAUFnuXfB4DUOwU/j1cE9AfpAGg4GQvcCccHy4hXByiJLwTpcXsFCHOXB+VmcwVg1yMFp3URB7ZnWwUsi7EEM/bFBxaQgQVY8/T8bJLDA06PAQSdLtkB7VslAbcFQwGJZI8H75Pw8f4q6Qa+2ZsEpw6TBO7XvwW7LkECQp5VBeDIBQnvYMz9MjLnBs37CwM45sMEUCd/B3VeCwA2j08GzLTdBxhK4vujqnUCGZhTB8V+nwDLWBMIFG5zAdPO3wc19l8HVkAFBJyRmwYz1A8JI7t9BLGXNwd8RdEHtprTAyz0BwslPJsEh5li/EbGbQddQrcB8175B9ERKQUq4i0H7dbNAH4sCQNExi0D9JGlBaVHJQeqBv0BSWbFBO2wCQUtA6EETh9RBTimVQeJEtUFsbO3BQisUwWe5zMFhCQpClXX+QPGEkUBkJ+XBvnXtwcEPFkEnzUPAUIeQQOfamcAevyfBQsjpwZYz5sAzE5vB4xYNwDZJ10FNWMLA4ArawBM+XUCVHiZB/PaiQYHfLcEzVZpBVtjFwfklFEEPdxfBFpC/wWxTvECyumnAqQI+QeVizUGrhaRBPxSywCeWEkIV5p0/8O5vwWIijkFzOYLBYrfbQWoHN8EMPLHBmJNRwUWDd8CI+4nARPcDQQDnrEGompVB/J0/QaSslEHwZhfCw0xDQRdF3UF9o3fB9jXwwWpcuMCr32lBeogGQDWRlsFIJarB5hqzwW2HoUEM4PnBzWAKwnNgMEGAZMTBsNcXwQ==\",\"dtype\":\"float32\",\"shape\":[910]},\"y\":{\"__ndarray__\":\"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\",\"dtype\":\"float32\",\"shape\":[910]}},\"selected\":{\"id\":\"1704\",\"type\":\"Selection\"},\"selection_policy\":{\"id\":\"1705\",\"type\":\"UnionRenderers\"}},\"id\":\"1613\",\"type\":\"ColumnDataSource\"},{\"attributes\":{},\"id\":\"1626\",\"type\":\"BasicTicker\"},{\"attributes\":{\"source\":{\"id\":\"1613\",\"type\":\"ColumnDataSource\"}},\"id\":\"1653\",\"type\":\"CDSView\"},{\"attributes\":{},\"id\":\"1700\",\"type\":\"BasicTickFormatter\"},{\"attributes\":{\"callback\":null},\"id\":\"1619\",\"type\":\"DataRange1d\"},{\"attributes\":{},\"id\":\"1702\",\"type\":\"BasicTickFormatter\"},{\"attributes\":{},\"id\":\"1705\",\"type\":\"UnionRenderers\"},{\"attributes\":{\"fill_alpha\":{\"value\":0.1},\"fill_color\":{\"value\":\"blue\"},\"line_alpha\":{\"value\":0.2},\"line_color\":{\"value\":\"blue\"},\"size\":{\"units\":\"screen\",\"value\":15},\"x\":{\"field\":\"x\"},\"y\":{\"field\":\"y\"}},\"id\":\"1649\",\"type\":\"Circle\"},{\"attributes\":{\"bottom_units\":\"screen\",\"fill_alpha\":{\"value\":0.5},\"fill_color\":{\"value\":\"lightgrey\"},\"left_units\":\"screen\",\"level\":\"overlay\",\"line_alpha\":{\"value\":1.0},\"line_color\":{\"value\":\"black\"},\"line_dash\":[4,4],\"line_width\":{\"value\":2},\"render_mode\":\"css\",\"right_units\":\"screen\",\"top_units\":\"screen\"},\"id\":\"1707\",\"type\":\"BoxAnnotation\"},{\"attributes\":{\"bottom_units\":\"screen\",\"fill_alpha\":{\"value\":0.5},\"fill_color\":{\"value\":\"lightgrey\"},\"left_units\":\"screen\",\"level\":\"overlay\",\"line_alpha\":{\"value\":1.0},\"line_color\":{\"value\":\"black\"},\"line_dash\":[4,4],\"line_width\":{\"value\":2},\"render_mode\":\"css\",\"right_units\":\"screen\",\"top_units\":\"screen\"},\"id\":\"1706\",\"type\":\"BoxAnnotation\"},{\"attributes\":{\"formatter\":{\"id\":\"1700\",\"type\":\"BasicTickFormatter\"},\"ticker\":{\"id\":\"1631\",\"type\":\"BasicTicker\"},\"visible\":false},\"id\":\"1630\",\"type\":\"LinearAxis\"},{\"attributes\":{\"callback\":null,\"tooltips\":\"@word\"},\"id\":\"1646\",\"type\":\"HoverTool\"},{\"attributes\":{\"callback\":null},\"id\":\"1617\",\"type\":\"DataRange1d\"},{\"attributes\":{\"grid_line_color\":null,\"ticker\":{\"id\":\"1626\",\"type\":\"BasicTicker\"}},\"id\":\"1629\",\"type\":\"Grid\"},{\"attributes\":{},\"id\":\"1623\",\"type\":\"LinearScale\"},{\"attributes\":{\"text\":\"t-SNE Word Embeddings\",\"text_font_size\":{\"value\":\"16pt\"}},\"id\":\"1615\",\"type\":\"Title\"},{\"attributes\":{\"dimension\":1,\"grid_line_color\":null,\"ticker\":{\"id\":\"1631\",\"type\":\"BasicTicker\"}},\"id\":\"1634\",\"type\":\"Grid\"},{\"attributes\":{},\"id\":\"1635\",\"type\":\"PanTool\"}],\"root_ids\":[\"1614\"]},\"title\":\"Bokeh Application\",\"version\":\"1.4.0\"}};\n",
       "  var render_items = [{\"docid\":\"eda8aa27-4399-4716-a9a2-c6be9c7f4b5d\",\"roots\":{\"1614\":\"8216fd15-7313-43af-a3e8-ba4aec556726\"}}];\n",
       "  root.Bokeh.embed.embed_items_notebook(docs_json, render_items);\n",
       "\n",
       "  }\n",
       "  if (root.Bokeh !== undefined) {\n",
       "    embed_document(root);\n",
       "  } else {\n",
       "    var attempts = 0;\n",
       "    var timer = setInterval(function(root) {\n",
       "      if (root.Bokeh !== undefined) {\n",
       "        clearInterval(timer);\n",
       "        embed_document(root);\n",
       "      } else {\n",
       "        attempts++;\n",
       "        if (attempts > 100) {\n",
       "          clearInterval(timer);\n",
       "          console.log(\"Bokeh: ERROR: Unable to run BokehJS code because BokehJS library is missing\");\n",
       "        }\n",
       "      }\n",
       "    }, 10, root)\n",
       "  }\n",
       "})(window);"
      ],
      "application/vnd.bokehjs_exec.v0+json": ""
     },
     "metadata": {
      "application/vnd.bokehjs_exec.v0+json": {
       "id": "1614"
      }
     },
     "output_type": "display_data"
    }
   ],
   "source": [
    "# add our DataFrame as a ColumnDataSource for Bokeh\n",
    "plot_data = ColumnDataSource(tsne_vecs)\n",
    "\n",
    "# create the plot and configure the\n",
    "# title, dimensions, and tools\n",
    "tsne_plot = figure(\n",
    "    title='t-SNE Word Embeddings',\n",
    "    plot_width=500,\n",
    "    plot_height=500,\n",
    "    tools=(\n",
    "        'pan, wheel_zoom, box_zoom,'\n",
    "        'box_select, reset'\n",
    "        ),\n",
    "    active_scroll='wheel_zoom'\n",
    "    )\n",
    "\n",
    "# add a hover tool to display words on roll-over\n",
    "tsne_plot.add_tools(\n",
    "    HoverTool(tooltips = '@word')\n",
    "    )\n",
    "\n",
    "# draw the words as circles on the plot\n",
    "tsne_plot.circle(\n",
    "    'x',\n",
    "    'y',\n",
    "    source=plot_data,\n",
    "    color='blue',\n",
    "    line_alpha=0.2,\n",
    "    fill_alpha=0.1,\n",
    "    size=15,\n",
    "    hover_line_color='black'\n",
    "    )\n",
    "\n",
    "# configure visual elements of the plotc\n",
    "tsne_plot.title.text_font_size = value('16pt')\n",
    "tsne_plot.xaxis.visible = False\n",
    "tsne_plot.yaxis.visible = False\n",
    "tsne_plot.grid.grid_line_color = None\n",
    "tsne_plot.outline_line_color = None\n",
    "\n",
    "# engage!\n",
    "show(tsne_plot);"
   ]
  }
 ],
 "metadata": {
  "kernelspec": {
   "display_name": "Python 3",
   "language": "python",
   "name": "python3"
  },
  "language_info": {
   "codemirror_mode": {
    "name": "ipython",
    "version": 3
   },
   "file_extension": ".py",
   "mimetype": "text/x-python",
   "name": "python",
   "nbconvert_exporter": "python",
   "pygments_lexer": "ipython3",
   "version": "3.7.3"
  },
  "toc": {
   "base_numbering": 1,
   "nav_menu": {},
   "number_sections": true,
   "sideBar": true,
   "skip_h1_title": true,
   "title_cell": "Table of Contents",
   "title_sidebar": "Contents",
   "toc_cell": false,
   "toc_position": {
    "height": "calc(100% - 180px)",
    "left": "10px",
    "top": "150px",
    "width": "371.424px"
   },
   "toc_section_display": true,
   "toc_window_display": true
  },
  "varInspector": {
   "cols": {
    "lenName": 16,
    "lenType": 16,
    "lenVar": 40
   },
   "kernels_config": {
    "python": {
     "delete_cmd_postfix": "",
     "delete_cmd_prefix": "del ",
     "library": "var_list.py",
     "varRefreshCmd": "print(var_dic_list())"
    },
    "r": {
     "delete_cmd_postfix": ") ",
     "delete_cmd_prefix": "rm(",
     "library": "var_list.r",
     "varRefreshCmd": "cat(var_dic_list()) "
    }
   },
   "types_to_exclude": [
    "module",
    "function",
    "builtin_function_or_method",
    "instance",
    "_Feature"
   ],
   "window_display": false
  }
 },
 "nbformat": 4,
 "nbformat_minor": 2
}
