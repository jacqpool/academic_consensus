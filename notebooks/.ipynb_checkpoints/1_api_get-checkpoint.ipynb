{
 "cells": [
  {
   "cell_type": "markdown",
   "metadata": {},
   "source": [
    "# Request data from PLOS API and save to JSON file\n",
    "***"
   ]
  },
  {
   "cell_type": "markdown",
   "metadata": {},
   "source": [
    "## Background\n",
    "\n",
    "Determine the degree of consensus in contentious academic fields. \n",
    "\n",
    "Collect title, publication date and summaries from scholarly articles containing a certain keyword or keywords. Apply NLP models to this data to identify and categorise concepts in this field and determine statistical significance between opposing 'truths', if any. Ranking these groups according to weighted influence will prove the degree of consensus of various approaches in a given academic field.\n",
    "\n",
    "To this end the academic_consensus model will search the abstracts of academic papers that contain the keyword \"nutrition\". \n",
    "\n",
    "## Approach\n",
    "\n",
    "In considering various APIs, this model will use the Public Library of Science (PLOS) API since it also includes searches by Abstract. According to the  \n",
    "[PLOS API Documentation](http://alm.plos.org/users/me) the API also does not require an API Key for access to almost all works, with the exception of sources that don't allow redistribution of data. An API Key would otherwise only be required to add or update works.\n",
    "\n",
    "Search fields to include:\n",
    "- publication_date\n",
    "- title\n",
    "- conclusions"
   ]
  },
  {
   "cell_type": "markdown",
   "metadata": {},
   "source": [
    "## Request\n",
    "### Packages and setup"
   ]
  },
  {
   "cell_type": "code",
   "execution_count": 5,
   "metadata": {
    "ExecuteTime": {
     "end_time": "2020-01-17T03:16:36.756799Z",
     "start_time": "2020-01-17T03:16:32.448287Z"
    },
    "scrolled": true
   },
   "outputs": [],
   "source": [
    "import pandas as pd\n",
    "import requests\n",
    "import time\n",
    "\n",
    "from IPython.core.interactiveshell import InteractiveShell"
   ]
  },
  {
   "cell_type": "code",
   "execution_count": 6,
   "metadata": {
    "ExecuteTime": {
     "end_time": "2020-01-17T03:16:36.769726Z",
     "start_time": "2020-01-17T03:16:36.764740Z"
    },
    "scrolled": true
   },
   "outputs": [],
   "source": [
    "# Set workspace\n",
    "\n",
    "# Set output charackters to 110 (not 79)\n",
    "pd.options.display.width = 110\n",
    "# To give multiple cell output. Not just the last command.\n",
    "InteractiveShell.ast_node_interactivity = 'last'"
   ]
  },
  {
   "cell_type": "markdown",
   "metadata": {},
   "source": [
    "### Input parameters"
   ]
  },
  {
   "cell_type": "code",
   "execution_count": 7,
   "metadata": {
    "ExecuteTime": {
     "end_time": "2020-01-17T03:16:36.784720Z",
     "start_time": "2020-01-17T03:16:36.780699Z"
    }
   },
   "outputs": [],
   "source": [
    "keyword = 'nutrition'\n",
    "API_KEY = 'YrBVAstBzZkfnsD_WzpX'"
   ]
  },
  {
   "cell_type": "code",
   "execution_count": 25,
   "metadata": {
    "ExecuteTime": {
     "end_time": "2020-01-17T03:30:15.387845Z",
     "start_time": "2020-01-17T03:30:15.382859Z"
    }
   },
   "outputs": [],
   "source": [
    "# Function to generate the required query string for the PLOS API\n",
    "def query_str(keyword, start_row, batch_size, API_KEY):\n",
    "    '''Compiles query string for relevant keyword for use in the PLOS API, \n",
    "    from the starting row and the batch size'''\n",
    "    address = 'http://api.plos.org/search?q=conclusions:\"' \\\n",
    "            + keyword \\\n",
    "            + '\"&fl=publication_date,title,conclusions&wt=json&start=' \\\n",
    "            + str(start_row) \\\n",
    "            + '&rows=' \\\n",
    "            + str(batch_size) \\\n",
    "            + '&api_key=' \\\n",
    "            + str(API_KEY)\n",
    "    return address"
   ]
  },
  {
   "cell_type": "code",
   "execution_count": 30,
   "metadata": {
    "ExecuteTime": {
     "end_time": "2020-01-17T03:34:38.001857Z",
     "start_time": "2020-01-17T03:34:37.997871Z"
    }
   },
   "outputs": [
    {
     "data": {
      "text/plain": [
       "'http://api.plos.org/search?q=conclusions:\"nutrition\"&fl=publication_date,title,conclusions&wt=json&start=1&rows=100&api_key=YrBVAstBzZkfnsD_WzpX'"
      ]
     },
     "execution_count": 30,
     "metadata": {},
     "output_type": "execute_result"
    }
   ],
   "source": [
    "# Example of query string\n",
    "query_str(keyword, 1, 100, API_KEY)"
   ]
  },
  {
   "cell_type": "markdown",
   "metadata": {},
   "source": [
    "### Fetch from PLOS API"
   ]
  },
  {
   "cell_type": "code",
   "execution_count": 28,
   "metadata": {
    "ExecuteTime": {
     "end_time": "2020-01-17T03:33:35.043757Z",
     "start_time": "2020-01-17T03:31:48.143698Z"
    },
    "code_folding": []
   },
   "outputs": [
    {
     "name": "stdout",
     "output_type": "stream",
     "text": [
      "Complete\n",
      "Number of documents: 794\n"
     ]
    },
    {
     "data": {
      "text/html": [
       "<div>\n",
       "<style scoped>\n",
       "    .dataframe tbody tr th:only-of-type {\n",
       "        vertical-align: middle;\n",
       "    }\n",
       "\n",
       "    .dataframe tbody tr th {\n",
       "        vertical-align: top;\n",
       "    }\n",
       "\n",
       "    .dataframe thead th {\n",
       "        text-align: right;\n",
       "    }\n",
       "</style>\n",
       "<table border=\"1\" class=\"dataframe\">\n",
       "  <thead>\n",
       "    <tr style=\"text-align: right;\">\n",
       "      <th></th>\n",
       "      <th>publication_date</th>\n",
       "      <th>title</th>\n",
       "      <th>conclusions</th>\n",
       "    </tr>\n",
       "  </thead>\n",
       "  <tbody>\n",
       "    <tr>\n",
       "      <th>0</th>\n",
       "      <td>2014-10-21T00:00:00Z</td>\n",
       "      <td>Psychological Determinants of Consumer Accepta...</td>\n",
       "      <td>[To the authors’ knowledge, this is the first ...</td>\n",
       "    </tr>\n",
       "    <tr>\n",
       "      <th>1</th>\n",
       "      <td>2015-03-13T00:00:00Z</td>\n",
       "      <td>Uncovering the Nutritional Landscape of Food</td>\n",
       "      <td>[In this study, we have developed a unique com...</td>\n",
       "    </tr>\n",
       "    <tr>\n",
       "      <th>2</th>\n",
       "      <td>2017-06-27T00:00:00Z</td>\n",
       "      <td>Developing and validating a scale to measure F...</td>\n",
       "      <td>[Food and nutrition literacy scale is a valid ...</td>\n",
       "    </tr>\n",
       "    <tr>\n",
       "      <th>3</th>\n",
       "      <td>2017-05-18T00:00:00Z</td>\n",
       "      <td>Quality of nutrition services in primary healt...</td>\n",
       "      <td>[The aim of the NNS, integrating nutrition ser...</td>\n",
       "    </tr>\n",
       "    <tr>\n",
       "      <th>4</th>\n",
       "      <td>2015-10-21T00:00:00Z</td>\n",
       "      <td>To See or Not to See: Do Front of Pack Nutriti...</td>\n",
       "      <td>[Our work strongly supports the idea that FOP ...</td>\n",
       "    </tr>\n",
       "  </tbody>\n",
       "</table>\n",
       "</div>"
      ],
      "text/plain": [
       "       publication_date                                              title  \\\n",
       "0  2014-10-21T00:00:00Z  Psychological Determinants of Consumer Accepta...   \n",
       "1  2015-03-13T00:00:00Z       Uncovering the Nutritional Landscape of Food   \n",
       "2  2017-06-27T00:00:00Z  Developing and validating a scale to measure F...   \n",
       "3  2017-05-18T00:00:00Z  Quality of nutrition services in primary healt...   \n",
       "4  2015-10-21T00:00:00Z  To See or Not to See: Do Front of Pack Nutriti...   \n",
       "\n",
       "                                         conclusions  \n",
       "0  [To the authors’ knowledge, this is the first ...  \n",
       "1  [In this study, we have developed a unique com...  \n",
       "2  [Food and nutrition literacy scale is a valid ...  \n",
       "3  [The aim of the NNS, integrating nutrition ser...  \n",
       "4  [Our work strongly supports the idea that FOP ...  "
      ]
     },
     "execution_count": 28,
     "metadata": {},
     "output_type": "execute_result"
    }
   ],
   "source": [
    "# Request the documents from the API in batches of 100 (maximum allowed) and append \n",
    "# it to a dataframe called 'corpus'\n",
    "\n",
    "# Note: A 10 second delay is built in between requests to comply with PLOS API rate limit\n",
    "\n",
    "# initialise paramters \n",
    "start_row = 1\n",
    "batch_size = 100 \n",
    "i = 1\n",
    "corpus = pd.DataFrame()\n",
    "\n",
    "# First request to initialise while loop\n",
    "r = requests.get(query_str(keyword, start_row, batch_size, API_KEY))\n",
    "time.sleep(10)\n",
    "json_data = r.json()\n",
    "\n",
    "while json_data['response']['docs']:\n",
    "    corpus = corpus.append(json_data['response']['docs'])\n",
    "    \n",
    "    start_row = (i * batch_size) + 1\n",
    "    \n",
    "    r = requests.get(query_str(keyword, start_row, batch_size, API_KEY), timeout=20)\n",
    "    time.sleep(10)\n",
    "    json_data = r.json()\n",
    "    \n",
    "    i += 1\n",
    "\n",
    "# reset index\n",
    "corpus = corpus.reset_index(drop=True)\n",
    "\n",
    "# show when complete\n",
    "print('Complete')\n",
    "print('Number of documents: {}'.format(corpus.shape[0]))\n",
    "corpus.head()"
   ]
  },
  {
   "cell_type": "markdown",
   "metadata": {},
   "source": [
    "### Save to file corpus.csv"
   ]
  },
  {
   "cell_type": "code",
   "execution_count": 29,
   "metadata": {
    "ExecuteTime": {
     "end_time": "2020-01-17T03:34:28.580746Z",
     "start_time": "2020-01-17T03:34:28.525895Z"
    }
   },
   "outputs": [],
   "source": [
    "# save to completed dataframe\n",
    "corpus.to_csv('../data/interim/corpus.csv', index=False)"
   ]
  }
 ],
 "metadata": {
  "kernelspec": {
   "display_name": "Python 3",
   "language": "python",
   "name": "python3"
  },
  "language_info": {
   "codemirror_mode": {
    "name": "ipython",
    "version": 3
   },
   "file_extension": ".py",
   "mimetype": "text/x-python",
   "name": "python",
   "nbconvert_exporter": "python",
   "pygments_lexer": "ipython3",
   "version": "3.7.3"
  },
  "toc": {
   "base_numbering": 1,
   "nav_menu": {},
   "number_sections": true,
   "sideBar": true,
   "skip_h1_title": false,
   "title_cell": "Table of Contents",
   "title_sidebar": "Contents",
   "toc_cell": false,
   "toc_position": {},
   "toc_section_display": true,
   "toc_window_display": false
  },
  "varInspector": {
   "cols": {
    "lenName": 16,
    "lenType": 16,
    "lenVar": 40
   },
   "kernels_config": {
    "python": {
     "delete_cmd_postfix": "",
     "delete_cmd_prefix": "del ",
     "library": "var_list.py",
     "varRefreshCmd": "print(var_dic_list())"
    },
    "r": {
     "delete_cmd_postfix": ") ",
     "delete_cmd_prefix": "rm(",
     "library": "var_list.r",
     "varRefreshCmd": "cat(var_dic_list()) "
    }
   },
   "types_to_exclude": [
    "module",
    "function",
    "builtin_function_or_method",
    "instance",
    "_Feature"
   ],
   "window_display": false
  }
 },
 "nbformat": 4,
 "nbformat_minor": 2
}
