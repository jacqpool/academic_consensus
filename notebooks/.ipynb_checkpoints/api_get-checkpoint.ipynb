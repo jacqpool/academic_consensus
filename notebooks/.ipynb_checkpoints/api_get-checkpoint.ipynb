{
 "cells": [
  {
   "cell_type": "markdown",
   "metadata": {},
   "source": [
    "# Connect to PLOS API and retrieve data into JSON file\n",
    "***"
   ]
  },
  {
   "cell_type": "markdown",
   "metadata": {},
   "source": [
    "## Introduction\n",
    "\n",
    "Determine the degree of consensus in contentious academic fields. \n",
    "\n",
    "Collect abstracts from scholarly articles containing a certain keyword or keywords. Apply NLP models to this data to identify and categorise concepts in this field and determine statistical significance between opposing 'truths', if any. Ranking these groups according to weighted influence will prove the degree of consensus of various approaches in a given academic field.\n",
    "\n",
    "## Application\n",
    "\n",
    "This problem might not have a clear business impact, but it could provide interesting information and insights on the degree of consensus in certain academic fields. \n",
    "\n",
    "In a recent debate between James Wilks and Chris Kresser on the [Joe Rogan Experience podcast](http://podcasts.joerogan.net/podcasts/james-wilks-chris-kresser-gamechangers-debate), it could not be agreed upon what the current academic consensus is in many areas regarding plant-based diets. In a different field, for a while, many also argued divided academic consensus on climate change, and some still do. \n",
    "\n",
    "While it seems that there is no official approach to determine academic consesus, at least in the medical field, no algorithms or guidelines exit to this end. Being able to capture and present key opposing views within an academic field as well as how they measure up againts each other, could provide common ground from where to debate relevant issues and avoid wasting time on semantics.  \n",
    "\n",
    "This tool could also provide quick reference for researchers and news reporters interested in specific academic or scientific fields, as well as new technologies. \n",
    "\n",
    "\n",
    "## Approach\n",
    "\n",
    "Inspired by the Joe Rogan Experience podcast mentioned above, this project will explore the contentious academic field of nutrition. To this end the academic_cosensus model will search the abstracts of academic papers that contain the keyword \"nutrition\".  \n",
    "\n",
    "Many APIs \n",
    "\n",
    "#### PLOS API\n",
    "\n",
    "\n",
    "\n",
    "\n",
    "### Outcome\n",
    "\n",
    "Nearly 10,000 expedition records and over 70,000 members records can then predict member success of a summitting a certain peak, during a certain time of year, with certain support mechanisms.  "
   ]
  },
  {
   "cell_type": "markdown",
   "metadata": {},
   "source": [
    "## 1. Packages and setup"
   ]
  },
  {
   "cell_type": "code",
   "execution_count": 120,
   "metadata": {
    "scrolled": true
   },
   "outputs": [],
   "source": [
    "import pandas as pd\n",
    "import numpy as np\n",
    "import re\n",
    "import random\n",
    "from IPython.core.interactiveshell import InteractiveShell"
   ]
  },
  {
   "cell_type": "code",
   "execution_count": 121,
   "metadata": {
    "scrolled": true
   },
   "outputs": [],
   "source": [
    "# Set workspace\n",
    "\n",
    "# Set output charackters to 110 (not 79)\n",
    "pd.options.display.width = 110\n",
    "# To give multiple cell output. Not just the last command.\n",
    "InteractiveShell.ast_node_interactivity = \"all\""
   ]
  },
  {
   "cell_type": "markdown",
   "metadata": {},
   "source": [
    "## 2. Peaks dataset cleaning"
   ]
  }
 ],
 "metadata": {
  "kernelspec": {
   "display_name": "Python 3",
   "language": "python",
   "name": "python3"
  },
  "language_info": {
   "codemirror_mode": {
    "name": "ipython",
    "version": 3
   },
   "file_extension": ".py",
   "mimetype": "text/x-python",
   "name": "python",
   "nbconvert_exporter": "python",
   "pygments_lexer": "ipython3",
   "version": "3.7.5"
  }
 },
 "nbformat": 4,
 "nbformat_minor": 2
}
