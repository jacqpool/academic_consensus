{
 "cells": [
  {
   "cell_type": "markdown",
   "metadata": {},
   "source": [
    "# Connect to PLOS API and retrieve data into JSON file\n",
    "***"
   ]
  },
  {
   "cell_type": "markdown",
   "metadata": {},
   "source": [
    "## Introduction\n",
    "\n",
    "Determine the degree of consensus in contentious academic fields. \n",
    "\n",
    "Collect abstracts from scholarly articles containing a certain keyword or keywords. Apply NLP models to this data to identify and categorise concepts in this field and determine statistical significance between opposing 'truths', if any. Ranking these groups according to weighted influence will prove the degree of consensus of various approaches in a given academic field.\n",
    "\n",
    "## Application\n",
    "\n",
    "This problem might not have a clear business impact, but it could provide interesting information and insights on the degree of consensus in certain academic fields. \n",
    "\n",
    "In a recent debate between James Wilks and Chris Kresser on the [Joe Rogan Experience podcast](http://podcasts.joerogan.net/podcasts/james-wilks-chris-kresser-gamechangers-debate), it could not be agreed upon what the current academic consensus is in many areas regarding plant-based diets. In a different field, for a while, many also argued divided academic consensus on climate change, and some still do. \n",
    "\n",
    "While it seems that there is no official approach to determine academic consesus, at least in the medical field, no algorithms or guidelines exit to this end. Being able to capture and present key opposing views within an academic field as well as how they measure up againts each other, could provide common ground from where to debate relevant issues and avoid wasting time on semantics.  \n",
    "\n",
    "This tool could also provide quick reference for researchers and news reporters interested in specific academic or scientific fields, as well as new technologies. \n",
    "\n",
    "\n",
    "## Approach\n",
    "\n",
    "Inspired by the Joe Rogan Experience podcast mentioned above, this project will explore the contentious academic field of nutrition. To this end the academic_cosensus model will search the abstracts of academic papers that contain the keyword \"nutrition\".  \n",
    "\n",
    "In considering a few APIs, the Public Library of Science (PLOS) API also included searches by Abstract. "
   ]
  },
  {
   "cell_type": "markdown",
   "metadata": {},
   "source": [
    "### Packages and setup"
   ]
  },
  {
   "cell_type": "code",
   "execution_count": 1,
   "metadata": {
    "ExecuteTime": {
     "end_time": "2020-01-10T10:56:17.610908Z",
     "start_time": "2020-01-10T10:56:13.461927Z"
    },
    "scrolled": true
   },
   "outputs": [],
   "source": [
    "from IPython.core.interactiveshell import InteractiveShell\n",
    "import pandas as pd\n"
   ]
  },
  {
   "cell_type": "code",
   "execution_count": 2,
   "metadata": {
    "ExecuteTime": {
     "end_time": "2020-01-10T10:56:18.714508Z",
     "start_time": "2020-01-10T10:56:18.709548Z"
    },
    "scrolled": true
   },
   "outputs": [],
   "source": [
    "# Set workspace\n",
    "\n",
    "# Set output charackters to 110 (not 79)\n",
    "pd.options.display.width = 110\n",
    "# To give multiple cell output. Not just the last command.\n",
    "InteractiveShell.ast_node_interactivity = \"all\""
   ]
  },
  {
   "cell_type": "markdown",
   "metadata": {},
   "source": [
    "### Connect to PLOS API"
   ]
  },
  {
   "cell_type": "code",
   "execution_count": null,
   "metadata": {},
   "outputs": [],
   "source": []
  }
 ],
 "metadata": {
  "kernelspec": {
   "display_name": "Python 3",
   "language": "python",
   "name": "python3"
  },
  "language_info": {
   "codemirror_mode": {
    "name": "ipython",
    "version": 3
   },
   "file_extension": ".py",
   "mimetype": "text/x-python",
   "name": "python",
   "nbconvert_exporter": "python",
   "pygments_lexer": "ipython3",
   "version": "3.7.3"
  },
  "toc": {
   "base_numbering": 1,
   "nav_menu": {},
   "number_sections": true,
   "sideBar": true,
   "skip_h1_title": false,
   "title_cell": "Table of Contents",
   "title_sidebar": "Contents",
   "toc_cell": false,
   "toc_position": {},
   "toc_section_display": true,
   "toc_window_display": false
  },
  "varInspector": {
   "cols": {
    "lenName": 16,
    "lenType": 16,
    "lenVar": 40
   },
   "kernels_config": {
    "python": {
     "delete_cmd_postfix": "",
     "delete_cmd_prefix": "del ",
     "library": "var_list.py",
     "varRefreshCmd": "print(var_dic_list())"
    },
    "r": {
     "delete_cmd_postfix": ") ",
     "delete_cmd_prefix": "rm(",
     "library": "var_list.r",
     "varRefreshCmd": "cat(var_dic_list()) "
    }
   },
   "types_to_exclude": [
    "module",
    "function",
    "builtin_function_or_method",
    "instance",
    "_Feature"
   ],
   "window_display": false
  }
 },
 "nbformat": 4,
 "nbformat_minor": 2
}
