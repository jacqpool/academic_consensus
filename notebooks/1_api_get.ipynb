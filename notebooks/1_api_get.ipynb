{
 "cells": [
  {
   "cell_type": "markdown",
   "metadata": {},
   "source": [
    "# Request data from PLOS API and save to JSON file\n",
    "***"
   ]
  },
  {
   "cell_type": "markdown",
   "metadata": {},
   "source": [
    "## Background\n",
    "\n",
    "Determine the degree of consensus in contentious academic fields. \n",
    "\n",
    "Collect title, publication date and summaries from scholarly articles containing a certain keyword or keywords. Apply NLP models to this data to identify and categorise concepts in this field and determine statistical significance between opposing 'truths', if any. Ranking these groups according to weighted influence will prove the degree of consensus of various approaches in a given academic field.\n",
    "\n",
    "To this end the academic_consensus model will search the abstracts of academic papers that contain the keyword \"nutrition\". \n",
    "\n",
    "## Approach\n",
    "\n",
    "In considering various APIs, this model will use the Public Library of Science (PLOS) API since it also includes searches by Abstract. According to the  \n",
    "[PLOS API Documentation](http://alm.plos.org/users/me) the API also does not require an API Key for access to almost all works, with the exception of sources that don't allow redistribution of data. An API Key would otherwise only be required to add or update works.\n",
    "\n",
    "Search fields to include:\n",
    "- publication_date\n",
    "- title\n",
    "- conclusions"
   ]
  },
  {
   "cell_type": "markdown",
   "metadata": {},
   "source": [
    "## Request\n",
    "### Packages and setup"
   ]
  },
  {
   "cell_type": "code",
   "execution_count": 119,
   "metadata": {
    "ExecuteTime": {
     "end_time": "2020-02-07T07:32:39.491832Z",
     "start_time": "2020-02-07T07:32:39.488859Z"
    },
    "scrolled": true
   },
   "outputs": [],
   "source": [
    "import pandas as pd\n",
    "import requests\n",
    "import time\n",
    "\n",
    "from IPython.core.interactiveshell import InteractiveShell"
   ]
  },
  {
   "cell_type": "code",
   "execution_count": 120,
   "metadata": {
    "ExecuteTime": {
     "end_time": "2020-02-07T07:32:39.684312Z",
     "start_time": "2020-02-07T07:32:39.680335Z"
    },
    "scrolled": true
   },
   "outputs": [],
   "source": [
    "# Set workspace\n",
    "\n",
    "# Set output charackters to 110 (not 79)\n",
    "pd.options.display.width = 110\n",
    "# To give multiple cell output. Not just the last command.\n",
    "InteractiveShell.ast_node_interactivity = 'last'"
   ]
  },
  {
   "cell_type": "markdown",
   "metadata": {},
   "source": [
    "### Input parameters"
   ]
  },
  {
   "cell_type": "code",
   "execution_count": 153,
   "metadata": {
    "ExecuteTime": {
     "end_time": "2020-02-07T08:46:37.166203Z",
     "start_time": "2020-02-07T08:46:37.162245Z"
    }
   },
   "outputs": [],
   "source": [
    "# Define keywords\n",
    "keywords = ['nutrition', 'diet']\n",
    "API_KEY = 'YrBVAstBzZkfnsD_WzpX'"
   ]
  },
  {
   "cell_type": "code",
   "execution_count": 154,
   "metadata": {
    "ExecuteTime": {
     "end_time": "2020-02-07T08:46:37.519541Z",
     "start_time": "2020-02-07T08:46:37.514590Z"
    }
   },
   "outputs": [
    {
     "data": {
      "text/plain": [
       "'nutrition\" \"diet'"
      ]
     },
     "execution_count": 154,
     "metadata": {},
     "output_type": "execute_result"
    }
   ],
   "source": [
    "# Show keywords together for query\n",
    "keyword = '\" \"'.join(keywords)\n",
    "keyword"
   ]
  },
  {
   "cell_type": "code",
   "execution_count": 155,
   "metadata": {
    "ExecuteTime": {
     "end_time": "2020-02-07T08:46:37.871600Z",
     "start_time": "2020-02-07T08:46:37.866647Z"
    }
   },
   "outputs": [],
   "source": [
    "# Function to generate the required query string for the PLOS API\n",
    "def query_str(keyword, start_row, batch_size, API_KEY):\n",
    "    '''Compiles query string for relevant keyword for use in the PLOS API, \n",
    "    from the starting row and the batch size'''\n",
    "    address = 'http://api.plos.org/search?q={! q.op=OR df=conclusions}\"' \\\n",
    "            + keyword \\\n",
    "            + '\"&fl=publication_date,title,conclusions&wt=json&start=' \\\n",
    "            + str(start_row) \\\n",
    "            + '&rows=' \\\n",
    "            + str(batch_size) \\\n",
    "            + '&api_key=' \\\n",
    "            + str(API_KEY)\n",
    "    return address"
   ]
  },
  {
   "cell_type": "code",
   "execution_count": 156,
   "metadata": {
    "ExecuteTime": {
     "end_time": "2020-02-07T08:46:38.247895Z",
     "start_time": "2020-02-07T08:46:38.242909Z"
    },
    "scrolled": true
   },
   "outputs": [
    {
     "data": {
      "text/plain": [
       "'http://api.plos.org/search?q={! q.op=OR df=conclusions}\"nutrition\" \"diet\"&fl=publication_date,title,conclusions&wt=json&start=1&rows=100&api_key=YrBVAstBzZkfnsD_WzpX'"
      ]
     },
     "execution_count": 156,
     "metadata": {},
     "output_type": "execute_result"
    }
   ],
   "source": [
    "# Example of query string\n",
    "query_str(keyword, 1, 100, API_KEY)"
   ]
  },
  {
   "cell_type": "markdown",
   "metadata": {},
   "source": [
    "### Fetch from PLOS API"
   ]
  },
  {
   "cell_type": "code",
   "execution_count": 157,
   "metadata": {
    "ExecuteTime": {
     "end_time": "2020-02-07T08:46:39.551683Z",
     "start_time": "2020-02-07T08:46:39.010157Z"
    }
   },
   "outputs": [
    {
     "name": "stdout",
     "output_type": "stream",
     "text": [
      "Number of articles found:  1531\n"
     ]
    }
   ],
   "source": [
    "# First check how many documents contain the keywords\n",
    "r = requests.get(query_str(keyword, 1, 1, API_KEY))\n",
    "check_data = r.json()\n",
    "n_articles = check_data['response']['numFound']\n",
    "print('Number of articles found: ', n_articles)"
   ]
  },
  {
   "cell_type": "code",
   "execution_count": 158,
   "metadata": {
    "ExecuteTime": {
     "end_time": "2020-02-07T08:46:43.606984Z",
     "start_time": "2020-02-07T08:46:43.602033Z"
    }
   },
   "outputs": [
    {
     "name": "stdout",
     "output_type": "stream",
     "text": [
      "Time to download data: 2.55 min\n"
     ]
    }
   ],
   "source": [
    "print('Time to download data: {:.2f} min'.format(n_articles / 100 * 10 / 60 ))"
   ]
  },
  {
   "cell_type": "code",
   "execution_count": 165,
   "metadata": {
    "ExecuteTime": {
     "end_time": "2020-02-07T09:00:59.888211Z",
     "start_time": "2020-02-07T08:57:52.027832Z"
    },
    "code_folding": [],
    "scrolled": true
   },
   "outputs": [
    {
     "name": "stdout",
     "output_type": "stream",
     "text": [
      "Starting...\n",
      "Articles downloaded: 500 of 1531\n",
      "Articles downloaded: 1000 of 1531\n",
      "Articles downloaded: 1500 of 1531\n",
      "Complete\n",
      "Number of documents: 1530\n",
      "Wall time: 3min 7s\n"
     ]
    },
    {
     "data": {
      "text/html": [
       "<div>\n",
       "<style scoped>\n",
       "    .dataframe tbody tr th:only-of-type {\n",
       "        vertical-align: middle;\n",
       "    }\n",
       "\n",
       "    .dataframe tbody tr th {\n",
       "        vertical-align: top;\n",
       "    }\n",
       "\n",
       "    .dataframe thead th {\n",
       "        text-align: right;\n",
       "    }\n",
       "</style>\n",
       "<table border=\"1\" class=\"dataframe\">\n",
       "  <thead>\n",
       "    <tr style=\"text-align: right;\">\n",
       "      <th></th>\n",
       "      <th>publication_date</th>\n",
       "      <th>title</th>\n",
       "      <th>conclusions</th>\n",
       "    </tr>\n",
       "  </thead>\n",
       "  <tbody>\n",
       "    <tr>\n",
       "      <th>0</th>\n",
       "      <td>2016-03-09T00:00:00Z</td>\n",
       "      <td>Pregnancy Requires Major Changes in the Qualit...</td>\n",
       "      <td>[Pregnancy tends to markedly widen the nutriti...</td>\n",
       "    </tr>\n",
       "    <tr>\n",
       "      <th>1</th>\n",
       "      <td>2016-08-23T00:00:00Z</td>\n",
       "      <td>Continental-Scale Patterns Reveal Potential fo...</td>\n",
       "      <td>[In all, given the geographic patterns in diet...</td>\n",
       "    </tr>\n",
       "    <tr>\n",
       "      <th>2</th>\n",
       "      <td>2015-06-17T00:00:00Z</td>\n",
       "      <td>Assessing Nutritional Parameters of Brown Bear...</td>\n",
       "      <td>[Previous studies have illustrated the differe...</td>\n",
       "    </tr>\n",
       "    <tr>\n",
       "      <th>3</th>\n",
       "      <td>2015-04-17T00:00:00Z</td>\n",
       "      <td>The Self-Reported Clinical Practice Behaviors ...</td>\n",
       "      <td>[The present study provides a valuable insight...</td>\n",
       "    </tr>\n",
       "    <tr>\n",
       "      <th>4</th>\n",
       "      <td>2017-10-09T00:00:00Z</td>\n",
       "      <td>The impact of nutritional supplement intake on...</td>\n",
       "      <td>[Our study shows that the propensity to consum...</td>\n",
       "    </tr>\n",
       "  </tbody>\n",
       "</table>\n",
       "</div>"
      ],
      "text/plain": [
       "       publication_date                                              title  \\\n",
       "0  2016-03-09T00:00:00Z  Pregnancy Requires Major Changes in the Qualit...   \n",
       "1  2016-08-23T00:00:00Z  Continental-Scale Patterns Reveal Potential fo...   \n",
       "2  2015-06-17T00:00:00Z  Assessing Nutritional Parameters of Brown Bear...   \n",
       "3  2015-04-17T00:00:00Z  The Self-Reported Clinical Practice Behaviors ...   \n",
       "4  2017-10-09T00:00:00Z  The impact of nutritional supplement intake on...   \n",
       "\n",
       "                                         conclusions  \n",
       "0  [Pregnancy tends to markedly widen the nutriti...  \n",
       "1  [In all, given the geographic patterns in diet...  \n",
       "2  [Previous studies have illustrated the differe...  \n",
       "3  [The present study provides a valuable insight...  \n",
       "4  [Our study shows that the propensity to consum...  "
      ]
     },
     "execution_count": 165,
     "metadata": {},
     "output_type": "execute_result"
    }
   ],
   "source": [
    "%%time\n",
    "# Request the documents from the API in batches of 100 (maximum allowed) and append \n",
    "# it to a dataframe called 'corpus'\n",
    "\n",
    "# Note: A 10 second delay is built in between requests to comply with PLOS API rate limit\n",
    "\n",
    "# initialise paramters \n",
    "start_row = 1\n",
    "batch_size = 100 \n",
    "i = 1\n",
    "corpus = pd.DataFrame()\n",
    "\n",
    "# First request to initialise while loop\n",
    "r = requests.get(query_str(keyword, start_row, batch_size, API_KEY))\n",
    "time.sleep(10)\n",
    "json_data = r.json()\n",
    "\n",
    "print('Starting...')\n",
    "\n",
    "while json_data['response']['docs']:\n",
    "    corpus = corpus.append(json_data['response']['docs'])\n",
    "    \n",
    "    start_row = (i * batch_size) + 1\n",
    "    \n",
    "    r = requests.get(query_str(keyword, start_row, batch_size, API_KEY), timeout=20)\n",
    "    time.sleep(10)\n",
    "    json_data = r.json()\n",
    "    \n",
    "    if i % 5 == 0:\n",
    "        print('Articles downloaded: {} of {}'.format(i*100, n_articles))\n",
    "    \n",
    "    i += 1\n",
    "\n",
    "# reset index\n",
    "corpus = corpus.reset_index(drop=True)\n",
    "\n",
    "# show when complete\n",
    "print('Complete')\n",
    "print('Number of documents: {}'.format(corpus.shape[0]))\n",
    "corpus.head()"
   ]
  },
  {
   "cell_type": "markdown",
   "metadata": {},
   "source": [
    "### Save to file corpus.csv"
   ]
  },
  {
   "cell_type": "code",
   "execution_count": 166,
   "metadata": {
    "ExecuteTime": {
     "end_time": "2020-02-07T09:02:27.892498Z",
     "start_time": "2020-02-07T09:02:27.816538Z"
    }
   },
   "outputs": [],
   "source": [
    "# save to completed dataframe\n",
    "corpus.to_csv('../data/interim/corpus_raw.csv', index=False)"
   ]
  }
 ],
 "metadata": {
  "kernelspec": {
   "display_name": "Python 3",
   "language": "python",
   "name": "python3"
  },
  "language_info": {
   "codemirror_mode": {
    "name": "ipython",
    "version": 3
   },
   "file_extension": ".py",
   "mimetype": "text/x-python",
   "name": "python",
   "nbconvert_exporter": "python",
   "pygments_lexer": "ipython3",
   "version": "3.7.3"
  },
  "toc": {
   "base_numbering": 1,
   "nav_menu": {},
   "number_sections": true,
   "sideBar": true,
   "skip_h1_title": false,
   "title_cell": "Table of Contents",
   "title_sidebar": "Contents",
   "toc_cell": false,
   "toc_position": {},
   "toc_section_display": true,
   "toc_window_display": false
  },
  "varInspector": {
   "cols": {
    "lenName": 16,
    "lenType": 16,
    "lenVar": 40
   },
   "kernels_config": {
    "python": {
     "delete_cmd_postfix": "",
     "delete_cmd_prefix": "del ",
     "library": "var_list.py",
     "varRefreshCmd": "print(var_dic_list())"
    },
    "r": {
     "delete_cmd_postfix": ") ",
     "delete_cmd_prefix": "rm(",
     "library": "var_list.r",
     "varRefreshCmd": "cat(var_dic_list()) "
    }
   },
   "types_to_exclude": [
    "module",
    "function",
    "builtin_function_or_method",
    "instance",
    "_Feature"
   ],
   "window_display": false
  }
 },
 "nbformat": 4,
 "nbformat_minor": 2
}
